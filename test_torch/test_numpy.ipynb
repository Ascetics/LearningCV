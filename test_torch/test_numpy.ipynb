{
 "cells": [
  {
   "cell_type": "code",
   "execution_count": 1,
   "metadata": {},
   "outputs": [],
   "source": [
    "import numpy as np"
   ]
  },
  {
   "cell_type": "code",
   "execution_count": 71,
   "metadata": {},
   "outputs": [
    {
     "name": "stdout",
     "output_type": "stream",
     "text": [
      "[[ 0.  1.  2.  3.]\n",
      " [ 4.  5.  6.  7.]\n",
      " [ 8.  9. 10. 11.]\n",
      " [12. 13. 14. 15.]\n",
      " [16. 17. 18. 19.]] float32\n",
      "[[1 2 3]\n",
      " [4 5 6]] int64\n"
     ]
    }
   ],
   "source": [
    "# 创建数组，指定数据类型\n",
    "a = np.array([[i for i in range(r*4, (r+1)*4)] for r in range(5)], dtype=np.float32)\n",
    "b = np.array([[1, 2, 3], [4, 5, 6]])\n",
    "print(a, a.dtype)\n",
    "print(b, b.dtype)"
   ]
  },
  {
   "cell_type": "code",
   "execution_count": 72,
   "metadata": {},
   "outputs": [
    {
     "name": "stdout",
     "output_type": "stream",
     "text": [
      "shape (4, 5, 1)\n",
      "ndim 3\n",
      "size 20\n",
      "dtype float32\n",
      "itemsize 4\n"
     ]
    }
   ],
   "source": [
    "# 5x4 reshape一下变 4x5x1\n",
    "a = a.reshape((4, 5, 1))\n",
    "\n",
    "print('shape', a.shape) # 数组的维度\n",
    "print('ndim', a.ndim)   # 数组的轴，也就是rank，也就是shape的的大小\n",
    "print('size', a.size)   # 数组元素的个数，也就是shape乘起来\n",
    "print('dtype', a.dtype) # 数组元素数据类型\n",
    "print('itemsize', a.itemsize) # 数组有元素数据类型的大小，float32， 32/8=4"
   ]
  },
  {
   "cell_type": "code",
   "execution_count": 83,
   "metadata": {},
   "outputs": [
    {
     "name": "stdout",
     "output_type": "stream",
     "text": [
      "a =\n",
      "[[1 2 3]\n",
      " [4 5 6]]\n",
      "\n",
      "b =\n",
      "[[1 1]\n",
      " [0 1]]\n",
      "\n",
      "c =\n",
      "[[2 4]\n",
      " [3 1]]\n",
      "\n",
      "b mul c =\n",
      "[[2 4]\n",
      " [0 1]]\n",
      "\n",
      "b matmul a =\n",
      "[[5 7 9]\n",
      " [4 5 6]]\n",
      "\n",
      "a's transpose =\n",
      "[[1 4]\n",
      " [2 5]\n",
      " [3 6]]\n",
      "\n"
     ]
    }
   ],
   "source": [
    "def print_mat(mat, name):\n",
    "    print(name, '=')\n",
    "    print(mat)\n",
    "    print()\n",
    "    \n",
    "a = np.array([[1, 2, 3], [4, 5, 6]])\n",
    "b = np.array([[1, 1], [0, 1]])\n",
    "c = np.array([[2, 4], [3, 1]])\n",
    "\n",
    "print_mat(a, 'a')\n",
    "print_mat(b, 'b')\n",
    "print_mat(c, 'c')\n",
    "\n",
    "# 矩阵运算\n",
    "print_mat(b*c, 'b mul c')\n",
    "print_mat(b@a, 'b matmul a')\n",
    "# 矩阵转置\n",
    "print_mat(a.T, 'a\\'s transpose')"
   ]
  },
  {
   "cell_type": "code",
   "execution_count": 87,
   "metadata": {},
   "outputs": [
    {
     "data": {
      "text/plain": [
       "(array([100, 101, 102]), array([[  2,  13],\n",
       "        [102, 113]]))"
      ]
     },
     "execution_count": 87,
     "metadata": {},
     "output_type": "execute_result"
    }
   ],
   "source": [
    "# 索引\n",
    "\n",
    "c = np.array( [[[  0,  1,  2],               # a 3D array (two stacked 2D arrays)\n",
    "                [ 10, 12, 13]],\n",
    "               [[100,101,102],\n",
    "                [110,112,113]]])\n",
    "c[1, 0, ...],\\\n",
    "c[...,2]"
   ]
  },
  {
   "cell_type": "code",
   "execution_count": 89,
   "metadata": {},
   "outputs": [
    {
     "name": "stdout",
     "output_type": "stream",
     "text": [
      "1\n",
      "2\n",
      "3\n",
      "4\n",
      "5\n",
      "6\n"
     ]
    }
   ],
   "source": [
    "# 迭代可以for循环逐个rank迭代\n",
    "# 也可以用flat属性，迭代所有的元素\n",
    "a = np.array([[1,2,3],\n",
    "              [4,5,6]\n",
    "             ])\n",
    "for i in a.flat:\n",
    "    print(i)"
   ]
  },
  {
   "cell_type": "code",
   "execution_count": 111,
   "metadata": {},
   "outputs": [
    {
     "name": "stdout",
     "output_type": "stream",
     "text": [
      "c1 =\n",
      "[[1]\n",
      " [4]]\n",
      "\n",
      "c2 =\n",
      "[[2]\n",
      " [5]]\n",
      "\n",
      "c3 =\n",
      "[[3]\n",
      " [6]]\n",
      "\n",
      "r1 =\n",
      "[[1 2 3]]\n",
      "\n",
      "r2 =\n",
      "[[4 5 6]]\n",
      "\n",
      "r1 =\n",
      "[[1 2 3]]\n",
      "\n",
      "r2 =\n",
      "[[4 5 6]]\n",
      "\n"
     ]
    }
   ],
   "source": [
    "# 数组的拆分\n",
    "a = np.array([[1, 2, 3],\n",
    "              [4, 5, 6]\n",
    "             ])\n",
    "# 按照列拆分,水平拆分\n",
    "c1, c2, c3 = np.hsplit(a, a.shape[1])\n",
    "print_mat(c1, 'c1')\n",
    "print_mat(c2, 'c2')\n",
    "print_mat(c3, 'c3')\n",
    "\n",
    "# 按照行拆分，竖直拆分\n",
    "r1, r2 = np.vsplit(a, a.shape[0])\n",
    "print_mat(r1, 'r1')\n",
    "print_mat(r2, 'r2')\n",
    "\n",
    "# 以上都不实用，最好是用array_split可以指定拆分任意维度\n",
    "r1, r2 = np.array_split(a, a.shape[0])\n",
    "print_mat(r1, 'r1')\n",
    "print_mat(r2, 'r2')"
   ]
  },
  {
   "cell_type": "code",
   "execution_count": null,
   "metadata": {},
   "outputs": [],
   "source": []
  }
 ],
 "metadata": {
  "kernelspec": {
   "display_name": "Python 3",
   "language": "python",
   "name": "python3"
  },
  "language_info": {
   "codemirror_mode": {
    "name": "ipython",
    "version": 3
   },
   "file_extension": ".py",
   "mimetype": "text/x-python",
   "name": "python",
   "nbconvert_exporter": "python",
   "pygments_lexer": "ipython3",
   "version": "3.6.8"
  }
 },
 "nbformat": 4,
 "nbformat_minor": 2
}
