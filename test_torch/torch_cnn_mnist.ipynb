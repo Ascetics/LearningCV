{
 "cells": [
  {
   "cell_type": "code",
   "execution_count": 43,
   "metadata": {
    "collapsed": true
   },
   "outputs": [
    {
     "data": {
      "text/plain": [
       "(torch.Size([60000, 28, 28]),\n torch.Size([60000]),\n torch.Size([10000, 28, 28]),\n torch.Size([10000]))"
      ]
     },
     "execution_count": 69,
     "metadata": {},
     "output_type": "execute_result"
    }
   ],
   "source": [
    "import torch\n",
    "import torch.nn as nn\n",
    "import torch.utils.data as data\n",
    "import torchvision\n",
    "import matplotlib.pyplot as plt\n"
   ]
  },
  {
   "cell_type": "code",
   "execution_count": 69,
   "metadata": {
    "collapsed": true
   },
   "outputs": [
    {
     "data": {
      "text/plain": [
       "(torch.Size([60000, 28, 28]),\n torch.Size([60000]),\n torch.Size([10000, 28, 28]),\n torch.Size([10000]))"
      ]
     },
     "execution_count": 69,
     "metadata": {},
     "output_type": "execute_result"
    }
   ],
   "source": [
    "DOWNLOAD_MNIST = False  # 不下载\n",
    "ROOT = '/root/private/torch_datasets/'\n",
    "\n",
    "BATCH_SIZE = 500\n",
    "NUM_WORKERS = 8\n",
    "\n",
    "LR = 0.001  # 学习率\n",
    "\n",
    "train_data = torchvision.datasets.MNIST(\n",
    "    root=ROOT,  # 数据集文件\n",
    "    train=True,  # 训练集数据\n",
    "    transform=torchvision.transforms.ToTensor(),  # 变成tensor，做归一化处理\n",
    "    download=DOWNLOAD_MNIST\n",
    ")\n",
    "\n",
    "train_loader = data.DataLoader(\n",
    "    dataset=train_data,\n",
    "    batch_size=BATCH_SIZE,\n",
    "    shuffle=True\n",
    "    # num_workers=NUM_WORKERS\n",
    ")\n",
    "\n",
    "test_data = torchvision.datasets.MNIST(\n",
    "    root=ROOT,\n",
    "    train=False,  # 测试集数据\n",
    "    transform=torchvision.transforms.ToTensor(),\n",
    "    download=DOWNLOAD_MNIST\n",
    ")\n",
    "\n",
    "test_loader = data.DataLoader(\n",
    "    dataset=test_data,\n",
    "    batch_size=BATCH_SIZE,\n",
    "    shuffle=True\n",
    "    # num_workers=NUM_WORKERS\n",
    ")\n",
    "\n",
    "train_data.data.shape, train_data.targets.shape, \\\n",
    "test_data.data.shape, test_data.targets.shape\n"
   ]
  },
  {
   "cell_type": "code",
   "execution_count": 70,
   "metadata": {},
   "outputs": [],
   "source": [
    "class CNN(nn.Module):\n",
    "    def __init__(self):\n",
    "        super(CNN, self).__init__()\n",
    "        self.conv1 = nn.Sequential(\n",
    "            nn.Conv2d(\n",
    "                in_channels=1,\n",
    "                out_channels=16,\n",
    "                kernel_size=5,\n",
    "                stride=1,\n",
    "                padding=2\n",
    "            ),\n",
    "            nn.ReLU(),\n",
    "            nn.MaxPool2d(2),  # 16*14*14\n",
    "        )\n",
    "        self.conv2 = nn.Sequential(\n",
    "            nn.Conv2d(\n",
    "                in_channels=16,\n",
    "                out_channels=32,\n",
    "                kernel_size=5,\n",
    "                stride=1,\n",
    "                padding=2\n",
    "            ),\n",
    "            nn.ReLU(),\n",
    "            nn.MaxPool2d(2)  # 32*7*7\n",
    "        )\n",
    "        self.out = nn.Linear(\n",
    "            in_features=32 * 7 * 7,\n",
    "            out_features=10\n",
    "        )\n",
    "\n",
    "    def forward(self, x):\n",
    "        x = self.conv1(x)\n",
    "        x = self.conv2(x)\n",
    "        x = x.view(x.size(0), -1) # reshape\n",
    "        output = self.out(x)\n",
    "        return output\n"
   ]
  },
  {
   "cell_type": "code",
   "execution_count": 86,
   "metadata": {
    "collapsed": false
   },
   "outputs": [
    {
     "name": "stdout",
     "output_type": "stream",
     "text": [
      "Epoch: 0 | Loss: 0.15 | Accuracy: 95.58%\n"
     ]
    },
    {
     "name": "stdout",
     "output_type": "stream",
     "text": [
      "Epoch: 1 | Loss: 0.08 | Accuracy: 97.28%\n"
     ]
    },
    {
     "name": "stdout",
     "output_type": "stream",
     "text": [
      "Epoch: 2 | Loss: 0.06 | Accuracy: 97.87%\n"
     ]
    },
    {
     "name": "stdout",
     "output_type": "stream",
     "text": [
      "Epoch: 3 | Loss: 0.07 | Accuracy: 98.46%\n"
     ]
    },
    {
     "name": "stdout",
     "output_type": "stream",
     "text": [
      "Epoch: 4 | Loss: 0.03 | Accuracy: 98.62%\n"
     ]
    }
   ],
   "source": [
    "# 由于test_data没有用transform，所以要手动转换成张量，并进行归一化\n",
    "test_x = torch.unsqueeze(test_data.data, dim=1).type(torch.FloatTensor).cuda() / 255.\n",
    "test_y = test_data.targets.cuda()\n",
    "# test_x.shape, test_y.shape\n",
    "\n",
    "# device = 'cuda' if torch.cuda.is_available() else cpu\n",
    "# dev_count = torch.cuda.device_count()\n",
    "# torch.cuda.set_device(3)\n",
    "cnn = CNN()\n",
    "cnn.cuda()\n",
    "\n",
    "cnn_optim = torch.optim.Adam(cnn.parameters(), lr=LR)\n",
    "cnn_loss_func = nn.CrossEntropyLoss()\n",
    "\n",
    "EPOCH=5\n",
    "for epoch in range(EPOCH):\n",
    "    for step, (d_x, d_y) in enumerate(train_loader):\n",
    "        d_x = d_x.cuda()\n",
    "        d_y = d_y.cuda()\n",
    "        output = cnn(d_x)\n",
    "        cnn_loss = cnn_loss_func(output, d_y)\n",
    "        cnn_optim.zero_grad()\n",
    "        cnn_loss.backward()\n",
    "        cnn_optim.step()\n",
    "\n",
    "    acc_count = torch.FloatTensor([0])\n",
    "    for t_step, (t_x, t_y) in enumerate(test_loader):\n",
    "        t_x = t_x.cuda()\n",
    "        t_y = t_y.cuda()\n",
    "        t_output = cnn(t_x)\n",
    "        pred_y = torch.max(t_output, 1)[1].cuda().data\n",
    "        acc_count += torch.sum(pred_y == t_y).cuda().type(torch.FloatTensor)\n",
    "    acc = acc_count / float(test_data.targets.shape[0])\n",
    "    acc = acc.numpy()[0]\n",
    "    content = 'Epoch: {:d} | Loss: {:.2f} | Accuracy: {:.2%}'\n",
    "    print(content.format(epoch, cnn_loss.cuda().data, acc))\n"
   ]
  },
  {
   "cell_type": "code",
   "execution_count": 90,
   "metadata": {},
   "outputs": [],
   "source": [
    "torch.save(cnn, './test_torch/CNNModelOfMNIST.pkl')\n",
    "torch.save(cnn.state_dict(), './test_torch/CNNModelParamOfMNIST.pkl')\n"
   ]
  },
  {
   "cell_type": "code",
   "execution_count": null,
   "metadata": {},
   "outputs": [],
   "source": []
  }
 ],
 "metadata": {
  "kernelspec": {
   "display_name": "Python 2",
   "language": "python",
   "name": "python2"
  },
  "language_info": {
   "codemirror_mode": {
    "name": "ipython",
    "version": 2
   },
   "file_extension": ".py",
   "mimetype": "text/x-python",
   "name": "python",
   "nbconvert_exporter": "python",
   "pygments_lexer": "ipython2",
   "version": "2.7.6"
  }
 },
 "nbformat": 4,
 "nbformat_minor": 0
}
