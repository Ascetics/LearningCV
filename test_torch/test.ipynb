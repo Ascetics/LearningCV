{
 "cells": [
  {
   "cell_type": "code",
   "execution_count": null,
   "metadata": {},
   "outputs": [
    {
     "data": {
      "text/plain": [
       "(torch.Size([60000, 28, 28]),\n torch.Size([60000]),\n torch.Size([10000, 28, 28]),\n torch.Size([10000]))"
      ]
     },
     "execution_count": 3,
     "metadata": {},
     "output_type": "execute_result"
    }
   ],
   "source": [
    "import torch\n",
    "import torch.nn\n",
    "import torch.utils.data as data\n",
    "import torchvision\n",
    "import matplotlib.pyplot as plt\n",
    "\n",
    "EPOCH = 1\n",
    "BATCH_SIZE = 50\n",
    "LR = 0.001  # 学习率\n",
    "DOWNLOAD_MNIST = False  # 不下载\n",
    "ROOT = '/root/private/torch_datasets/'\n",
    "\n",
    "train_data = torchvision.datasets.MNIST(\n",
    "    root=ROOT,  # 数据集文件\n",
    "    train=True,  # 训练集数据\n",
    "    transform=torchvision.transforms.ToTensor(),  # 变成tensor，做归一化处理\n",
    "    download=DOWNLOAD_MNIST\n",
    ")\n",
    "\n",
    "test_data = torchvision.datasets.MNIST(\n",
    "    root=ROOT,\n",
    "    train=False,  # 训练集数据\n",
    "    download=DOWNLOAD_MNIST\n",
    ")\n",
    "\n",
    "train_loader = data.DataLoader(\n",
    "    dataset=train_data,\n",
    "    batch_size=BATCH_SIZE,\n",
    "    shuffle=True\n",
    "    #num_workers=8,\n",
    ")\n",
    "\n",
    "train_data.data.shape, train_data.targets.shape, \\\n",
    "test_data.data.shape, test_data.targets.shape\n"
   ]
  },
  {
   "cell_type": "code",
   "execution_count": 5,
   "metadata": {},
   "outputs": [
    {
     "data": {
      "text/plain": [
       "(torch.Size([10000, 1, 28, 28]), torch.Size([10000]))"
      ]
     },
     "execution_count": 5,
     "metadata": {},
     "output_type": "execute_result"
    }
   ],
   "source": [
    "# 由于test_data没有用transform，所以要手动转换成张量，并进行归一化\n",
    "test_x = torch.unsqueeze(test_data.data, dim=1).type(torch.FloatTensor) / 255.\n",
    "test_y = test_data.targets\n",
    "test_x.shape, test_y.shape"
   ]
  },
  {
   "cell_type": "code",
   "execution_count": 13,
   "metadata": {},
   "outputs": [
    {
     "name": "stdout",
     "output_type": "stream",
     "text": [
      "torch.Size([28, 28])\ntensor(5)\n"
     ]
    },
    {
     "data": {
      "image/png": "[encoded data removed]",
      "text/plain": [
       "<Figure size 432x288 with 1 Axes>"
      ]
     },
     "metadata": {},
     "output_type": "display_data"
    }
   ],
   "source": [
    "a = train_data.data[0]\n",
    "print(a.shape)\n",
    "print(train_data.targets[0])\n",
    "\n",
    "def show(image):\n",
    "    fig, ax = plt.subplots()\n",
    "    ax.imshow(image, plt.cm.gray)\n",
    "    ax.axis('equal')\n",
    "    plt.show()\n",
    "    \n",
    "show(a)\n"
   ]
  },
  {
   "cell_type": "code",
   "execution_count": null,
   "metadata": {},
   "outputs": [],
   "source": [
    ""
   ]
  }
 ],
 "metadata": {
  "kernelspec": {
   "display_name": "Python 2",
   "language": "python",
   "name": "python2"
  },
  "language_info": {
   "codemirror_mode": {
    "name": "ipython",
    "version": 2
   },
   "file_extension": ".py",
   "mimetype": "text/x-python",
   "name": "python",
   "nbconvert_exporter": "python",
   "pygments_lexer": "ipython2",
   "version": "2.7.6"
  }
 },
 "nbformat": 4,
 "nbformat_minor": 0
}
