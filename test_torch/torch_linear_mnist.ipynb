{
 "cells": [
  {
   "cell_type": "code",
   "execution_count": 9,
   "metadata": {},
   "outputs": [
    {
     "data": {
      "text/plain": [
       "(torch.Size([60000, 28, 28]),\n torch.Size([60000]),\n torch.Size([10000, 28, 28]),\n torch.Size([10000]))"
      ]
     },
     "execution_count": 9,
     "metadata": {},
     "output_type": "execute_result"
    }
   ],
   "source": [
    "import torch\n",
    "import torch.nn as nn\n",
    "import torch.utils.data as data\n",
    "import torchvision\n",
    "import matplotlib.pyplot as plt\n",
    "\n",
    "EPOCH = 10\n",
    "BATCH_SIZE = 50\n",
    "LR = 0.001  # 学习率\n",
    "DOWNLOAD_MNIST = False  # 不下载\n",
    "ROOT = '/root/private/torch_datasets/'\n",
    "\n",
    "train_data = torchvision.datasets.MNIST(\n",
    "    root=ROOT,  # 数据集文件\n",
    "    train=True,  # 训练集数据\n",
    "    transform=torchvision.transforms.ToTensor(),  # 变成tensor，做归一化处理\n",
    "    download=DOWNLOAD_MNIST\n",
    ")\n",
    "\n",
    "test_data = torchvision.datasets.MNIST(\n",
    "    root=ROOT,\n",
    "    train=False,  # 训练集数据\n",
    "    download=DOWNLOAD_MNIST\n",
    ")\n",
    "\n",
    "train_loader = data.DataLoader(\n",
    "    dataset=train_data,\n",
    "    batch_size=BATCH_SIZE,\n",
    "    shuffle=True\n",
    "    #num_workers=8,\n",
    ")\n",
    "\n",
    "train_data.data.shape, train_data.targets.shape, \\\n",
    "test_data.data.shape, test_data.targets.shape\n"
   ]
  },
  {
   "cell_type": "code",
   "execution_count": 13,
   "metadata": {},
   "outputs": [
    {
     "data": {
      "text/plain": [
       "(torch.Size([10000, 1, 28, 28]), torch.Size([10000]))"
      ]
     },
     "execution_count": 13,
     "metadata": {},
     "output_type": "execute_result"
    }
   ],
   "source": [
    "# 由于test_data没有用transform，所以要手动转换成张量，并进行归一化\n",
    "test_x = torch.unsqueeze(test_data.data, dim=1).type(torch.FloatTensor) / 255.\n",
    "test_y = test_data.targets\n",
    "test_x.shape, test_y.shape"
   ]
  },
  {
   "cell_type": "code",
   "execution_count": 3,
   "metadata": {},
   "outputs": [
    {
     "name": "stdout",
     "output_type": "stream",
     "text": [
      "torch.Size([28, 28])\ntensor(5)\n"
     ]
    },
    {
     "data": {
      "image/png": "[encoded data removed]",
      "text/plain": [
       "<Figure size 720x144 with 5 Axes>"
      ]
     },
     "metadata": {},
     "output_type": "display_data"
    }
   ],
   "source": [
    "arr = train_data.data[0:5]\n",
    "print(arr[0].shape)\n",
    "print(train_data.targets[0])\n",
    "\n",
    "\n",
    "def show(image_arr):\n",
    "    fig, axes = plt.subplots(1, len(image_arr), figsize=(10, 2))\n",
    "    axes = axes.flatten()\n",
    "    for image, ax in zip(image_arr, axes):\n",
    "        ax.imshow(image, plt.cm.gray)\n",
    "        ax.axis('equal')\n",
    "        ax.axis('off')\n",
    "    plt.tight_layout()\n",
    "    plt.show()\n",
    "\n",
    "\n",
    "show(arr)\n"
   ]
  },
  {
   "cell_type": "code",
   "execution_count": 7,
   "metadata": {},
   "outputs": [
    {
     "name": "stdout",
     "output_type": "stream",
     "text": [
      "MyLinear(\n  (hidden): Sequential(\n    (0): Flatten()\n    (1): Linear(in_features=784, out_features=25, bias=True)\n    (2): Sigmoid()\n  )\n  (output): Sequential(\n    (0): Linear(in_features=25, out_features=10, bias=True)\n    (1): Sigmoid()\n    (2): Softmax(dim=1)\n  )\n)\n"
     ]
    }
   ],
   "source": [
    "class MyLinear(nn.Module):\n",
    "    def __init__(self, n_input, n_hidden, n_output):\n",
    "        super(MyLinear, self).__init__()\n",
    "        self.hidden = nn.Sequential(\n",
    "            nn.Flatten(),\n",
    "            nn.Linear(n_input, n_hidden),\n",
    "            nn.Sigmoid(),\n",
    "        )\n",
    "        self.output = nn.Sequential(\n",
    "            nn.Linear(n_hidden, n_output),\n",
    "            nn.Sigmoid(),\n",
    "            nn.Softmax(dim=1),\n",
    "        )\n",
    "\n",
    "    def forward(self, x):\n",
    "        x = self.hidden(x)\n",
    "        x = self.output(x)\n",
    "        return x\n",
    "\n",
    "\n",
    "# 模型，打印看模型\n",
    "my_linear = MyLinear(28 * 28, 25, 10)\n",
    "print(my_linear)\n",
    "\n",
    "# 优化器接收参数\n",
    "optimizer = torch.optim.Adam(my_linear.parameters(), lr=LR)  \n",
    "\n",
    "# 损失函数。\n",
    "# target label is not one-hotted\n",
    "loss_fun = nn.CrossEntropyLoss()  \n",
    "\n",
    "\n"
   ]
  },
  {
   "cell_type": "code",
   "execution_count": 8,
   "metadata": {
    "collapsed": false
   },
   "outputs": [
    {
     "name": "stdout",
     "output_type": "stream",
     "text": [
      "EPOCH: 0 | Loss: 2.21 | Accuracy: 89.370000%\n"
     ]
    },
    {
     "name": "stdout",
     "output_type": "stream",
     "text": [
      "EPOCH: 1 | Loss: 2.20 | Accuracy: 91.190000%\n"
     ]
    }
   ],
   "source": [
    "EPOCH = 2\n",
    "\n",
    "for epoch in range(EPOCH):\n",
    "    for step, (b_x, b_y) in enumerate(train_loader):\n",
    "        output = my_linear(b_x)  # cal output\n",
    "        loss = loss_fun(output, b_y)  # cal loss\n",
    "        optimizer.zero_grad()  # clear grad for this training\n",
    "        loss.backward()  # backpropagation, cal grad\n",
    "        optimizer.step()\n",
    "\n",
    "    test_output = my_linear(test_x)\n",
    "    pred_y = torch.max(test_output, 1)[1].data.numpy()\n",
    "    # torch.max 对test_output的dim=1取最大值，也就是每个输入的输出\n",
    "    # max返回两个值(max_val, max_index)，[1]就是取index\n",
    "    acc = (pred_y == test_y.data.numpy()).astype(int).sum() / \\\n",
    "          float(test_y.size()[0])\n",
    "    outformat = 'EPOCH: {:d} | Loss: {:.2f} | Accuracy: {:%}'\n",
    "    print(outformat.format(epoch, loss.data.numpy(), acc))\n",
    "   "
   ]
  },
  {
   "cell_type": "code",
   "execution_count": 10,
   "metadata": {},
   "outputs": [],
   "source": [
    "torch.save(my_linear, './test_torch/MyLinearModelOfMNIST.pkl')\n",
    "torch.save(my_linear.state_dict(), './test_torch/MyLinearModelParamOfMNIST.pkl')"
   ]
  },
  {
   "cell_type": "code",
   "execution_count": 74,
   "metadata": {},
   "outputs": [
    {
     "name": "stdout",
     "output_type": "stream",
     "text": [
      "Label: 9 | Predict: 9\n"
     ]
    },
    {
     "data": {
      "image/png": "[encoded data removed]",
      "text/plain": [
       "<Figure size 432x288 with 1 Axes>"
      ]
     },
     "metadata": {},
     "output_type": "display_data"
    }
   ],
   "source": [
    "import torch\n",
    "import matplotlib.pyplot as plt\n",
    "\n",
    "\n",
    "def show(image, label, pred):\n",
    "    print('Label: {:d} | Predict: {:d}'.format(label, pred))\n",
    "    fig, ax = plt.subplots()\n",
    "    ax.imshow(image, plt.cm.gray)\n",
    "    ax.axis('equal')\n",
    "    ax.axis('off')\n",
    "    plt.show()\n",
    "\n",
    "\n",
    "INDEX = 9376\n",
    "loaded_linear = torch.load('./test_torch/MyLinearModelOfMNIST.pkl')\n",
    "output = loaded_linear(test_x[INDEX])\n",
    "pred = torch.max(output, 1)[1].data.numpy()[0]\n",
    "\n",
    "show(\n",
    "    image=test_x.data.numpy()[INDEX][0],\n",
    "    label=test_y.data.numpy()[INDEX],\n",
    "    pred=pred\n",
    ")\n",
    "# test_y[INDEX].data.numpy()\n",
    "# test_x.data.numpy()[INDEX][0].shape\n",
    "# test_y.data.numpy()[0]"
   ]
  },
  {
   "cell_type": "code",
   "execution_count": null,
   "metadata": {},
   "outputs": [],
   "source": [
    "\n"
   ]
  }
 ],
 "metadata": {
  "kernelspec": {
   "display_name": "Python 2",
   "language": "python",
   "name": "python2"
  },
  "language_info": {
   "codemirror_mode": {
    "name": "ipython",
    "version": 2
   },
   "file_extension": ".py",
   "mimetype": "text/x-python",
   "name": "python",
   "nbconvert_exporter": "python",
   "pygments_lexer": "ipython2",
   "version": "2.7.6"
  }
 },
 "nbformat": 4,
 "nbformat_minor": 0
}
