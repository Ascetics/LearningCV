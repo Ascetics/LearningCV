{
 "cells": [
  {
   "cell_type": "markdown",
   "metadata": {},
   "source": [
    "![image.png](attachment:image.png)"
   ]
  },
  {
   "cell_type": "markdown",
   "metadata": {},
   "source": [
    "![image.png](attachment:image.png)"
   ]
  },
  {
   "cell_type": "markdown",
   "metadata": {},
   "source": [
    "双线性插值代码实现"
   ]
  },
  {
   "cell_type": "code",
   "execution_count": 2,
   "metadata": {},
   "outputs": [],
   "source": [
    "import cv2\n",
    "import numpy as np\n",
    "import matplotlib.pyplot as plt"
   ]
  },
  {
   "cell_type": "code",
   "execution_count": 3,
   "metadata": {},
   "outputs": [],
   "source": [
    "def Bilinear_interpolation(src,new_size):#输入原图尺寸，新尺寸\n",
    "    dst_w, dst_h = new_size #目标图像的尺寸 宽和高\n",
    "    src_h, src_w = src.shape[:2] #原始图像的宽和高\n",
    "    if src_h == dst_h and src_w == dst_w:\n",
    "        return src.copy()\n",
    "    \n",
    "    #得到缩放的比例，定位目标点在原图的位置\n",
    "    scale_x = float(src_w) / dst_w\n",
    "    scale_y = float(src_h) / dst_h\n",
    "    \n",
    "    dst = np.zeros((dst_h,dst_w,3),dtype=np.unit8) #生成一张目标尺寸的空白图，遍历储值\n",
    "                   \n",
    "    for n in range(3):#循环channel\n",
    "        for dst_y in range(dst_h): #循环高 height\n",
    "            for dst_x in range(dst_w): #循环宽度 width\n",
    "                \n",
    "                #得到目标像素在原图上的坐标\n",
    "                #每个像素点都是一个边长为1的正方形，对于坐标为（h,w)的像素点，他的中心是（h+0.5，w+0.5)\n",
    "                src_x = (dst_x + 0.5) * scale_x - 0.5 \n",
    "                src_y = (dst_y + 0.5) * scale_y - 0.5\n",
    "                \n",
    "                #左上角的点\n",
    "                src_x_0 = int(np.floor(src_x)) #floor 向下取整\n",
    "                src_y_0 = int(np.floor(src_y))\n",
    "                \n",
    "                #像素值的坐标为整数，边界为1，防止出界\n",
    "                src_x_1 = min(src_x_0 + 1,src_w - 1)\n",
    "                src_y_1 = min(src_y_0 + 1,src_h - 1)\n",
    "                \n",
    "                value_0 = (src_x_1 - src_x) * src[src_y_0,src_x_0,n] + (src_x - src_x_0) * src[src_y_0,src_x_1,n]\n",
    "                value_1 = (src_x_1 - src_x) * src[src_y_1,src_x_0,n] + (src_x - src_x_0) * src[src_y_1,src_x_1,n]\n",
    "                dst[dst_y,dst_x,n] = int((src_y_1 - src_y)*value_0) + int((src_y - src_y_0)*value_1)\n",
    "    return dst"
   ]
  },
  {
   "cell_type": "code",
   "execution_count": null,
   "metadata": {},
   "outputs": [],
   "source": [
    "if __name__ == '__main__':\n",
    "    img_in = cv2.imread('timg.jpeg')\n",
    "    img_out = Bilinear_interpolation(img_in,(1000,1000))\n",
    "    cv2.imshow('src_img',img_in)\n",
    "    cv2.imshow('dst_img',img_out)\n",
    "    \n",
    "    key = cv2.waitKey() #不断刷新图\n",
    "    if key == 1000:\n",
    "        cv2.destroyAllWindows()\n",
    "    print(img_in.shape)\n",
    "    print(img_out.shape)"
   ]
  },
  {
   "cell_type": "markdown",
   "metadata": {},
   "source": [
    "Unet 代码实现"
   ]
  },
  {
   "cell_type": "code",
   "execution_count": 2,
   "metadata": {},
   "outputs": [],
   "source": [
    "import torch\n",
    "import torch.nn as nn\n",
    "import torch.nn.functional as F"
   ]
  },
  {
   "cell_type": "code",
   "execution_count": 26,
   "metadata": {},
   "outputs": [],
   "source": [
    "#先建立一个原始版本的下采样的block\n",
    "class UNetConvBlock(nn.Module):\n",
    "    def __init__(self,in_chans,out_chans,padding,batch_norm):\n",
    "        super(UNetConvBlock,self).__init__()\n",
    "        block = []#新建空的列表，要往里面填东西\n",
    "        \n",
    "        block.append(nn.Conv2d(in_chans,out_chans,kernel_size=3,padding=int(padding)))\n",
    "        block.append(nn.ReLU())\n",
    "        \n",
    "        #检测有没有BN\n",
    "        if batch_norm:\n",
    "            block.append(nn.BatchNorm2d(out_chans))\n",
    "        \n",
    "        block.append(nn.Conv2d(out_chans,out_chans,kernel_size=3,padding=int(padding)))\n",
    "        block.append(nn.ReLU())\n",
    "        if batch_norm:\n",
    "            block.append(nn.BatchNorm2d(out_chans))\n",
    "        \n",
    "        self.block = nn.Sequential(*block) \n",
    "    def forward(self,x):\n",
    "        out = self.block(x)\n",
    "        return out\n",
    "\n",
    "#写一个上采样的block\n",
    "class UNetUpBlock(nn.Module):\n",
    "    def __init__(self,in_chans,out_chans,up_mode,padding,batch_norm):\n",
    "        super(UNetUpBlock,self).__init__()\n",
    "        if up_mode == 'upconv':\n",
    "            self.up = nn.ConvTranspose2d(in_chans,out_chans,kernel_size=2,stride=2)\n",
    "        elif up_mode == 'upsample':\n",
    "            self.up = nn.Sequential(\n",
    "                nn.Upsample(mode = 'bilinear',scale_factor=2),\n",
    "                nn.Conv2d(in_chans,out_chans,kernel_size=1),)\n",
    "        self.conv_block = UNetConvBlock(in_chans,out_chans,padding,batch_norm)\n",
    "    \n",
    "    #定义对feature map的裁剪函数\n",
    "    def center_crop(self,layer,target_size):\n",
    "        _,_,layer_height,layer_width = layer.size()\n",
    "        diff_y = (layer_height - target_size[0])//2\n",
    "        diff_x = (layer_width - target_size[1])//2\n",
    "        return layer[:,:,diff_y:(diff_y + target_size[0]),diff_x:(diff_x + target_size[1])]\n",
    "    \n",
    "    def forward(self,x,bridge):\n",
    "        up = self.up(x)\n",
    "        crop1 = self.center_crop(bridge,up.shape[2:])\n",
    "        out = torch.cat([up,crop1],1)\n",
    "        out = self.conv_block(out)\n",
    "        return out"
   ]
  },
  {
   "cell_type": "code",
   "execution_count": 30,
   "metadata": {},
   "outputs": [],
   "source": [
    "class UNet(nn.Module):\n",
    "    def __init__(\n",
    "        self,\n",
    "        in_channels = 1,\n",
    "        n_classes = 2, #最终有多少个分类\n",
    "        depth = 5, #网络的深度\n",
    "        wf = 6,#第一层的个数，2的wf次方，正课中给出的数是64\n",
    "        padding =False,\n",
    "        batch_norm = False,\n",
    "        up_mode = 'upconv',\n",
    "    ):\n",
    "        super(UNet,self).__init__()\n",
    "        assert up_mode in ('upconv','upsample')\n",
    "        self.padding = padding\n",
    "        self.depth = depth\n",
    "        prev_channels = in_channels\n",
    "        \n",
    "        self.down_path = nn.ModuleList()\n",
    "        for i in range(depth):\n",
    "            self.down_path.append(UNetConvBlock(prev_channels,2**(wf+i),padding,batch_norm))\n",
    "            prev_channels = 2**(wf+i)\n",
    "            \n",
    "        self.up_path=nn.ModuleList()\n",
    "        for i in reversed(range(depth-1)):\n",
    "            self.up_path.append(UNetUpBlock(prev_channels,2**(wf+i),up_mode,padding,batch_norm))\n",
    "            prev_channels = 2**(wf+i)\n",
    "        self.last=nn.Conv2d(prev_channels,n_classes,kernel_size=1)\n",
    "    \n",
    "    def forward(self,x):\n",
    "        blocks = []\n",
    "        for i,down in enumerate(self.down_path):\n",
    "            x = down(x)\n",
    "            if i!=len(self.down_path) - 1:\n",
    "                blocks.append(x)\n",
    "                x = F.max_pool2d(x,2)\n",
    "        for i,up in enumerate(self.up_path):\n",
    "            x = up(x,blocks[-i -1])\n",
    "        return self.last(x)"
   ]
  },
  {
   "cell_type": "code",
   "execution_count": 31,
   "metadata": {},
   "outputs": [],
   "source": [
    "x = torch.randn((1,1,572,572))#batch_size 是1 ，通道是1，输入572 572\n",
    "unet = UNet()\n",
    "unet.eval()\n",
    "y_unet = unet(x)"
   ]
  },
  {
   "cell_type": "code",
   "execution_count": 32,
   "metadata": {},
   "outputs": [
    {
     "data": {
      "text/plain": [
       "torch.Size([1, 2, 388, 388])"
      ]
     },
     "execution_count": 32,
     "metadata": {},
     "output_type": "execute_result"
    }
   ],
   "source": [
    "y_unet.size()"
   ]
  },
  {
   "cell_type": "code",
   "execution_count": null,
   "metadata": {},
   "outputs": [],
   "source": []
  },
  {
   "cell_type": "code",
   "execution_count": null,
   "metadata": {},
   "outputs": [],
   "source": []
  }
 ],
 "metadata": {
  "kernelspec": {
   "display_name": "Python 3",
   "language": "python",
   "name": "python3"
  },
  "language_info": {
   "codemirror_mode": {
    "name": "ipython",
    "version": 3
   },
   "file_extension": ".py",
   "mimetype": "text/x-python",
   "name": "python",
   "nbconvert_exporter": "python",
   "pygments_lexer": "ipython3",
   "version": "3.6.5"
  }
 },
 "nbformat": 4,
 "nbformat_minor": 2
}
