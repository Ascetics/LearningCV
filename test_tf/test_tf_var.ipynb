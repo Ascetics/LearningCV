{
 "cells": [
  {
   "cell_type": "code",
   "execution_count": 1,
   "metadata": {},
   "outputs": [],
   "source": [
    "import tensorflow as tf"
   ]
  },
  {
   "cell_type": "markdown",
   "metadata": {},
   "source": [
    "# 1 tf版本"
   ]
  },
  {
   "cell_type": "code",
   "execution_count": 2,
   "metadata": {},
   "outputs": [
    {
     "name": "stdout",
     "output_type": "stream",
     "text": [
      "2.0.0-dev20191002\n"
     ]
    }
   ],
   "source": [
    "print(tf.__version__)"
   ]
  },
  {
   "cell_type": "markdown",
   "metadata": {},
   "source": [
    "# 2 张量"
   ]
  },
  {
   "cell_type": "markdown",
   "metadata": {},
   "source": [
    "张量，有name\n",
    "变量名是写代码用的，name是用来保存模型用的\n",
    "模型保存以后就没有变量名了，那么模型通过name区分"
   ]
  },
  {
   "cell_type": "markdown",
   "metadata": {},
   "source": [
    "# 3 变量"
   ]
  },
  {
   "cell_type": "markdown",
   "metadata": {},
   "source": [
    "## 3.1 矩阵、特别形式的矩阵、维度（大小）"
   ]
  },
  {
   "cell_type": "code",
   "execution_count": 3,
   "metadata": {},
   "outputs": [
    {
     "data": {
      "text/plain": [
       "(<tf.Variable 'matrix:0' shape=(3, 4) dtype=int32, numpy=\n",
       " array([[ 3,  8,  7, 19],\n",
       "        [ 5,  2, 11,  6],\n",
       "        [23,  3,  0,  1]], dtype=int32)>,\n",
       " <tf.Variable 'zeros_3x4:0' shape=(3, 4) dtype=float32, numpy=\n",
       " array([[0., 0., 0., 0.],\n",
       "        [0., 0., 0., 0.],\n",
       "        [0., 0., 0., 0.]], dtype=float32)>,\n",
       " <tf.Variable 'ones_3x2:0' shape=(3, 2) dtype=float32, numpy=\n",
       " array([[1., 1.],\n",
       "        [1., 1.],\n",
       "        [1., 1.]], dtype=float32)>,\n",
       " <tf.Variable 'eye_5:0' shape=(5, 5) dtype=float32, numpy=\n",
       " array([[1., 0., 0., 0., 0.],\n",
       "        [0., 1., 0., 0., 0.],\n",
       "        [0., 0., 1., 0., 0.],\n",
       "        [0., 0., 0., 1., 0.],\n",
       "        [0., 0., 0., 0., 1.]], dtype=float32)>,\n",
       " TensorShape([3, 4]))"
      ]
     },
     "execution_count": 3,
     "metadata": {},
     "output_type": "execute_result"
    }
   ],
   "source": [
    "matrix = tf.Variable([[3, 8, 7, 19], [5, 2, 11, 6], [23, 3, 0, 1]], name='matrix')\n",
    "zeros_3x4 = tf.Variable(tf.zeros((3, 4)), name='zeros_3x4')\n",
    "ones_3x2 = tf.Variable(tf.ones((3, 2)), name='ones_3x2')\n",
    "eye_5 = tf.Variable(tf.eye(5), name='eye_5')\n",
    "\n",
    "matrix, zeros_3x4, ones_3x2, eye_5, matrix.shape"
   ]
  },
  {
   "cell_type": "markdown",
   "metadata": {},
   "source": [
    "## 3.2 矩阵加、减、点乘、叉乘"
   ]
  },
  {
   "cell_type": "code",
   "execution_count": 4,
   "metadata": {},
   "outputs": [
    {
     "data": {
      "text/plain": [
       "(<tf.Variable 'm3:0' shape=(2, 1) dtype=int32, numpy=\n",
       " array([[2],\n",
       "        [1]], dtype=int32)>,\n",
       " <tf.Variable 'm2:0' shape=(2, 3) dtype=int32, numpy=\n",
       " array([[1, 2, 3],\n",
       "        [2, 3, 4]], dtype=int32)>,\n",
       " <tf.Variable 'm3:0' shape=(2, 3) dtype=int32, numpy=\n",
       " array([[ 1,  2,  3],\n",
       "        [-1,  3, -1]], dtype=int32)>,\n",
       " <tf.Variable 'm4:0' shape=(3, 4) dtype=int32, numpy=\n",
       " array([[ 1,  1,  2, -1],\n",
       "        [ 1,  0, -1,  1],\n",
       "        [ 0, -1,  1,  0]], dtype=int32)>,\n",
       " <tf.Tensor: shape=(2, 3), dtype=int32, numpy=\n",
       " array([[2, 4, 6],\n",
       "        [1, 6, 3]], dtype=int32)>,\n",
       " <tf.Tensor: shape=(2, 3), dtype=int32, numpy=\n",
       " array([[0, 0, 0],\n",
       "        [3, 0, 5]], dtype=int32)>,\n",
       " <tf.Tensor: shape=(2, 3), dtype=int32, numpy=\n",
       " array([[2, 4, 6],\n",
       "        [2, 3, 4]], dtype=int32)>,\n",
       " <tf.Tensor: shape=(2, 3), dtype=int32, numpy=\n",
       " array([[ 1,  4,  9],\n",
       "        [-2,  9, -4]], dtype=int32)>,\n",
       " <tf.Tensor: shape=(2, 4), dtype=int32, numpy=\n",
       " array([[ 3, -2,  3,  1],\n",
       "        [ 5, -2,  5,  1]], dtype=int32)>)"
      ]
     },
     "execution_count": 4,
     "metadata": {},
     "output_type": "execute_result"
    }
   ],
   "source": [
    "m1 = tf.Variable([[2], [1]], name='m3')\n",
    "m2 = tf.Variable([[1, 2, 3], [2, 3, 4]], name='m2')\n",
    "m3 = tf.Variable([[1, 2, 3], [-1, 3, -1]], name='m3')\n",
    "m4 = tf.Variable([[1, 1, 2, -1], [1, 0, -1, 1], [0, -1, 1, 0]], name='m4')\n",
    "\n",
    "m_add = m2 + m3\n",
    "m_sub = m2 - m3\n",
    "m_mul_1 = m1 * m2\n",
    "m_mul_2 = m2 * m3\n",
    "m_matmul = tf.matmul(m2, m4)\n",
    "\n",
    "m1, m2, m3, m4, m_add, m_sub, m_mul_1, m_mul_2, m_matmul"
   ]
  },
  {
   "cell_type": "markdown",
   "metadata": {},
   "source": [
    "## 3.3 变量的赋值"
   ]
  },
  {
   "cell_type": "markdown",
   "metadata": {},
   "source": [
    "变量可以用哪个assign赋值，赋值以后，还是原来的对象，内容变化"
   ]
  },
  {
   "cell_type": "code",
   "execution_count": 5,
   "metadata": {},
   "outputs": [
    {
     "data": {
      "text/plain": [
       "<tf.Variable 'm2:0' shape=(2, 3) dtype=int32, numpy=\n",
       "array([[1, 1, 1],\n",
       "       [2, 2, 2]], dtype=int32)>"
      ]
     },
     "execution_count": 5,
     "metadata": {},
     "output_type": "execute_result"
    }
   ],
   "source": [
    "m2.assign([[1, 1, 1], [2, 2, 2]])\n",
    "m2"
   ]
  },
  {
   "cell_type": "markdown",
   "metadata": {},
   "source": [
    "## 3.4 标量"
   ]
  },
  {
   "cell_type": "code",
   "execution_count": 6,
   "metadata": {},
   "outputs": [
    {
     "data": {
      "text/plain": [
       "2"
      ]
     },
     "execution_count": 6,
     "metadata": {},
     "output_type": "execute_result"
    }
   ],
   "source": [
    "s = tf.Variable(2, name='scalar')\n",
    "s.numpy()"
   ]
  },
  {
   "cell_type": "markdown",
   "metadata": {},
   "source": [
    "# 4 常量"
   ]
  },
  {
   "cell_type": "markdown",
   "metadata": {},
   "source": [
    "常量的这种重新赋值，是不同的对象，可以从张量的id不同看出`"
   ]
  },
  {
   "cell_type": "code",
   "execution_count": 7,
   "metadata": {},
   "outputs": [
    {
     "data": {
      "text/plain": [
       "<tf.Tensor: shape=(), dtype=int32, numpy=2>"
      ]
     },
     "execution_count": 7,
     "metadata": {},
     "output_type": "execute_result"
    }
   ],
   "source": [
    "c1 = tf.constant(2)\n",
    "c1"
   ]
  },
  {
   "cell_type": "code",
   "execution_count": 8,
   "metadata": {},
   "outputs": [
    {
     "data": {
      "text/plain": [
       "<tf.Tensor: shape=(), dtype=int32, numpy=2>"
      ]
     },
     "execution_count": 8,
     "metadata": {},
     "output_type": "execute_result"
    }
   ],
   "source": [
    "c1 = tf.constant(2, name='const')\n",
    "c1"
   ]
  }
 ],
 "metadata": {
  "kernelspec": {
   "display_name": "Python 3",
   "language": "python",
   "name": "python3"
  },
  "language_info": {
   "codemirror_mode": {
    "name": "ipython",
    "version": 3
   },
   "file_extension": ".py",
   "mimetype": "text/x-python",
   "name": "python",
   "nbconvert_exporter": "python",
   "pygments_lexer": "ipython3",
   "version": "3.6.8"
  }
 },
 "nbformat": 4,
 "nbformat_minor": 2
}
