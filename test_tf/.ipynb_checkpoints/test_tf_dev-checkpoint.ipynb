{
 "cells": [
  {
   "cell_type": "code",
   "execution_count": 2,
   "metadata": {},
   "outputs": [],
   "source": [
    "import tensorflow as tf"
   ]
  },
  {
   "cell_type": "code",
   "execution_count": 3,
   "metadata": {},
   "outputs": [
    {
     "name": "stdout",
     "output_type": "stream",
     "text": [
      "/physical_device:GPU:0\n",
      "/physical_device:GPU:1\n",
      "/physical_device:GPU:2\n",
      "/physical_device:GPU:3\n",
      "/physical_device:GPU:4\n",
      "/physical_device:GPU:5\n",
      "/physical_device:GPU:6\n",
      "/physical_device:GPU:7\n"
     ]
    }
   ],
   "source": [
    "# 列出所有 CPU GPU TPU 设备，用device_type区分\n",
    "# XLA 是accelerate linear algebra 加速器\n",
    "dev = tf.config.experimental.list_physical_devices()\n",
    "for d in dev:\n",
    "    if d.device_type == 'GPU':\n",
    "        print(d.name)"
   ]
  },
  {
   "cell_type": "code",
   "execution_count": 4,
   "metadata": {},
   "outputs": [
    {
     "name": "stdout",
     "output_type": "stream",
     "text": [
      "/physical_device:GPU:0 GPU\n",
      "/physical_device:GPU:1 GPU\n",
      "/physical_device:GPU:2 GPU\n",
      "/physical_device:GPU:3 GPU\n",
      "/physical_device:GPU:4 GPU\n",
      "/physical_device:GPU:5 GPU\n",
      "/physical_device:GPU:6 GPU\n",
      "/physical_device:GPU:7 GPU\n"
     ]
    }
   ],
   "source": [
    "# 只列出GPU\n",
    "gpus = tf.config.experimental.list_physical_devices('GPU')\n",
    "for g in gpus:\n",
    "    print(g.name, g.device_type)\n",
    "    pass"
   ]
  },
  {
   "cell_type": "code",
   "execution_count": 7,
   "metadata": {},
   "outputs": [
    {
     "name": "stdout",
     "output_type": "stream",
     "text": [
      "tf.Tensor(\n",
      "[[22 28]\n",
      " [49 64]], shape=(2, 2), dtype=int32)\n"
     ]
    }
   ],
   "source": [
    "# 显示当前操作是在哪个设备上执行的\n",
    "tf.debugging.set_log_device_placement(True)\n",
    "\n",
    "m1 = tf.constant([[1, 2, 3], [4, 5, 6]])\n",
    "m2 = tf.constant([[1, 2], [3, 4], [5, 6]])\n",
    "m3 = tf.matmul(m1, m2)\n",
    "print(m3)"
   ]
  },
  {
   "cell_type": "code",
   "execution_count": 8,
   "metadata": {},
   "outputs": [
    {
     "name": "stdout",
     "output_type": "stream",
     "text": [
      "Executing op MatMul in device /job:localhost/replica:0/task:0/device:CPU:0\n"
     ]
    }
   ],
   "source": [
    "# 指定在哪个设备上操作\n",
    "# with tf.device('/CPU:0'):\n",
    "#     a = tf.constant([[1, 2, 3], [4, 5, 6]])\n",
    "#     b = tf.constant([[1, 2], [3, 4], [5, 6]])\n",
    "    \n",
    "#     c = tf.matmul(a, b)\n",
    "#     print(c)\n",
    "    \n",
    "with tf.device('/GPU:3'):\n",
    "    a = tf.constant([[1, 2, 3], [4, 5, 6]])\n",
    "    b = tf.constant([[1, 2], [3, 4], [5, 6]])\n",
    "    \n",
    "    c = tf.matmul(a, b)"
   ]
  },
  {
   "cell_type": "code",
   "execution_count": 9,
   "metadata": {},
   "outputs": [
    {
     "name": "stdout",
     "output_type": "stream",
     "text": [
      "RuntimeError Physical devices cannot be modified after being initialized\n"
     ]
    }
   ],
   "source": [
    "# 限制gpu内存使用\n",
    "# 软限制\n",
    "\n",
    "gpus = tf.config.experimental.list_physical_devices('GPU')\n",
    "if gpus:\n",
    "    try:\n",
    "        for gpu in gpus:\n",
    "            tf.config.experimental.set_memory_growth(gpu, True)\n",
    "            \n",
    "        # 逻辑设备\n",
    "        logical_gpus = tf.config.experimental.list_logical_devices('GPU')\n",
    "        print(len(gpus), \"Physical GPUs\", len(loagical_gpus), \"Logical GPUs\")\n",
    "    except RuntimeError as e:\n",
    "        print('RuntimeError', e)"
   ]
  },
  {
   "cell_type": "code",
   "execution_count": 10,
   "metadata": {},
   "outputs": [
    {
     "name": "stdout",
     "output_type": "stream",
     "text": [
      "RuntimeError Virtual devices cannot be modified after being initialized\n"
     ]
    }
   ],
   "source": [
    "# 限制gpu内存使用\n",
    "# 硬限制\n",
    "gpus = tf.config.experimental.list_physical_devices('GPU')\n",
    "if gpus:\n",
    "    try:\n",
    "        tf.config.experimental.set_virtual_device_configuration(\n",
    "            gpus[0],\n",
    "            [tf.config.experimental.VirtualDeviceConfiguration(memory_limit=1024)] # 限制使用1024MB\n",
    "        )\n",
    "        logical_gpus = tf.config.experimental.list_logical_devices('GPU')   \n",
    "        print(len(gpus), \"Physical GPUs\", len(loagical_gpus), \"Logical GPUs\")\n",
    "    except RuntimeError as e:\n",
    "        print('RuntimeError', e)"
   ]
  },
  {
   "cell_type": "code",
   "execution_count": null,
   "metadata": {},
   "outputs": [],
   "source": []
  }
 ],
 "metadata": {
  "kernelspec": {
   "display_name": "Python 3",
   "language": "python",
   "name": "python3"
  },
  "language_info": {
   "codemirror_mode": {
    "name": "ipython",
    "version": 3
   },
   "file_extension": ".py",
   "mimetype": "text/x-python",
   "name": "python",
   "nbconvert_exporter": "python",
   "pygments_lexer": "ipython3",
   "version": "3.6.8"
  }
 },
 "nbformat": 4,
 "nbformat_minor": 2
}
