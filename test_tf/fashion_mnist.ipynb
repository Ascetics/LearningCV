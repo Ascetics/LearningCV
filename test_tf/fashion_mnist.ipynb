{
 "cells": [
  {
   "cell_type": "code",
   "execution_count": 1,
   "metadata": {},
   "outputs": [
    {
     "data": {
      "text/plain": [
       "((60000, 28, 28), (60000,))"
      ]
     },
     "execution_count": 1,
     "metadata": {},
     "output_type": "execute_result"
    }
   ],
   "source": [
    "import tensorflow as tf\n",
    "\n",
    "# boston_housing = tf.keras.datasets.boston_housing\n",
    "# cifar10 = tf.keras.datasets.cifar100\n",
    "# cifar100 = tf.keras.datasets.cifar100\n",
    "fashion_mnist = tf.keras.datasets.fashion_mnist\n",
    "# imdb = tf.keras.datasets.imdb\n",
    "# mnist = tf.keras.datasets.mnist\n",
    "# reuters = tf.keras.datasets.reuters\n",
    "\n",
    "# 加载数据集 \n",
    "(train_images, train_labels), (test_images, test_labels) = fashion_mnist.load_data()\n",
    "\n",
    "# 观察数据集图片、数据集label的shape\n",
    "train_images.shape, train_labels.shape"
   ]
  },
  {
   "cell_type": "code",
   "execution_count": 2,
   "metadata": {},
   "outputs": [
    {
     "data": {
      "image/png": "[encoded data removed]",
      "text/plain": [
       "<Figure size 720x720 with 6 Axes>"
      ]
     },
     "metadata": {
      "needs_background": "light"
     },
     "output_type": "display_data"
    },
    {
     "name": "stdout",
     "output_type": "stream",
     "text": [
      "[9 0 0 3 0 2]\n"
     ]
    }
   ],
   "source": [
    "import matplotlib.pyplot as plt\n",
    "\n",
    "def plot_image(image_arr):\n",
    "    size = len(image_arr)\n",
    "    fig, axes = plt.subplots(1, size, figsize=(10, 10))\n",
    "    axes = axes.flatten()\n",
    "    for img, ax in zip(image_arr, axes):\n",
    "        ax.imshow(img, plt.cm.gray)\n",
    "        ax.axis('off')\n",
    "    plt.tight_layout()\n",
    "    plt.show()\n",
    "        \n",
    "# 观察一下图片        \n",
    "plot_image(train_images[0:6])\n",
    "print(train_labels[0:6])"
   ]
  },
  {
   "cell_type": "code",
   "execution_count": 3,
   "metadata": {},
   "outputs": [
    {
     "name": "stdout",
     "output_type": "stream",
     "text": [
      "Model: \"sequential\"\n",
      "_________________________________________________________________\n",
      "Layer (type)                 Output Shape              Param #   \n",
      "=================================================================\n",
      "flatten (Flatten)            (None, 784)               0         \n",
      "_________________________________________________________________\n",
      "dense (Dense)                (None, 128)               100480    \n",
      "_________________________________________________________________\n",
      "dense_1 (Dense)              (None, 10)                1290      \n",
      "=================================================================\n",
      "Total params: 101,770\n",
      "Trainable params: 101,770\n",
      "Non-trainable params: 0\n",
      "_________________________________________________________________\n"
     ]
    }
   ],
   "source": [
    "# 建立模型\n",
    "# input layer，将28x28的图像变成一维向量\n",
    "# hidden layer，是个全连接层，神经元128个（不包含偏置单元），激活函数用relu\n",
    "# output layer，是个全连接层，10对应10个输出的类别，用softmax\n",
    "model = tf.keras.models.Sequential([\n",
    "    tf.keras.layers.Flatten(input_shape=(28, 28)),\n",
    "    tf.keras.layers.Dense(128, activation='relu'),\n",
    "    tf.keras.layers.Dense(10, activation='softmax')\n",
    "])\n",
    "\n",
    "model.summary()"
   ]
  },
  {
   "cell_type": "code",
   "execution_count": 4,
   "metadata": {},
   "outputs": [],
   "source": [
    "# 优化器 adam\n",
    "# loss 的sparse_categorical_crossentropy用于label, 1,2,3,4,5\n",
    "# loss 的categorical_crossentropy用于向量化的label，[1,0,0,0,0]...[0,0,0,0,1]\n",
    "# metics 用来衡量模型，可以是正确率，精确度，交并比等\n",
    "model.compile(optimizer='adam',\n",
    "              loss='sparse_categorical_crossentropy',\n",
    "              metrics=['accuracy']\n",
    "             )"
   ]
  },
  {
   "cell_type": "code",
   "execution_count": 5,
   "metadata": {},
   "outputs": [
    {
     "name": "stdout",
     "output_type": "stream",
     "text": [
      "Train on 60000 samples, validate on 10000 samples\n",
      "Epoch 1/10\n",
      "60000/60000 [==============================] - 19s 316us/sample - loss: 0.4915 - accuracy: 0.8280 - val_loss: 0.4441 - val_accuracy: 0.8412\n",
      "Epoch 2/10\n",
      "60000/60000 [==============================] - 13s 210us/sample - loss: 0.3782 - accuracy: 0.8627 - val_loss: 0.3860 - val_accuracy: 0.8608\n",
      "Epoch 3/10\n",
      "60000/60000 [==============================] - 12s 198us/sample - loss: 0.3382 - accuracy: 0.8768 - val_loss: 0.3619 - val_accuracy: 0.8707\n",
      "Epoch 4/10\n",
      "60000/60000 [==============================] - 13s 221us/sample - loss: 0.3171 - accuracy: 0.8837 - val_loss: 0.3640 - val_accuracy: 0.8679\n",
      "Epoch 5/10\n",
      "60000/60000 [==============================] - 13s 215us/sample - loss: 0.2960 - accuracy: 0.8907 - val_loss: 0.3499 - val_accuracy: 0.8758\n",
      "Epoch 6/10\n",
      "60000/60000 [==============================] - 12s 203us/sample - loss: 0.2813 - accuracy: 0.8962 - val_loss: 0.3492 - val_accuracy: 0.8756\n",
      "Epoch 7/10\n",
      "60000/60000 [==============================] - 13s 214us/sample - loss: 0.2686 - accuracy: 0.9009 - val_loss: 0.3662 - val_accuracy: 0.8696\n",
      "Epoch 8/10\n",
      "60000/60000 [==============================] - 11s 176us/sample - loss: 0.2587 - accuracy: 0.9033 - val_loss: 0.3612 - val_accuracy: 0.8730\n",
      "Epoch 9/10\n",
      "60000/60000 [==============================] - 12s 205us/sample - loss: 0.2480 - accuracy: 0.9070 - val_loss: 0.3430 - val_accuracy: 0.8773\n",
      "Epoch 10/10\n",
      "60000/60000 [==============================] - 11s 184us/sample - loss: 0.2400 - accuracy: 0.9104 - val_loss: 0.3387 - val_accuracy: 0.8805\n"
     ]
    },
    {
     "data": {
      "text/plain": [
       "<tensorflow.python.keras.callbacks.History at 0x13c240b8>"
      ]
     },
     "execution_count": 5,
     "metadata": {},
     "output_type": "execute_result"
    }
   ],
   "source": [
    "# Normalization\n",
    "train_images = train_images / 255.\n",
    "test_images  = test_images / 255.\n",
    "\n",
    "# 训练的过程\n",
    "# 一个epochs就是将train全部过一遍\n",
    "model.fit(train_images, train_labels, epochs=10, validation_data=(test_images, test_labels))"
   ]
  },
  {
   "cell_type": "code",
   "execution_count": 6,
   "metadata": {
    "scrolled": true
   },
   "outputs": [
    {
     "name": "stdout",
     "output_type": "stream",
     "text": [
      "10000/1 - 1s - loss: 0.2460 - accuracy: 0.8805\n",
      "Restore model, accuracy 88.050002%\n"
     ]
    }
   ],
   "source": [
    "# 保存训练的权重\n",
    "model.save_weights('./fashion_mnist/my_first_ckpt')\n",
    "\n",
    "# 重新加载权重\n",
    "# 加载权重的模型必须和训练的模型一致才能加载\n",
    "model.load_weights('./fashion_mnist/my_first_ckpt')\n",
    "\n",
    "# 加载权重就可以做测试了\n",
    "loss, accuracy = model.evaluate(test_images, test_labels, verbose=2)\n",
    "print('Restore model, accuracy {:%}'.format(accuracy))"
   ]
  },
  {
   "cell_type": "code",
   "execution_count": null,
   "metadata": {},
   "outputs": [],
   "source": []
  }
 ],
 "metadata": {
  "kernelspec": {
   "display_name": "Python 3",
   "language": "python",
   "name": "python3"
  },
  "language_info": {
   "codemirror_mode": {
    "name": "ipython",
    "version": 3
   },
   "file_extension": ".py",
   "mimetype": "text/x-python",
   "name": "python",
   "nbconvert_exporter": "python",
   "pygments_lexer": "ipython3",
   "version": "3.6.5"
  }
 },
 "nbformat": 4,
 "nbformat_minor": 2
}
