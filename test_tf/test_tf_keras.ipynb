{
 "cells": [
  {
   "cell_type": "code",
   "execution_count": 30,
   "metadata": {},
   "outputs": [],
   "source": [
    "import tensorflow as tf"
   ]
  },
  {
   "cell_type": "markdown",
   "metadata": {},
   "source": [
    "# Keras的基本用法"
   ]
  },
  {
   "cell_type": "markdown",
   "metadata": {},
   "source": [
    "# 1 全连接层"
   ]
  },
  {
   "cell_type": "code",
   "execution_count": 31,
   "metadata": {},
   "outputs": [],
   "source": [
    "# tf.keras.layers.Dense()"
   ]
  },
  {
   "cell_type": "markdown",
   "metadata": {},
   "source": [
    "# 2 卷积层"
   ]
  },
  {
   "cell_type": "code",
   "execution_count": 32,
   "metadata": {},
   "outputs": [],
   "source": [
    "# tf.keras.layers.Conv2D()\n",
    "# tf.keras.layers.Convolution2D()"
   ]
  },
  {
   "cell_type": "markdown",
   "metadata": {},
   "source": [
    "# 3 池化层"
   ]
  },
  {
   "cell_type": "code",
   "execution_count": 33,
   "metadata": {},
   "outputs": [],
   "source": [
    "# 平均值池化\n",
    "# tf.keras.layers.AvgPool2D()\n",
    "# tf.keras.layers.AveragePooling2D()\n",
    "\n",
    "# 最大值值池化\n",
    "# tf.keras.layers.MaxPool2D()\n",
    "# tf.keras.layers.MaxPooling2D()"
   ]
  },
  {
   "cell_type": "markdown",
   "metadata": {},
   "source": [
    "# 4 全局池化层"
   ]
  },
  {
   "cell_type": "markdown",
   "metadata": {},
   "source": [
    "全局池化层是怎么操作的。比如\n",
    "\n",
    "7x7图片-->resize-->49x1-->全连接层-->7x1\n",
    "\n",
    "7x7图片-->全局池平均值池化层-->7x1\n",
    "\n",
    "每一列取平均值。\n",
    "\n",
    "但是怎么解决全连接层是10的呢？"
   ]
  },
  {
   "cell_type": "code",
   "execution_count": 34,
   "metadata": {},
   "outputs": [],
   "source": [
    "# 全局平均值池化层\n",
    "# tf.keras.layers.GlobalAveragePooling2D()\n",
    "# tf.keras.layers.GlobalAvgPool2D()\n",
    "\n",
    "# 全局最大池化层\n",
    "# tf.keras.layers.GlobalMaxPool2D()\n",
    "# tf.keras.layers.GlobalMaxPooling2D()"
   ]
  },
  {
   "cell_type": "markdown",
   "metadata": {},
   "source": [
    "# 5 Dropout层"
   ]
  },
  {
   "cell_type": "code",
   "execution_count": null,
   "metadata": {},
   "outputs": [],
   "source": [
    "# tf.keras.layers.Dropout()"
   ]
  },
  {
   "cell_type": "markdown",
   "metadata": {},
   "source": [
    "# 6 BatchNormalization层"
   ]
  },
  {
   "cell_type": "markdown",
   "metadata": {},
   "source": [
    "这个归一化不是开始的归一化。\n",
    "\n",
    "开始的归一化，是为了加速学习？回忆BostonHousing的模型，房屋面积和卧室个数相差太大。房屋面积需要归一化。\n",
    "\n",
    "这里的BatchNormalization是每一层layer后面的做归一化，也就是bn。"
   ]
  },
  {
   "cell_type": "code",
   "execution_count": 36,
   "metadata": {},
   "outputs": [],
   "source": [
    "# tf.keras.layers.BatchNormalization()"
   ]
  },
  {
   "cell_type": "markdown",
   "metadata": {},
   "source": [
    "# CSDN"
   ]
  },
  {
   "cell_type": "code",
   "execution_count": 35,
   "metadata": {},
   "outputs": [
    {
     "name": "stdout",
     "output_type": "stream",
     "text": [
      "<tf.Variable 'Variable:0' shape=(2, 3) dtype=float32, numpy=\n",
      "array([[1., 1., 1.],\n",
      "       [1., 1., 1.]], dtype=float32)>\n",
      "<tf.Variable 'Variable:0' shape=(10, 10) dtype=float32, numpy=\n",
      "array([[0., 0., 0., 0., 0., 0., 0., 0., 0., 0.],\n",
      "       [0., 0., 0., 0., 0., 0., 0., 0., 0., 0.],\n",
      "       [0., 0., 0., 0., 0., 0., 0., 0., 0., 0.],\n",
      "       [0., 0., 0., 0., 0., 0., 0., 0., 0., 0.],\n",
      "       [0., 0., 0., 0., 0., 0., 0., 0., 0., 0.],\n",
      "       [0., 0., 0., 0., 0., 0., 0., 0., 0., 0.],\n",
      "       [0., 0., 0., 0., 0., 0., 0., 0., 0., 0.],\n",
      "       [0., 0., 0., 0., 0., 0., 0., 0., 0., 0.],\n",
      "       [0., 0., 0., 0., 0., 0., 0., 0., 0., 0.],\n",
      "       [0., 0., 0., 0., 0., 0., 0., 0., 0., 0.]], dtype=float32)>\n"
     ]
    }
   ],
   "source": [
    "my_var = tf.Variable(tf.ones([2,3]))\n",
    "print(my_var)\n",
    "try:\n",
    "    with tf.device(\"/device:GPU:0\"):\n",
    "        v = tf.Variable(tf.zeros([10, 10]))\n",
    "        print(v)\n",
    "except:\n",
    "    print('no gpu')\n"
   ]
  }
 ],
 "metadata": {
  "kernelspec": {
   "display_name": "Python 3",
   "language": "python",
   "name": "python3"
  },
  "language_info": {
   "codemirror_mode": {
    "name": "ipython",
    "version": 3
   },
   "file_extension": ".py",
   "mimetype": "text/x-python",
   "name": "python",
   "nbconvert_exporter": "python",
   "pygments_lexer": "ipython3",
   "version": "3.6.8"
  }
 },
 "nbformat": 4,
 "nbformat_minor": 2
}
