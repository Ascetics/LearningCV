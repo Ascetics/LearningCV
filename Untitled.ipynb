{
 "cells": [
  {
   "cell_type": "markdown",
   "metadata": {},
   "source": [
    "# 双线性差值"
   ]
  },
  {
   "cell_type": "markdown",
   "metadata": {},
   "source": [
    "# U-Net 代码"
   ]
  },
  {
   "cell_type": "code",
   "execution_count": 6,
   "metadata": {},
   "outputs": [
    {
     "name": "stdout",
     "output_type": "stream",
     "text": [
      "/root/private\n"
     ]
    },
    {
     "name": "stdout",
     "output_type": "stream",
     "text": [
      "Downloading http://fashion-mnist.s3-website.eu-central-1.amazonaws.com/train-images-idx3-ubyte.gz to /root/private/FashionMNIST/raw/train-images-idx3-ubyte.gz\n"
     ]
    },
    {
     "name": "stderr",
     "output_type": "stream",
     "text": [
      "\r0.0%"
     ]
    },
    {
     "name": "stderr",
     "output_type": "stream",
     "text": [
      "\r0.0%"
     ]
    },
    {
     "name": "stderr",
     "output_type": "stream",
     "text": [
      "\r0.1%"
     ]
    },
    {
     "name": "stderr",
     "output_type": "stream",
     "text": [
      "\r0.1%"
     ]
    },
    {
     "name": "stderr",
     "output_type": "stream",
     "text": [
      "\r0.1%"
     ]
    },
    {
     "name": "stderr",
     "output_type": "stream",
     "text": [
      "\r0.2%"
     ]
    },
    {
     "name": "stderr",
     "output_type": "stream",
     "text": [
      "\r0.2%"
     ]
    },
    {
     "name": "stderr",
     "output_type": "stream",
     "text": [
      "\r0.2%"
     ]
    },
    {
     "name": "stderr",
     "output_type": "stream",
     "text": [
      "\r0.2%"
     ]
    },
    {
     "name": "stderr",
     "output_type": "stream",
     "text": [
      "\r0.3%"
     ]
    },
    {
     "name": "stderr",
     "output_type": "stream",
     "text": [
      "\r0.3%"
     ]
    },
    {
     "name": "stderr",
     "output_type": "stream",
     "text": [
      "\r0.3%"
     ]
    },
    {
     "name": "stderr",
     "output_type": "stream",
     "text": [
      "\r0.4%"
     ]
    },
    {
     "name": "stderr",
     "output_type": "stream",
     "text": [
      "\r0.4%"
     ]
    },
    {
     "name": "stderr",
     "output_type": "stream",
     "text": [
      "\r0.4%"
     ]
    },
    {
     "name": "stderr",
     "output_type": "stream",
     "text": [
      "\r0.5%"
     ]
    },
    {
     "name": "stderr",
     "output_type": "stream",
     "text": [
      "\r0.5%"
     ]
    },
    {
     "name": "stderr",
     "output_type": "stream",
     "text": [
      "\r0.5%"
     ]
    },
    {
     "name": "stderr",
     "output_type": "stream",
     "text": [
      "\r0.6%"
     ]
    },
    {
     "name": "stderr",
     "output_type": "stream",
     "text": [
      "\r0.6%"
     ]
    },
    {
     "name": "stderr",
     "output_type": "stream",
     "text": [
      "\r0.6%"
     ]
    },
    {
     "name": "stderr",
     "output_type": "stream",
     "text": [
      "\r0.7%"
     ]
    },
    {
     "name": "stderr",
     "output_type": "stream",
     "text": [
      "\r0.7%"
     ]
    },
    {
     "name": "stderr",
     "output_type": "stream",
     "text": [
      "\r0.7%"
     ]
    },
    {
     "name": "stderr",
     "output_type": "stream",
     "text": [
      "\r0.7%"
     ]
    },
    {
     "name": "stderr",
     "output_type": "stream",
     "text": [
      "\r0.8%"
     ]
    },
    {
     "name": "stderr",
     "output_type": "stream",
     "text": [
      "\r0.8%"
     ]
    },
    {
     "name": "stderr",
     "output_type": "stream",
     "text": [
      "\r0.8%"
     ]
    },
    {
     "name": "stderr",
     "output_type": "stream",
     "text": [
      "\r0.9%"
     ]
    },
    {
     "name": "stderr",
     "output_type": "stream",
     "text": [
      "\r0.9%"
     ]
    },
    {
     "name": "stderr",
     "output_type": "stream",
     "text": [
      "\r0.9%"
     ]
    },
    {
     "name": "stderr",
     "output_type": "stream",
     "text": [
      "\r1.0%"
     ]
    },
    {
     "name": "stderr",
     "output_type": "stream",
     "text": [
      "\r1.0%"
     ]
    },
    {
     "name": "stderr",
     "output_type": "stream",
     "text": [
      "\r1.0%"
     ]
    },
    {
     "name": "stderr",
     "output_type": "stream",
     "text": [
      "\r1.1%"
     ]
    },
    {
     "name": "stderr",
     "output_type": "stream",
     "text": [
      "\r1.1%"
     ]
    },
    {
     "name": "stderr",
     "output_type": "stream",
     "text": [
      "\r1.1%"
     ]
    },
    {
     "name": "stderr",
     "output_type": "stream",
     "text": [
      "\r1.1%"
     ]
    },
    {
     "name": "stderr",
     "output_type": "stream",
     "text": [
      "\r1.2%"
     ]
    },
    {
     "name": "stderr",
     "output_type": "stream",
     "text": [
      "\r1.2%"
     ]
    },
    {
     "name": "stderr",
     "output_type": "stream",
     "text": [
      "\r1.2%"
     ]
    },
    {
     "name": "stderr",
     "output_type": "stream",
     "text": [
      "\r1.3%"
     ]
    },
    {
     "name": "stderr",
     "output_type": "stream",
     "text": [
      "\r1.3%"
     ]
    },
    {
     "name": "stderr",
     "output_type": "stream",
     "text": [
      "\r1.3%"
     ]
    },
    {
     "name": "stderr",
     "output_type": "stream",
     "text": [
      "\r1.4%"
     ]
    },
    {
     "name": "stderr",
     "output_type": "stream",
     "text": [
      "\r1.4%"
     ]
    },
    {
     "name": "stderr",
     "output_type": "stream",
     "text": [
      "\r1.4%"
     ]
    },
    {
     "name": "stderr",
     "output_type": "stream",
     "text": [
      "\r1.5%"
     ]
    },
    {
     "name": "stderr",
     "output_type": "stream",
     "text": [
      "\r1.5%"
     ]
    },
    {
     "name": "stderr",
     "output_type": "stream",
     "text": [
      "\r1.5%"
     ]
    },
    {
     "name": "stderr",
     "output_type": "stream",
     "text": [
      "\r1.6%"
     ]
    },
    {
     "name": "stderr",
     "output_type": "stream",
     "text": [
      "\r1.6%"
     ]
    },
    {
     "name": "stderr",
     "output_type": "stream",
     "text": [
      "\r1.6%"
     ]
    },
    {
     "name": "stderr",
     "output_type": "stream",
     "text": [
      "\r1.6%"
     ]
    },
    {
     "name": "stderr",
     "output_type": "stream",
     "text": [
      "\r1.7%"
     ]
    },
    {
     "name": "stderr",
     "output_type": "stream",
     "text": [
      "\r1.7%"
     ]
    },
    {
     "name": "stderr",
     "output_type": "stream",
     "text": [
      "\r1.7%"
     ]
    },
    {
     "name": "stderr",
     "output_type": "stream",
     "text": [
      "\r1.8%"
     ]
    },
    {
     "name": "stderr",
     "output_type": "stream",
     "text": [
      "\r1.8%"
     ]
    },
    {
     "name": "stderr",
     "output_type": "stream",
     "text": [
      "\r1.8%"
     ]
    },
    {
     "name": "stderr",
     "output_type": "stream",
     "text": [
      "\r1.9%"
     ]
    },
    {
     "name": "stderr",
     "output_type": "stream",
     "text": [
      "\r1.9%"
     ]
    },
    {
     "name": "stderr",
     "output_type": "stream",
     "text": [
      "\r1.9%"
     ]
    },
    {
     "name": "stderr",
     "output_type": "stream",
     "text": [
      "\r2.0%"
     ]
    },
    {
     "name": "stderr",
     "output_type": "stream",
     "text": [
      "\r2.0%"
     ]
    },
    {
     "name": "stderr",
     "output_type": "stream",
     "text": [
      "\r2.0%"
     ]
    },
    {
     "name": "stderr",
     "output_type": "stream",
     "text": [
      "\r2.0%"
     ]
    },
    {
     "name": "stderr",
     "output_type": "stream",
     "text": [
      "\r2.1%"
     ]
    },
    {
     "name": "stderr",
     "output_type": "stream",
     "text": [
      "\r2.1%"
     ]
    },
    {
     "name": "stderr",
     "output_type": "stream",
     "text": [
      "\r2.1%"
     ]
    },
    {
     "name": "stderr",
     "output_type": "stream",
     "text": [
      "\r2.2%"
     ]
    },
    {
     "name": "stderr",
     "output_type": "stream",
     "text": [
      "\r2.2%"
     ]
    },
    {
     "name": "stderr",
     "output_type": "stream",
     "text": [
      "\r2.2%"
     ]
    },
    {
     "name": "stderr",
     "output_type": "stream",
     "text": [
      "\r2.3%"
     ]
    },
    {
     "name": "stderr",
     "output_type": "stream",
     "text": [
      "\r2.3%"
     ]
    },
    {
     "name": "stderr",
     "output_type": "stream",
     "text": [
      "\r2.3%"
     ]
    },
    {
     "name": "stderr",
     "output_type": "stream",
     "text": [
      "\r2.4%"
     ]
    },
    {
     "name": "stderr",
     "output_type": "stream",
     "text": [
      "\r2.4%"
     ]
    },
    {
     "name": "stderr",
     "output_type": "stream",
     "text": [
      "\r2.4%"
     ]
    },
    {
     "name": "stderr",
     "output_type": "stream",
     "text": [
      "\r2.4%"
     ]
    },
    {
     "name": "stderr",
     "output_type": "stream",
     "text": [
      "\r2.5%"
     ]
    },
    {
     "name": "stderr",
     "output_type": "stream",
     "text": [
      "\r2.5%"
     ]
    },
    {
     "name": "stderr",
     "output_type": "stream",
     "text": [
      "\r2.5%"
     ]
    },
    {
     "name": "stderr",
     "output_type": "stream",
     "text": [
      "\r2.6%"
     ]
    },
    {
     "name": "stderr",
     "output_type": "stream",
     "text": [
      "\r2.6%"
     ]
    },
    {
     "name": "stderr",
     "output_type": "stream",
     "text": [
      "\r2.6%"
     ]
    },
    {
     "name": "stderr",
     "output_type": "stream",
     "text": [
      "\r2.7%"
     ]
    },
    {
     "name": "stderr",
     "output_type": "stream",
     "text": [
      "\r2.7%"
     ]
    },
    {
     "name": "stderr",
     "output_type": "stream",
     "text": [
      "\r2.7%"
     ]
    },
    {
     "name": "stderr",
     "output_type": "stream",
     "text": [
      "\r2.8%"
     ]
    },
    {
     "name": "stderr",
     "output_type": "stream",
     "text": [
      "\r2.8%"
     ]
    },
    {
     "name": "stderr",
     "output_type": "stream",
     "text": [
      "\r2.8%"
     ]
    },
    {
     "name": "stderr",
     "output_type": "stream",
     "text": [
      "\r2.9%"
     ]
    },
    {
     "name": "stderr",
     "output_type": "stream",
     "text": [
      "\r2.9%"
     ]
    },
    {
     "name": "stderr",
     "output_type": "stream",
     "text": [
      "\r2.9%"
     ]
    },
    {
     "name": "stderr",
     "output_type": "stream",
     "text": [
      "\r2.9%"
     ]
    },
    {
     "name": "stderr",
     "output_type": "stream",
     "text": [
      "\r3.0%"
     ]
    },
    {
     "name": "stderr",
     "output_type": "stream",
     "text": [
      "\r3.0%"
     ]
    },
    {
     "name": "stderr",
     "output_type": "stream",
     "text": [
      "\r3.0%"
     ]
    },
    {
     "name": "stderr",
     "output_type": "stream",
     "text": [
      "\r3.1%"
     ]
    },
    {
     "name": "stderr",
     "output_type": "stream",
     "text": [
      "\r3.1%"
     ]
    },
    {
     "name": "stderr",
     "output_type": "stream",
     "text": [
      "\r3.1%"
     ]
    },
    {
     "name": "stderr",
     "output_type": "stream",
     "text": [
      "\r3.2%"
     ]
    },
    {
     "name": "stderr",
     "output_type": "stream",
     "text": [
      "\r3.2%"
     ]
    },
    {
     "name": "stderr",
     "output_type": "stream",
     "text": [
      "\r3.2%"
     ]
    },
    {
     "name": "stderr",
     "output_type": "stream",
     "text": [
      "\r3.3%"
     ]
    },
    {
     "name": "stderr",
     "output_type": "stream",
     "text": [
      "\r3.3%"
     ]
    },
    {
     "name": "stderr",
     "output_type": "stream",
     "text": [
      "\r3.3%"
     ]
    },
    {
     "name": "stderr",
     "output_type": "stream",
     "text": [
      "\r3.3%"
     ]
    },
    {
     "name": "stderr",
     "output_type": "stream",
     "text": [
      "\r3.4%"
     ]
    },
    {
     "name": "stderr",
     "output_type": "stream",
     "text": [
      "\r3.4%"
     ]
    },
    {
     "name": "stderr",
     "output_type": "stream",
     "text": [
      "\r3.4%"
     ]
    },
    {
     "name": "stderr",
     "output_type": "stream",
     "text": [
      "\r3.5%"
     ]
    },
    {
     "name": "stderr",
     "output_type": "stream",
     "text": [
      "\r3.5%"
     ]
    },
    {
     "name": "stderr",
     "output_type": "stream",
     "text": [
      "\r3.5%"
     ]
    },
    {
     "name": "stderr",
     "output_type": "stream",
     "text": [
      "\r3.6%"
     ]
    },
    {
     "name": "stderr",
     "output_type": "stream",
     "text": [
      "\r3.6%"
     ]
    },
    {
     "name": "stderr",
     "output_type": "stream",
     "text": [
      "\r3.6%"
     ]
    },
    {
     "name": "stderr",
     "output_type": "stream",
     "text": [
      "\r3.7%"
     ]
    },
    {
     "name": "stderr",
     "output_type": "stream",
     "text": [
      "\r3.7%"
     ]
    },
    {
     "name": "stderr",
     "output_type": "stream",
     "text": [
      "\r3.7%"
     ]
    },
    {
     "name": "stderr",
     "output_type": "stream",
     "text": [
      "\r3.8%"
     ]
    },
    {
     "name": "stderr",
     "output_type": "stream",
     "text": [
      "\r3.8%"
     ]
    },
    {
     "name": "stderr",
     "output_type": "stream",
     "text": [
      "\r3.8%"
     ]
    },
    {
     "name": "stderr",
     "output_type": "stream",
     "text": [
      "\r3.8%"
     ]
    },
    {
     "name": "stderr",
     "output_type": "stream",
     "text": [
      "\r3.9%"
     ]
    },
    {
     "name": "stderr",
     "output_type": "stream",
     "text": [
      "\r3.9%"
     ]
    },
    {
     "name": "stderr",
     "output_type": "stream",
     "text": [
      "\r3.9%"
     ]
    },
    {
     "name": "stderr",
     "output_type": "stream",
     "text": [
      "\r4.0%"
     ]
    },
    {
     "name": "stderr",
     "output_type": "stream",
     "text": [
      "\r4.0%"
     ]
    },
    {
     "name": "stderr",
     "output_type": "stream",
     "text": [
      "\r4.0%"
     ]
    },
    {
     "name": "stderr",
     "output_type": "stream",
     "text": [
      "\r4.1%"
     ]
    },
    {
     "name": "stderr",
     "output_type": "stream",
     "text": [
      "\r4.1%"
     ]
    },
    {
     "name": "stderr",
     "output_type": "stream",
     "text": [
      "\r4.1%"
     ]
    },
    {
     "name": "stderr",
     "output_type": "stream",
     "text": [
      "\r4.2%"
     ]
    },
    {
     "name": "stderr",
     "output_type": "stream",
     "text": [
      "\r4.2%"
     ]
    },
    {
     "name": "stderr",
     "output_type": "stream",
     "text": [
      "\r4.2%"
     ]
    },
    {
     "name": "stderr",
     "output_type": "stream",
     "text": [
      "\r4.2%"
     ]
    },
    {
     "name": "stderr",
     "output_type": "stream",
     "text": [
      "\r4.3%"
     ]
    },
    {
     "name": "stderr",
     "output_type": "stream",
     "text": [
      "\r4.3%"
     ]
    },
    {
     "name": "stderr",
     "output_type": "stream",
     "text": [
      "\r4.3%"
     ]
    },
    {
     "name": "stderr",
     "output_type": "stream",
     "text": [
      "\r4.4%"
     ]
    },
    {
     "name": "stderr",
     "output_type": "stream",
     "text": [
      "\r4.4%"
     ]
    },
    {
     "name": "stderr",
     "output_type": "stream",
     "text": [
      "\r4.4%"
     ]
    },
    {
     "name": "stderr",
     "output_type": "stream",
     "text": [
      "\r4.5%"
     ]
    },
    {
     "name": "stderr",
     "output_type": "stream",
     "text": [
      "\r4.5%"
     ]
    },
    {
     "name": "stderr",
     "output_type": "stream",
     "text": [
      "\r4.5%"
     ]
    },
    {
     "name": "stderr",
     "output_type": "stream",
     "text": [
      "\r4.6%"
     ]
    },
    {
     "name": "stderr",
     "output_type": "stream",
     "text": [
      "\r4.6%"
     ]
    },
    {
     "name": "stderr",
     "output_type": "stream",
     "text": [
      "\r4.6%"
     ]
    },
    {
     "name": "stderr",
     "output_type": "stream",
     "text": [
      "\r4.7%"
     ]
    },
    {
     "name": "stderr",
     "output_type": "stream",
     "text": [
      "\r4.7%"
     ]
    },
    {
     "name": "stderr",
     "output_type": "stream",
     "text": [
      "\r4.7%"
     ]
    },
    {
     "name": "stderr",
     "output_type": "stream",
     "text": [
      "\r4.7%"
     ]
    },
    {
     "name": "stderr",
     "output_type": "stream",
     "text": [
      "\r4.8%"
     ]
    },
    {
     "name": "stderr",
     "output_type": "stream",
     "text": [
      "\r4.8%"
     ]
    },
    {
     "name": "stderr",
     "output_type": "stream",
     "text": [
      "\r4.8%"
     ]
    },
    {
     "name": "stderr",
     "output_type": "stream",
     "text": [
      "\r4.9%"
     ]
    },
    {
     "name": "stderr",
     "output_type": "stream",
     "text": [
      "\r4.9%"
     ]
    },
    {
     "name": "stderr",
     "output_type": "stream",
     "text": [
      "\r4.9%"
     ]
    },
    {
     "name": "stderr",
     "output_type": "stream",
     "text": [
      "\r5.0%"
     ]
    },
    {
     "name": "stderr",
     "output_type": "stream",
     "text": [
      "\r5.0%"
     ]
    },
    {
     "name": "stderr",
     "output_type": "stream",
     "text": [
      "\r5.0%"
     ]
    },
    {
     "name": "stderr",
     "output_type": "stream",
     "text": [
      "\r5.1%"
     ]
    },
    {
     "name": "stderr",
     "output_type": "stream",
     "text": [
      "\r5.1%"
     ]
    },
    {
     "name": "stderr",
     "output_type": "stream",
     "text": [
      "\r5.1%"
     ]
    },
    {
     "name": "stderr",
     "output_type": "stream",
     "text": [
      "\r5.1%"
     ]
    },
    {
     "name": "stderr",
     "output_type": "stream",
     "text": [
      "\r5.2%"
     ]
    },
    {
     "name": "stderr",
     "output_type": "stream",
     "text": [
      "\r5.2%"
     ]
    },
    {
     "name": "stderr",
     "output_type": "stream",
     "text": [
      "\r5.2%"
     ]
    },
    {
     "name": "stderr",
     "output_type": "stream",
     "text": [
      "\r5.3%"
     ]
    },
    {
     "name": "stderr",
     "output_type": "stream",
     "text": [
      "\r5.3%"
     ]
    },
    {
     "name": "stderr",
     "output_type": "stream",
     "text": [
      "\r5.3%"
     ]
    },
    {
     "name": "stderr",
     "output_type": "stream",
     "text": [
      "\r5.4%"
     ]
    },
    {
     "name": "stderr",
     "output_type": "stream",
     "text": [
      "\r5.4%"
     ]
    },
    {
     "name": "stderr",
     "output_type": "stream",
     "text": [
      "\r5.4%"
     ]
    },
    {
     "name": "stderr",
     "output_type": "stream",
     "text": [
      "\r5.5%"
     ]
    },
    {
     "name": "stderr",
     "output_type": "stream",
     "text": [
      "\r5.5%"
     ]
    },
    {
     "name": "stderr",
     "output_type": "stream",
     "text": [
      "\r5.5%"
     ]
    },
    {
     "name": "stderr",
     "output_type": "stream",
     "text": [
      "\r5.5%"
     ]
    },
    {
     "name": "stderr",
     "output_type": "stream",
     "text": [
      "\r5.6%"
     ]
    },
    {
     "name": "stderr",
     "output_type": "stream",
     "text": [
      "\r5.6%"
     ]
    },
    {
     "name": "stderr",
     "output_type": "stream",
     "text": [
      "\r5.6%"
     ]
    },
    {
     "name": "stderr",
     "output_type": "stream",
     "text": [
      "\r5.7%"
     ]
    },
    {
     "name": "stderr",
     "output_type": "stream",
     "text": [
      "\r5.7%"
     ]
    },
    {
     "name": "stderr",
     "output_type": "stream",
     "text": [
      "\r5.7%"
     ]
    },
    {
     "name": "stderr",
     "output_type": "stream",
     "text": [
      "\r5.8%"
     ]
    },
    {
     "name": "stderr",
     "output_type": "stream",
     "text": [
      "\r5.8%"
     ]
    },
    {
     "name": "stderr",
     "output_type": "stream",
     "text": [
      "\r5.8%"
     ]
    },
    {
     "name": "stderr",
     "output_type": "stream",
     "text": [
      "\r5.9%"
     ]
    },
    {
     "name": "stderr",
     "output_type": "stream",
     "text": [
      "\r5.9%"
     ]
    },
    {
     "name": "stderr",
     "output_type": "stream",
     "text": [
      "\r5.9%"
     ]
    },
    {
     "name": "stderr",
     "output_type": "stream",
     "text": [
      "\r6.0%"
     ]
    },
    {
     "name": "stderr",
     "output_type": "stream",
     "text": [
      "\r6.0%"
     ]
    },
    {
     "name": "stderr",
     "output_type": "stream",
     "text": [
      "\r6.0%"
     ]
    },
    {
     "name": "stderr",
     "output_type": "stream",
     "text": [
      "\r6.0%"
     ]
    },
    {
     "name": "stderr",
     "output_type": "stream",
     "text": [
      "\r6.1%"
     ]
    },
    {
     "name": "stderr",
     "output_type": "stream",
     "text": [
      "\r6.1%"
     ]
    },
    {
     "name": "stderr",
     "output_type": "stream",
     "text": [
      "\r6.1%"
     ]
    },
    {
     "name": "stderr",
     "output_type": "stream",
     "text": [
      "\r6.2%"
     ]
    },
    {
     "name": "stderr",
     "output_type": "stream",
     "text": [
      "\r6.2%"
     ]
    },
    {
     "name": "stderr",
     "output_type": "stream",
     "text": [
      "\r6.2%"
     ]
    },
    {
     "name": "stderr",
     "output_type": "stream",
     "text": [
      "\r6.3%"
     ]
    },
    {
     "name": "stderr",
     "output_type": "stream",
     "text": [
      "\r6.3%"
     ]
    },
    {
     "name": "stderr",
     "output_type": "stream",
     "text": [
      "\r6.3%"
     ]
    },
    {
     "name": "stderr",
     "output_type": "stream",
     "text": [
      "\r6.4%"
     ]
    },
    {
     "name": "stderr",
     "output_type": "stream",
     "text": [
      "\r6.4%"
     ]
    },
    {
     "name": "stderr",
     "output_type": "stream",
     "text": [
      "\r6.4%"
     ]
    },
    {
     "name": "stderr",
     "output_type": "stream",
     "text": [
      "\r6.4%"
     ]
    },
    {
     "name": "stderr",
     "output_type": "stream",
     "text": [
      "\r6.5%"
     ]
    },
    {
     "name": "stderr",
     "output_type": "stream",
     "text": [
      "\r6.5%"
     ]
    },
    {
     "name": "stderr",
     "output_type": "stream",
     "text": [
      "\r6.5%"
     ]
    },
    {
     "name": "stderr",
     "output_type": "stream",
     "text": [
      "\r6.6%"
     ]
    },
    {
     "name": "stderr",
     "output_type": "stream",
     "text": [
      "\r6.6%"
     ]
    },
    {
     "name": "stderr",
     "output_type": "stream",
     "text": [
      "\r6.6%"
     ]
    },
    {
     "name": "stderr",
     "output_type": "stream",
     "text": [
      "\r6.7%"
     ]
    },
    {
     "name": "stderr",
     "output_type": "stream",
     "text": [
      "\r6.7%"
     ]
    },
    {
     "name": "stderr",
     "output_type": "stream",
     "text": [
      "\r6.7%"
     ]
    },
    {
     "name": "stderr",
     "output_type": "stream",
     "text": [
      "\r6.8%"
     ]
    },
    {
     "name": "stderr",
     "output_type": "stream",
     "text": [
      "\r6.8%"
     ]
    },
    {
     "name": "stderr",
     "output_type": "stream",
     "text": [
      "\r6.8%"
     ]
    },
    {
     "name": "stderr",
     "output_type": "stream",
     "text": [
      "\r6.9%"
     ]
    },
    {
     "name": "stderr",
     "output_type": "stream",
     "text": [
      "\r6.9%"
     ]
    },
    {
     "name": "stderr",
     "output_type": "stream",
     "text": [
      "\r6.9%"
     ]
    },
    {
     "name": "stderr",
     "output_type": "stream",
     "text": [
      "\r6.9%"
     ]
    },
    {
     "name": "stderr",
     "output_type": "stream",
     "text": [
      "\r7.0%"
     ]
    },
    {
     "name": "stderr",
     "output_type": "stream",
     "text": [
      "\r7.0%"
     ]
    },
    {
     "name": "stderr",
     "output_type": "stream",
     "text": [
      "\r7.0%"
     ]
    },
    {
     "name": "stderr",
     "output_type": "stream",
     "text": [
      "\r7.1%"
     ]
    },
    {
     "name": "stderr",
     "output_type": "stream",
     "text": [
      "\r7.1%"
     ]
    },
    {
     "name": "stderr",
     "output_type": "stream",
     "text": [
      "\r7.1%"
     ]
    },
    {
     "name": "stderr",
     "output_type": "stream",
     "text": [
      "\r7.2%"
     ]
    },
    {
     "name": "stderr",
     "output_type": "stream",
     "text": [
      "\r7.2%"
     ]
    },
    {
     "name": "stderr",
     "output_type": "stream",
     "text": [
      "\r7.2%"
     ]
    },
    {
     "name": "stderr",
     "output_type": "stream",
     "text": [
      "\r7.3%"
     ]
    },
    {
     "name": "stderr",
     "output_type": "stream",
     "text": [
      "\r7.3%"
     ]
    },
    {
     "name": "stderr",
     "output_type": "stream",
     "text": [
      "\r7.3%"
     ]
    },
    {
     "name": "stderr",
     "output_type": "stream",
     "text": [
      "\r7.3%"
     ]
    },
    {
     "name": "stderr",
     "output_type": "stream",
     "text": [
      "\r7.4%"
     ]
    },
    {
     "name": "stderr",
     "output_type": "stream",
     "text": [
      "\r7.4%"
     ]
    },
    {
     "name": "stderr",
     "output_type": "stream",
     "text": [
      "\r7.4%"
     ]
    },
    {
     "name": "stderr",
     "output_type": "stream",
     "text": [
      "\r7.5%"
     ]
    },
    {
     "name": "stderr",
     "output_type": "stream",
     "text": [
      "\r7.5%"
     ]
    },
    {
     "name": "stderr",
     "output_type": "stream",
     "text": [
      "\r7.5%"
     ]
    },
    {
     "name": "stderr",
     "output_type": "stream",
     "text": [
      "\r7.6%"
     ]
    },
    {
     "name": "stderr",
     "output_type": "stream",
     "text": [
      "\r7.6%"
     ]
    },
    {
     "name": "stderr",
     "output_type": "stream",
     "text": [
      "\r7.6%"
     ]
    },
    {
     "name": "stderr",
     "output_type": "stream",
     "text": [
      "\r7.7%"
     ]
    },
    {
     "name": "stderr",
     "output_type": "stream",
     "text": [
      "\r7.7%"
     ]
    },
    {
     "name": "stderr",
     "output_type": "stream",
     "text": [
      "\r7.7%"
     ]
    },
    {
     "name": "stderr",
     "output_type": "stream",
     "text": [
      "\r7.8%"
     ]
    },
    {
     "name": "stderr",
     "output_type": "stream",
     "text": [
      "\r7.8%"
     ]
    },
    {
     "name": "stderr",
     "output_type": "stream",
     "text": [
      "\r7.8%"
     ]
    },
    {
     "name": "stderr",
     "output_type": "stream",
     "text": [
      "\r7.8%"
     ]
    },
    {
     "name": "stderr",
     "output_type": "stream",
     "text": [
      "\r7.9%"
     ]
    },
    {
     "name": "stderr",
     "output_type": "stream",
     "text": [
      "\r7.9%"
     ]
    },
    {
     "name": "stderr",
     "output_type": "stream",
     "text": [
      "\r7.9%"
     ]
    },
    {
     "name": "stderr",
     "output_type": "stream",
     "text": [
      "\r8.0%"
     ]
    },
    {
     "name": "stderr",
     "output_type": "stream",
     "text": [
      "\r8.0%"
     ]
    },
    {
     "name": "stderr",
     "output_type": "stream",
     "text": [
      "\r8.0%"
     ]
    },
    {
     "name": "stderr",
     "output_type": "stream",
     "text": [
      "\r8.1%"
     ]
    },
    {
     "name": "stderr",
     "output_type": "stream",
     "text": [
      "\r8.1%"
     ]
    },
    {
     "name": "stderr",
     "output_type": "stream",
     "text": [
      "\r8.1%"
     ]
    },
    {
     "name": "stderr",
     "output_type": "stream",
     "text": [
      "\r8.2%"
     ]
    },
    {
     "name": "stderr",
     "output_type": "stream",
     "text": [
      "\r8.2%"
     ]
    },
    {
     "name": "stderr",
     "output_type": "stream",
     "text": [
      "\r8.2%"
     ]
    },
    {
     "name": "stderr",
     "output_type": "stream",
     "text": [
      "\r8.2%"
     ]
    },
    {
     "name": "stderr",
     "output_type": "stream",
     "text": [
      "\r8.3%"
     ]
    },
    {
     "name": "stderr",
     "output_type": "stream",
     "text": [
      "\r8.3%"
     ]
    },
    {
     "name": "stderr",
     "output_type": "stream",
     "text": [
      "\r8.3%"
     ]
    },
    {
     "name": "stderr",
     "output_type": "stream",
     "text": [
      "\r8.4%"
     ]
    },
    {
     "name": "stderr",
     "output_type": "stream",
     "text": [
      "\r8.4%"
     ]
    },
    {
     "name": "stderr",
     "output_type": "stream",
     "text": [
      "\r8.4%"
     ]
    },
    {
     "name": "stderr",
     "output_type": "stream",
     "text": [
      "\r8.5%"
     ]
    },
    {
     "name": "stderr",
     "output_type": "stream",
     "text": [
      "\r8.5%"
     ]
    },
    {
     "name": "stderr",
     "output_type": "stream",
     "text": [
      "\r8.5%"
     ]
    },
    {
     "name": "stderr",
     "output_type": "stream",
     "text": [
      "\r8.6%"
     ]
    },
    {
     "name": "stderr",
     "output_type": "stream",
     "text": [
      "\r8.6%"
     ]
    },
    {
     "name": "stderr",
     "output_type": "stream",
     "text": [
      "\r8.6%"
     ]
    },
    {
     "name": "stderr",
     "output_type": "stream",
     "text": [
      "\r8.7%"
     ]
    },
    {
     "name": "stderr",
     "output_type": "stream",
     "text": [
      "\r8.7%"
     ]
    },
    {
     "name": "stderr",
     "output_type": "stream",
     "text": [
      "\r8.7%"
     ]
    },
    {
     "name": "stderr",
     "output_type": "stream",
     "text": [
      "\r8.7%"
     ]
    },
    {
     "name": "stderr",
     "output_type": "stream",
     "text": [
      "\r8.8%"
     ]
    },
    {
     "name": "stderr",
     "output_type": "stream",
     "text": [
      "\r8.8%"
     ]
    },
    {
     "name": "stderr",
     "output_type": "stream",
     "text": [
      "\r8.8%"
     ]
    },
    {
     "name": "stderr",
     "output_type": "stream",
     "text": [
      "\r8.9%"
     ]
    },
    {
     "name": "stderr",
     "output_type": "stream",
     "text": [
      "\r8.9%"
     ]
    },
    {
     "name": "stderr",
     "output_type": "stream",
     "text": [
      "\r8.9%"
     ]
    },
    {
     "name": "stderr",
     "output_type": "stream",
     "text": [
      "\r9.0%"
     ]
    },
    {
     "name": "stderr",
     "output_type": "stream",
     "text": [
      "\r9.0%"
     ]
    },
    {
     "name": "stderr",
     "output_type": "stream",
     "text": [
      "\r9.0%"
     ]
    },
    {
     "name": "stderr",
     "output_type": "stream",
     "text": [
      "\r9.1%"
     ]
    },
    {
     "name": "stderr",
     "output_type": "stream",
     "text": [
      "\r9.1%"
     ]
    },
    {
     "name": "stderr",
     "output_type": "stream",
     "text": [
      "\r9.1%"
     ]
    },
    {
     "name": "stderr",
     "output_type": "stream",
     "text": [
      "\r9.1%"
     ]
    },
    {
     "name": "stderr",
     "output_type": "stream",
     "text": [
      "\r9.2%"
     ]
    },
    {
     "name": "stderr",
     "output_type": "stream",
     "text": [
      "\r9.2%"
     ]
    },
    {
     "name": "stderr",
     "output_type": "stream",
     "text": [
      "\r9.2%"
     ]
    },
    {
     "name": "stderr",
     "output_type": "stream",
     "text": [
      "\r9.3%"
     ]
    },
    {
     "name": "stderr",
     "output_type": "stream",
     "text": [
      "\r9.3%"
     ]
    },
    {
     "name": "stderr",
     "output_type": "stream",
     "text": [
      "\r9.3%"
     ]
    },
    {
     "name": "stderr",
     "output_type": "stream",
     "text": [
      "\r9.4%"
     ]
    },
    {
     "name": "stderr",
     "output_type": "stream",
     "text": [
      "\r9.4%"
     ]
    },
    {
     "name": "stderr",
     "output_type": "stream",
     "text": [
      "\r9.4%"
     ]
    },
    {
     "name": "stderr",
     "output_type": "stream",
     "text": [
      "\r9.5%"
     ]
    },
    {
     "name": "stderr",
     "output_type": "stream",
     "text": [
      "\r9.5%"
     ]
    },
    {
     "name": "stderr",
     "output_type": "stream",
     "text": [
      "\r9.5%"
     ]
    },
    {
     "name": "stderr",
     "output_type": "stream",
     "text": [
      "\r9.5%"
     ]
    },
    {
     "name": "stderr",
     "output_type": "stream",
     "text": [
      "\r9.6%"
     ]
    },
    {
     "name": "stderr",
     "output_type": "stream",
     "text": [
      "\r9.6%"
     ]
    },
    {
     "name": "stderr",
     "output_type": "stream",
     "text": [
      "\r9.6%"
     ]
    },
    {
     "name": "stderr",
     "output_type": "stream",
     "text": [
      "\r9.7%"
     ]
    },
    {
     "name": "stderr",
     "output_type": "stream",
     "text": [
      "\r9.7%"
     ]
    },
    {
     "name": "stderr",
     "output_type": "stream",
     "text": [
      "\r9.7%"
     ]
    },
    {
     "name": "stderr",
     "output_type": "stream",
     "text": [
      "\r9.8%"
     ]
    },
    {
     "name": "stderr",
     "output_type": "stream",
     "text": [
      "\r9.8%"
     ]
    },
    {
     "name": "stderr",
     "output_type": "stream",
     "text": [
      "\r9.8%"
     ]
    },
    {
     "name": "stderr",
     "output_type": "stream",
     "text": [
      "\r9.9%"
     ]
    },
    {
     "name": "stderr",
     "output_type": "stream",
     "text": [
      "\r9.9%"
     ]
    },
    {
     "name": "stderr",
     "output_type": "stream",
     "text": [
      "\r9.9%"
     ]
    },
    {
     "name": "stderr",
     "output_type": "stream",
     "text": [
      "\r10.0%"
     ]
    },
    {
     "name": "stderr",
     "output_type": "stream",
     "text": [
      "\r10.0%"
     ]
    },
    {
     "name": "stderr",
     "output_type": "stream",
     "text": [
      "\r10.0%"
     ]
    },
    {
     "name": "stderr",
     "output_type": "stream",
     "text": [
      "\r10.0%"
     ]
    },
    {
     "name": "stderr",
     "output_type": "stream",
     "text": [
      "\r10.1%"
     ]
    },
    {
     "name": "stderr",
     "output_type": "stream",
     "text": [
      "\r10.1%"
     ]
    },
    {
     "name": "stderr",
     "output_type": "stream",
     "text": [
      "\r10.1%"
     ]
    },
    {
     "name": "stderr",
     "output_type": "stream",
     "text": [
      "\r10.2%"
     ]
    },
    {
     "name": "stderr",
     "output_type": "stream",
     "text": [
      "\r10.2%"
     ]
    },
    {
     "name": "stderr",
     "output_type": "stream",
     "text": [
      "\r10.2%"
     ]
    },
    {
     "name": "stderr",
     "output_type": "stream",
     "text": [
      "\r10.3%"
     ]
    },
    {
     "name": "stderr",
     "output_type": "stream",
     "text": [
      "\r10.3%"
     ]
    },
    {
     "name": "stderr",
     "output_type": "stream",
     "text": [
      "\r10.3%"
     ]
    },
    {
     "name": "stderr",
     "output_type": "stream",
     "text": [
      "\r10.4%"
     ]
    },
    {
     "name": "stderr",
     "output_type": "stream",
     "text": [
      "\r10.4%"
     ]
    },
    {
     "name": "stderr",
     "output_type": "stream",
     "text": [
      "\r10.4%"
     ]
    },
    {
     "name": "stderr",
     "output_type": "stream",
     "text": [
      "\r10.4%"
     ]
    },
    {
     "name": "stderr",
     "output_type": "stream",
     "text": [
      "\r10.5%"
     ]
    },
    {
     "name": "stderr",
     "output_type": "stream",
     "text": [
      "\r10.5%"
     ]
    },
    {
     "name": "stderr",
     "output_type": "stream",
     "text": [
      "\r10.5%"
     ]
    },
    {
     "name": "stderr",
     "output_type": "stream",
     "text": [
      "\r10.6%"
     ]
    },
    {
     "name": "stderr",
     "output_type": "stream",
     "text": [
      "\r10.6%"
     ]
    },
    {
     "name": "stderr",
     "output_type": "stream",
     "text": [
      "\r10.6%"
     ]
    },
    {
     "name": "stderr",
     "output_type": "stream",
     "text": [
      "\r10.7%"
     ]
    },
    {
     "name": "stderr",
     "output_type": "stream",
     "text": [
      "\r10.7%"
     ]
    },
    {
     "name": "stderr",
     "output_type": "stream",
     "text": [
      "\r10.7%"
     ]
    },
    {
     "name": "stderr",
     "output_type": "stream",
     "text": [
      "\r10.8%"
     ]
    },
    {
     "name": "stderr",
     "output_type": "stream",
     "text": [
      "\r10.8%"
     ]
    },
    {
     "name": "stderr",
     "output_type": "stream",
     "text": [
      "\r10.8%"
     ]
    },
    {
     "name": "stderr",
     "output_type": "stream",
     "text": [
      "\r10.9%"
     ]
    },
    {
     "name": "stderr",
     "output_type": "stream",
     "text": [
      "\r10.9%"
     ]
    },
    {
     "name": "stderr",
     "output_type": "stream",
     "text": [
      "\r10.9%"
     ]
    },
    {
     "name": "stderr",
     "output_type": "stream",
     "text": [
      "\r10.9%"
     ]
    },
    {
     "name": "stderr",
     "output_type": "stream",
     "text": [
      "\r11.0%"
     ]
    },
    {
     "name": "stderr",
     "output_type": "stream",
     "text": [
      "\r11.0%"
     ]
    },
    {
     "name": "stderr",
     "output_type": "stream",
     "text": [
      "\r11.0%"
     ]
    },
    {
     "name": "stderr",
     "output_type": "stream",
     "text": [
      "\r11.1%"
     ]
    },
    {
     "name": "stderr",
     "output_type": "stream",
     "text": [
      "\r11.1%"
     ]
    },
    {
     "name": "stderr",
     "output_type": "stream",
     "text": [
      "\r11.1%"
     ]
    },
    {
     "name": "stderr",
     "output_type": "stream",
     "text": [
      "\r11.2%"
     ]
    },
    {
     "name": "stderr",
     "output_type": "stream",
     "text": [
      "\r11.2%"
     ]
    },
    {
     "name": "stderr",
     "output_type": "stream",
     "text": [
      "\r11.2%"
     ]
    },
    {
     "name": "stderr",
     "output_type": "stream",
     "text": [
      "\r11.3%"
     ]
    },
    {
     "name": "stderr",
     "output_type": "stream",
     "text": [
      "\r11.3%"
     ]
    },
    {
     "name": "stderr",
     "output_type": "stream",
     "text": [
      "\r11.3%"
     ]
    },
    {
     "name": "stderr",
     "output_type": "stream",
     "text": [
      "\r11.3%"
     ]
    },
    {
     "name": "stderr",
     "output_type": "stream",
     "text": [
      "\r11.4%"
     ]
    },
    {
     "name": "stderr",
     "output_type": "stream",
     "text": [
      "\r11.4%"
     ]
    },
    {
     "name": "stderr",
     "output_type": "stream",
     "text": [
      "\r11.4%"
     ]
    },
    {
     "name": "stderr",
     "output_type": "stream",
     "text": [
      "\r11.5%"
     ]
    },
    {
     "name": "stderr",
     "output_type": "stream",
     "text": [
      "\r11.5%"
     ]
    },
    {
     "name": "stderr",
     "output_type": "stream",
     "text": [
      "\r11.5%"
     ]
    },
    {
     "name": "stderr",
     "output_type": "stream",
     "text": [
      "\r11.6%"
     ]
    },
    {
     "name": "stderr",
     "output_type": "stream",
     "text": [
      "\r11.6%"
     ]
    },
    {
     "name": "stderr",
     "output_type": "stream",
     "text": [
      "\r11.6%"
     ]
    },
    {
     "name": "stderr",
     "output_type": "stream",
     "text": [
      "\r11.7%"
     ]
    },
    {
     "name": "stderr",
     "output_type": "stream",
     "text": [
      "\r11.7%"
     ]
    },
    {
     "name": "stderr",
     "output_type": "stream",
     "text": [
      "\r11.7%"
     ]
    },
    {
     "name": "stderr",
     "output_type": "stream",
     "text": [
      "\r11.8%"
     ]
    },
    {
     "name": "stderr",
     "output_type": "stream",
     "text": [
      "\r11.8%"
     ]
    },
    {
     "name": "stderr",
     "output_type": "stream",
     "text": [
      "\r11.8%"
     ]
    },
    {
     "name": "stderr",
     "output_type": "stream",
     "text": [
      "\r11.8%"
     ]
    },
    {
     "name": "stderr",
     "output_type": "stream",
     "text": [
      "\r11.9%"
     ]
    },
    {
     "name": "stderr",
     "output_type": "stream",
     "text": [
      "\r11.9%"
     ]
    },
    {
     "name": "stderr",
     "output_type": "stream",
     "text": [
      "\r11.9%"
     ]
    },
    {
     "name": "stderr",
     "output_type": "stream",
     "text": [
      "\r12.0%"
     ]
    },
    {
     "name": "stderr",
     "output_type": "stream",
     "text": [
      "\r12.0%"
     ]
    },
    {
     "name": "stderr",
     "output_type": "stream",
     "text": [
      "\r12.0%"
     ]
    },
    {
     "name": "stderr",
     "output_type": "stream",
     "text": [
      "\r12.1%"
     ]
    },
    {
     "name": "stderr",
     "output_type": "stream",
     "text": [
      "\r12.1%"
     ]
    },
    {
     "name": "stderr",
     "output_type": "stream",
     "text": [
      "\r12.1%"
     ]
    },
    {
     "name": "stderr",
     "output_type": "stream",
     "text": [
      "\r12.2%"
     ]
    },
    {
     "name": "stderr",
     "output_type": "stream",
     "text": [
      "\r12.2%"
     ]
    },
    {
     "name": "stderr",
     "output_type": "stream",
     "text": [
      "\r12.2%"
     ]
    },
    {
     "name": "stderr",
     "output_type": "stream",
     "text": [
      "\r12.2%"
     ]
    },
    {
     "name": "stderr",
     "output_type": "stream",
     "text": [
      "\r12.3%"
     ]
    },
    {
     "name": "stderr",
     "output_type": "stream",
     "text": [
      "\r12.3%"
     ]
    },
    {
     "name": "stderr",
     "output_type": "stream",
     "text": [
      "\r12.3%"
     ]
    },
    {
     "name": "stderr",
     "output_type": "stream",
     "text": [
      "\r12.4%"
     ]
    },
    {
     "name": "stderr",
     "output_type": "stream",
     "text": [
      "\r12.4%"
     ]
    },
    {
     "name": "stderr",
     "output_type": "stream",
     "text": [
      "\r12.4%"
     ]
    },
    {
     "name": "stderr",
     "output_type": "stream",
     "text": [
      "\r12.5%"
     ]
    },
    {
     "name": "stderr",
     "output_type": "stream",
     "text": [
      "\r12.5%"
     ]
    },
    {
     "name": "stderr",
     "output_type": "stream",
     "text": [
      "\r12.5%"
     ]
    },
    {
     "name": "stderr",
     "output_type": "stream",
     "text": [
      "\r12.6%"
     ]
    },
    {
     "name": "stderr",
     "output_type": "stream",
     "text": [
      "\r12.6%"
     ]
    },
    {
     "name": "stderr",
     "output_type": "stream",
     "text": [
      "\r12.6%"
     ]
    },
    {
     "name": "stderr",
     "output_type": "stream",
     "text": [
      "\r12.6%"
     ]
    },
    {
     "name": "stderr",
     "output_type": "stream",
     "text": [
      "\r12.7%"
     ]
    },
    {
     "name": "stderr",
     "output_type": "stream",
     "text": [
      "\r12.7%"
     ]
    },
    {
     "name": "stderr",
     "output_type": "stream",
     "text": [
      "\r12.7%"
     ]
    },
    {
     "name": "stderr",
     "output_type": "stream",
     "text": [
      "\r12.8%"
     ]
    },
    {
     "name": "stderr",
     "output_type": "stream",
     "text": [
      "\r12.8%"
     ]
    },
    {
     "name": "stderr",
     "output_type": "stream",
     "text": [
      "\r12.8%"
     ]
    },
    {
     "name": "stderr",
     "output_type": "stream",
     "text": [
      "\r12.9%"
     ]
    },
    {
     "name": "stderr",
     "output_type": "stream",
     "text": [
      "\r12.9%"
     ]
    },
    {
     "name": "stderr",
     "output_type": "stream",
     "text": [
      "\r12.9%"
     ]
    },
    {
     "name": "stderr",
     "output_type": "stream",
     "text": [
      "\r13.0%"
     ]
    },
    {
     "name": "stderr",
     "output_type": "stream",
     "text": [
      "\r13.0%"
     ]
    },
    {
     "name": "stderr",
     "output_type": "stream",
     "text": [
      "\r13.0%"
     ]
    },
    {
     "name": "stderr",
     "output_type": "stream",
     "text": [
      "\r13.1%"
     ]
    },
    {
     "name": "stderr",
     "output_type": "stream",
     "text": [
      "\r13.1%"
     ]
    },
    {
     "name": "stderr",
     "output_type": "stream",
     "text": [
      "\r13.1%"
     ]
    },
    {
     "name": "stderr",
     "output_type": "stream",
     "text": [
      "\r13.1%"
     ]
    },
    {
     "name": "stderr",
     "output_type": "stream",
     "text": [
      "\r13.2%"
     ]
    },
    {
     "name": "stderr",
     "output_type": "stream",
     "text": [
      "\r13.2%"
     ]
    },
    {
     "name": "stderr",
     "output_type": "stream",
     "text": [
      "\r13.2%"
     ]
    },
    {
     "name": "stderr",
     "output_type": "stream",
     "text": [
      "\r13.3%"
     ]
    },
    {
     "name": "stderr",
     "output_type": "stream",
     "text": [
      "\r13.3%"
     ]
    },
    {
     "name": "stderr",
     "output_type": "stream",
     "text": [
      "\r13.3%"
     ]
    },
    {
     "name": "stderr",
     "output_type": "stream",
     "text": [
      "\r13.4%"
     ]
    },
    {
     "name": "stderr",
     "output_type": "stream",
     "text": [
      "\r13.4%"
     ]
    },
    {
     "name": "stderr",
     "output_type": "stream",
     "text": [
      "\r13.4%"
     ]
    },
    {
     "name": "stderr",
     "output_type": "stream",
     "text": [
      "\r13.5%"
     ]
    },
    {
     "name": "stderr",
     "output_type": "stream",
     "text": [
      "\r13.5%"
     ]
    },
    {
     "name": "stderr",
     "output_type": "stream",
     "text": [
      "\r13.5%"
     ]
    },
    {
     "name": "stderr",
     "output_type": "stream",
     "text": [
      "\r13.5%"
     ]
    },
    {
     "name": "stderr",
     "output_type": "stream",
     "text": [
      "\r13.6%"
     ]
    },
    {
     "name": "stderr",
     "output_type": "stream",
     "text": [
      "\r13.6%"
     ]
    },
    {
     "name": "stderr",
     "output_type": "stream",
     "text": [
      "\r13.6%"
     ]
    },
    {
     "name": "stderr",
     "output_type": "stream",
     "text": [
      "\r13.7%"
     ]
    },
    {
     "name": "stderr",
     "output_type": "stream",
     "text": [
      "\r13.7%"
     ]
    },
    {
     "name": "stderr",
     "output_type": "stream",
     "text": [
      "\r13.7%"
     ]
    },
    {
     "name": "stderr",
     "output_type": "stream",
     "text": [
      "\r13.8%"
     ]
    },
    {
     "name": "stderr",
     "output_type": "stream",
     "text": [
      "\r13.8%"
     ]
    },
    {
     "name": "stderr",
     "output_type": "stream",
     "text": [
      "\r13.8%"
     ]
    },
    {
     "name": "stderr",
     "output_type": "stream",
     "text": [
      "\r13.9%"
     ]
    },
    {
     "name": "stderr",
     "output_type": "stream",
     "text": [
      "\r13.9%"
     ]
    },
    {
     "name": "stderr",
     "output_type": "stream",
     "text": [
      "\r13.9%"
     ]
    },
    {
     "name": "stderr",
     "output_type": "stream",
     "text": [
      "\r14.0%"
     ]
    },
    {
     "name": "stderr",
     "output_type": "stream",
     "text": [
      "\r14.0%"
     ]
    },
    {
     "name": "stderr",
     "output_type": "stream",
     "text": [
      "\r14.0%"
     ]
    },
    {
     "name": "stderr",
     "output_type": "stream",
     "text": [
      "\r14.0%"
     ]
    },
    {
     "name": "stderr",
     "output_type": "stream",
     "text": [
      "\r14.1%"
     ]
    },
    {
     "name": "stderr",
     "output_type": "stream",
     "text": [
      "\r14.1%"
     ]
    },
    {
     "name": "stderr",
     "output_type": "stream",
     "text": [
      "\r14.1%"
     ]
    },
    {
     "name": "stderr",
     "output_type": "stream",
     "text": [
      "\r14.2%"
     ]
    },
    {
     "name": "stderr",
     "output_type": "stream",
     "text": [
      "\r14.2%"
     ]
    },
    {
     "name": "stderr",
     "output_type": "stream",
     "text": [
      "\r14.2%"
     ]
    },
    {
     "name": "stderr",
     "output_type": "stream",
     "text": [
      "\r14.3%"
     ]
    },
    {
     "name": "stderr",
     "output_type": "stream",
     "text": [
      "\r14.3%"
     ]
    },
    {
     "name": "stderr",
     "output_type": "stream",
     "text": [
      "\r14.3%"
     ]
    },
    {
     "name": "stderr",
     "output_type": "stream",
     "text": [
      "\r14.4%"
     ]
    },
    {
     "name": "stderr",
     "output_type": "stream",
     "text": [
      "\r14.4%"
     ]
    },
    {
     "name": "stderr",
     "output_type": "stream",
     "text": [
      "\r14.4%"
     ]
    },
    {
     "name": "stderr",
     "output_type": "stream",
     "text": [
      "\r14.4%"
     ]
    },
    {
     "name": "stderr",
     "output_type": "stream",
     "text": [
      "\r14.5%"
     ]
    },
    {
     "name": "stderr",
     "output_type": "stream",
     "text": [
      "\r14.5%"
     ]
    },
    {
     "name": "stderr",
     "output_type": "stream",
     "text": [
      "\r14.5%"
     ]
    },
    {
     "name": "stderr",
     "output_type": "stream",
     "text": [
      "\r14.6%"
     ]
    },
    {
     "name": "stderr",
     "output_type": "stream",
     "text": [
      "\r14.6%"
     ]
    },
    {
     "name": "stderr",
     "output_type": "stream",
     "text": [
      "\r14.6%"
     ]
    },
    {
     "name": "stderr",
     "output_type": "stream",
     "text": [
      "\r14.7%"
     ]
    },
    {
     "name": "stderr",
     "output_type": "stream",
     "text": [
      "\r14.7%"
     ]
    },
    {
     "name": "stderr",
     "output_type": "stream",
     "text": [
      "\r14.7%"
     ]
    },
    {
     "name": "stderr",
     "output_type": "stream",
     "text": [
      "\r14.8%"
     ]
    },
    {
     "name": "stderr",
     "output_type": "stream",
     "text": [
      "\r14.8%"
     ]
    },
    {
     "name": "stderr",
     "output_type": "stream",
     "text": [
      "\r14.8%"
     ]
    },
    {
     "name": "stderr",
     "output_type": "stream",
     "text": [
      "\r14.9%"
     ]
    },
    {
     "name": "stderr",
     "output_type": "stream",
     "text": [
      "\r14.9%"
     ]
    },
    {
     "name": "stderr",
     "output_type": "stream",
     "text": [
      "\r14.9%"
     ]
    },
    {
     "name": "stderr",
     "output_type": "stream",
     "text": [
      "\r14.9%"
     ]
    },
    {
     "name": "stderr",
     "output_type": "stream",
     "text": [
      "\r15.0%"
     ]
    },
    {
     "name": "stderr",
     "output_type": "stream",
     "text": [
      "\r15.0%"
     ]
    },
    {
     "name": "stderr",
     "output_type": "stream",
     "text": [
      "\r15.0%"
     ]
    },
    {
     "name": "stderr",
     "output_type": "stream",
     "text": [
      "\r15.1%"
     ]
    },
    {
     "name": "stderr",
     "output_type": "stream",
     "text": [
      "\r15.1%"
     ]
    },
    {
     "name": "stderr",
     "output_type": "stream",
     "text": [
      "\r15.1%"
     ]
    },
    {
     "name": "stderr",
     "output_type": "stream",
     "text": [
      "\r15.2%"
     ]
    },
    {
     "name": "stderr",
     "output_type": "stream",
     "text": [
      "\r15.2%"
     ]
    },
    {
     "name": "stderr",
     "output_type": "stream",
     "text": [
      "\r15.2%"
     ]
    },
    {
     "name": "stderr",
     "output_type": "stream",
     "text": [
      "\r15.3%"
     ]
    },
    {
     "name": "stderr",
     "output_type": "stream",
     "text": [
      "\r15.3%"
     ]
    },
    {
     "name": "stderr",
     "output_type": "stream",
     "text": [
      "\r15.3%"
     ]
    },
    {
     "name": "stderr",
     "output_type": "stream",
     "text": [
      "\r15.3%"
     ]
    },
    {
     "name": "stderr",
     "output_type": "stream",
     "text": [
      "\r15.4%"
     ]
    },
    {
     "name": "stderr",
     "output_type": "stream",
     "text": [
      "\r15.4%"
     ]
    },
    {
     "name": "stderr",
     "output_type": "stream",
     "text": [
      "\r15.4%"
     ]
    },
    {
     "name": "stderr",
     "output_type": "stream",
     "text": [
      "\r15.5%"
     ]
    },
    {
     "name": "stderr",
     "output_type": "stream",
     "text": [
      "\r15.5%"
     ]
    },
    {
     "name": "stderr",
     "output_type": "stream",
     "text": [
      "\r15.5%"
     ]
    },
    {
     "name": "stderr",
     "output_type": "stream",
     "text": [
      "\r15.6%"
     ]
    },
    {
     "name": "stderr",
     "output_type": "stream",
     "text": [
      "\r15.6%"
     ]
    },
    {
     "name": "stderr",
     "output_type": "stream",
     "text": [
      "\r15.6%"
     ]
    },
    {
     "name": "stderr",
     "output_type": "stream",
     "text": [
      "\r15.7%"
     ]
    },
    {
     "name": "stderr",
     "output_type": "stream",
     "text": [
      "\r15.7%"
     ]
    },
    {
     "name": "stderr",
     "output_type": "stream",
     "text": [
      "\r15.7%"
     ]
    },
    {
     "name": "stderr",
     "output_type": "stream",
     "text": [
      "\r15.8%"
     ]
    },
    {
     "name": "stderr",
     "output_type": "stream",
     "text": [
      "\r15.8%"
     ]
    },
    {
     "name": "stderr",
     "output_type": "stream",
     "text": [
      "\r15.8%"
     ]
    },
    {
     "name": "stderr",
     "output_type": "stream",
     "text": [
      "\r15.8%"
     ]
    },
    {
     "name": "stderr",
     "output_type": "stream",
     "text": [
      "\r15.9%"
     ]
    },
    {
     "name": "stderr",
     "output_type": "stream",
     "text": [
      "\r15.9%"
     ]
    },
    {
     "name": "stderr",
     "output_type": "stream",
     "text": [
      "\r15.9%"
     ]
    },
    {
     "name": "stderr",
     "output_type": "stream",
     "text": [
      "\r16.0%"
     ]
    },
    {
     "name": "stderr",
     "output_type": "stream",
     "text": [
      "\r16.0%"
     ]
    },
    {
     "name": "stderr",
     "output_type": "stream",
     "text": [
      "\r16.0%"
     ]
    },
    {
     "name": "stderr",
     "output_type": "stream",
     "text": [
      "\r16.1%"
     ]
    },
    {
     "name": "stderr",
     "output_type": "stream",
     "text": [
      "\r16.1%"
     ]
    },
    {
     "name": "stderr",
     "output_type": "stream",
     "text": [
      "\r16.1%"
     ]
    },
    {
     "name": "stderr",
     "output_type": "stream",
     "text": [
      "\r16.2%"
     ]
    },
    {
     "name": "stderr",
     "output_type": "stream",
     "text": [
      "\r16.2%"
     ]
    },
    {
     "name": "stderr",
     "output_type": "stream",
     "text": [
      "\r16.2%"
     ]
    },
    {
     "name": "stderr",
     "output_type": "stream",
     "text": [
      "\r16.2%"
     ]
    },
    {
     "name": "stderr",
     "output_type": "stream",
     "text": [
      "\r16.3%"
     ]
    },
    {
     "name": "stderr",
     "output_type": "stream",
     "text": [
      "\r16.3%"
     ]
    },
    {
     "name": "stderr",
     "output_type": "stream",
     "text": [
      "\r16.3%"
     ]
    },
    {
     "name": "stderr",
     "output_type": "stream",
     "text": [
      "\r16.4%"
     ]
    },
    {
     "name": "stderr",
     "output_type": "stream",
     "text": [
      "\r16.4%"
     ]
    },
    {
     "name": "stderr",
     "output_type": "stream",
     "text": [
      "\r16.4%"
     ]
    },
    {
     "name": "stderr",
     "output_type": "stream",
     "text": [
      "\r16.5%"
     ]
    },
    {
     "name": "stderr",
     "output_type": "stream",
     "text": [
      "\r16.5%"
     ]
    },
    {
     "name": "stderr",
     "output_type": "stream",
     "text": [
      "\r16.5%"
     ]
    },
    {
     "name": "stderr",
     "output_type": "stream",
     "text": [
      "\r16.6%"
     ]
    },
    {
     "name": "stderr",
     "output_type": "stream",
     "text": [
      "\r16.6%"
     ]
    },
    {
     "name": "stderr",
     "output_type": "stream",
     "text": [
      "\r16.6%"
     ]
    },
    {
     "name": "stderr",
     "output_type": "stream",
     "text": [
      "\r16.6%"
     ]
    },
    {
     "name": "stderr",
     "output_type": "stream",
     "text": [
      "\r16.7%"
     ]
    },
    {
     "name": "stderr",
     "output_type": "stream",
     "text": [
      "\r16.7%"
     ]
    },
    {
     "name": "stderr",
     "output_type": "stream",
     "text": [
      "\r16.7%"
     ]
    },
    {
     "name": "stderr",
     "output_type": "stream",
     "text": [
      "\r16.8%"
     ]
    },
    {
     "name": "stderr",
     "output_type": "stream",
     "text": [
      "\r16.8%"
     ]
    },
    {
     "name": "stderr",
     "output_type": "stream",
     "text": [
      "\r16.8%"
     ]
    },
    {
     "name": "stderr",
     "output_type": "stream",
     "text": [
      "\r16.9%"
     ]
    },
    {
     "name": "stderr",
     "output_type": "stream",
     "text": [
      "\r16.9%"
     ]
    },
    {
     "name": "stderr",
     "output_type": "stream",
     "text": [
      "\r16.9%"
     ]
    },
    {
     "name": "stderr",
     "output_type": "stream",
     "text": [
      "\r17.0%"
     ]
    },
    {
     "name": "stderr",
     "output_type": "stream",
     "text": [
      "\r17.0%"
     ]
    },
    {
     "name": "stderr",
     "output_type": "stream",
     "text": [
      "\r17.0%"
     ]
    },
    {
     "name": "stderr",
     "output_type": "stream",
     "text": [
      "\r17.1%"
     ]
    },
    {
     "name": "stderr",
     "output_type": "stream",
     "text": [
      "\r17.1%"
     ]
    },
    {
     "name": "stderr",
     "output_type": "stream",
     "text": [
      "\r17.1%"
     ]
    },
    {
     "name": "stderr",
     "output_type": "stream",
     "text": [
      "\r17.1%"
     ]
    },
    {
     "name": "stderr",
     "output_type": "stream",
     "text": [
      "\r17.2%"
     ]
    },
    {
     "name": "stderr",
     "output_type": "stream",
     "text": [
      "\r17.2%"
     ]
    },
    {
     "name": "stderr",
     "output_type": "stream",
     "text": [
      "\r17.2%"
     ]
    },
    {
     "name": "stderr",
     "output_type": "stream",
     "text": [
      "\r17.3%"
     ]
    },
    {
     "name": "stderr",
     "output_type": "stream",
     "text": [
      "\r17.3%"
     ]
    },
    {
     "name": "stderr",
     "output_type": "stream",
     "text": [
      "\r17.3%"
     ]
    },
    {
     "name": "stderr",
     "output_type": "stream",
     "text": [
      "\r17.4%"
     ]
    },
    {
     "name": "stderr",
     "output_type": "stream",
     "text": [
      "\r17.4%"
     ]
    },
    {
     "name": "stderr",
     "output_type": "stream",
     "text": [
      "\r17.4%"
     ]
    },
    {
     "name": "stderr",
     "output_type": "stream",
     "text": [
      "\r17.5%"
     ]
    },
    {
     "name": "stderr",
     "output_type": "stream",
     "text": [
      "\r17.5%"
     ]
    },
    {
     "name": "stderr",
     "output_type": "stream",
     "text": [
      "\r17.5%"
     ]
    },
    {
     "name": "stderr",
     "output_type": "stream",
     "text": [
      "\r17.5%"
     ]
    },
    {
     "name": "stderr",
     "output_type": "stream",
     "text": [
      "\r17.6%"
     ]
    },
    {
     "name": "stderr",
     "output_type": "stream",
     "text": [
      "\r17.6%"
     ]
    },
    {
     "name": "stderr",
     "output_type": "stream",
     "text": [
      "\r17.6%"
     ]
    },
    {
     "name": "stderr",
     "output_type": "stream",
     "text": [
      "\r17.7%"
     ]
    },
    {
     "name": "stderr",
     "output_type": "stream",
     "text": [
      "\r17.7%"
     ]
    },
    {
     "name": "stderr",
     "output_type": "stream",
     "text": [
      "\r17.7%"
     ]
    },
    {
     "name": "stderr",
     "output_type": "stream",
     "text": [
      "\r17.8%"
     ]
    },
    {
     "name": "stderr",
     "output_type": "stream",
     "text": [
      "\r17.8%"
     ]
    },
    {
     "name": "stderr",
     "output_type": "stream",
     "text": [
      "\r17.8%"
     ]
    },
    {
     "name": "stderr",
     "output_type": "stream",
     "text": [
      "\r17.9%"
     ]
    },
    {
     "name": "stderr",
     "output_type": "stream",
     "text": [
      "\r17.9%"
     ]
    },
    {
     "name": "stderr",
     "output_type": "stream",
     "text": [
      "\r17.9%"
     ]
    },
    {
     "name": "stderr",
     "output_type": "stream",
     "text": [
      "\r18.0%"
     ]
    },
    {
     "name": "stderr",
     "output_type": "stream",
     "text": [
      "\r18.0%"
     ]
    },
    {
     "name": "stderr",
     "output_type": "stream",
     "text": [
      "\r18.0%"
     ]
    },
    {
     "name": "stderr",
     "output_type": "stream",
     "text": [
      "\r18.0%"
     ]
    },
    {
     "name": "stderr",
     "output_type": "stream",
     "text": [
      "\r18.1%"
     ]
    },
    {
     "name": "stderr",
     "output_type": "stream",
     "text": [
      "\r18.1%"
     ]
    },
    {
     "name": "stderr",
     "output_type": "stream",
     "text": [
      "\r18.1%"
     ]
    },
    {
     "name": "stderr",
     "output_type": "stream",
     "text": [
      "\r18.2%"
     ]
    },
    {
     "name": "stderr",
     "output_type": "stream",
     "text": [
      "\r18.2%"
     ]
    },
    {
     "name": "stderr",
     "output_type": "stream",
     "text": [
      "\r18.2%"
     ]
    },
    {
     "name": "stderr",
     "output_type": "stream",
     "text": [
      "\r18.3%"
     ]
    },
    {
     "name": "stderr",
     "output_type": "stream",
     "text": [
      "\r18.3%"
     ]
    },
    {
     "name": "stderr",
     "output_type": "stream",
     "text": [
      "\r18.3%"
     ]
    },
    {
     "name": "stderr",
     "output_type": "stream",
     "text": [
      "\r18.4%"
     ]
    },
    {
     "name": "stderr",
     "output_type": "stream",
     "text": [
      "\r18.4%"
     ]
    },
    {
     "name": "stderr",
     "output_type": "stream",
     "text": [
      "\r18.4%"
     ]
    },
    {
     "name": "stderr",
     "output_type": "stream",
     "text": [
      "\r18.4%"
     ]
    },
    {
     "name": "stderr",
     "output_type": "stream",
     "text": [
      "\r18.5%"
     ]
    },
    {
     "name": "stderr",
     "output_type": "stream",
     "text": [
      "\r18.5%"
     ]
    },
    {
     "name": "stderr",
     "output_type": "stream",
     "text": [
      "\r18.5%"
     ]
    },
    {
     "name": "stderr",
     "output_type": "stream",
     "text": [
      "\r18.6%"
     ]
    },
    {
     "name": "stderr",
     "output_type": "stream",
     "text": [
      "\r18.6%"
     ]
    },
    {
     "name": "stderr",
     "output_type": "stream",
     "text": [
      "\r18.6%"
     ]
    },
    {
     "name": "stderr",
     "output_type": "stream",
     "text": [
      "\r18.7%"
     ]
    },
    {
     "name": "stderr",
     "output_type": "stream",
     "text": [
      "\r18.7%"
     ]
    },
    {
     "name": "stderr",
     "output_type": "stream",
     "text": [
      "\r18.7%"
     ]
    },
    {
     "name": "stderr",
     "output_type": "stream",
     "text": [
      "\r18.8%"
     ]
    },
    {
     "name": "stderr",
     "output_type": "stream",
     "text": [
      "\r18.8%"
     ]
    },
    {
     "name": "stderr",
     "output_type": "stream",
     "text": [
      "\r18.8%"
     ]
    },
    {
     "name": "stderr",
     "output_type": "stream",
     "text": [
      "\r18.9%"
     ]
    },
    {
     "name": "stderr",
     "output_type": "stream",
     "text": [
      "\r18.9%"
     ]
    },
    {
     "name": "stderr",
     "output_type": "stream",
     "text": [
      "\r18.9%"
     ]
    },
    {
     "name": "stderr",
     "output_type": "stream",
     "text": [
      "\r18.9%"
     ]
    },
    {
     "name": "stderr",
     "output_type": "stream",
     "text": [
      "\r19.0%"
     ]
    },
    {
     "name": "stderr",
     "output_type": "stream",
     "text": [
      "\r19.0%"
     ]
    },
    {
     "name": "stderr",
     "output_type": "stream",
     "text": [
      "\r19.0%"
     ]
    },
    {
     "name": "stderr",
     "output_type": "stream",
     "text": [
      "\r19.1%"
     ]
    },
    {
     "name": "stderr",
     "output_type": "stream",
     "text": [
      "\r19.1%"
     ]
    },
    {
     "name": "stderr",
     "output_type": "stream",
     "text": [
      "\r19.1%"
     ]
    },
    {
     "name": "stderr",
     "output_type": "stream",
     "text": [
      "\r19.2%"
     ]
    },
    {
     "name": "stderr",
     "output_type": "stream",
     "text": [
      "\r19.2%"
     ]
    },
    {
     "name": "stderr",
     "output_type": "stream",
     "text": [
      "\r19.2%"
     ]
    },
    {
     "name": "stderr",
     "output_type": "stream",
     "text": [
      "\r19.3%"
     ]
    },
    {
     "name": "stderr",
     "output_type": "stream",
     "text": [
      "\r19.3%"
     ]
    },
    {
     "name": "stderr",
     "output_type": "stream",
     "text": [
      "\r19.3%"
     ]
    },
    {
     "name": "stderr",
     "output_type": "stream",
     "text": [
      "\r19.3%"
     ]
    },
    {
     "name": "stderr",
     "output_type": "stream",
     "text": [
      "\r19.4%"
     ]
    },
    {
     "name": "stderr",
     "output_type": "stream",
     "text": [
      "\r19.4%"
     ]
    },
    {
     "name": "stderr",
     "output_type": "stream",
     "text": [
      "\r19.4%"
     ]
    },
    {
     "name": "stderr",
     "output_type": "stream",
     "text": [
      "\r19.5%"
     ]
    },
    {
     "name": "stderr",
     "output_type": "stream",
     "text": [
      "\r19.5%"
     ]
    },
    {
     "name": "stderr",
     "output_type": "stream",
     "text": [
      "\r19.5%"
     ]
    },
    {
     "name": "stderr",
     "output_type": "stream",
     "text": [
      "\r19.6%"
     ]
    },
    {
     "name": "stderr",
     "output_type": "stream",
     "text": [
      "\r19.6%"
     ]
    },
    {
     "name": "stderr",
     "output_type": "stream",
     "text": [
      "\r19.6%"
     ]
    },
    {
     "name": "stderr",
     "output_type": "stream",
     "text": [
      "\r19.7%"
     ]
    },
    {
     "name": "stderr",
     "output_type": "stream",
     "text": [
      "\r19.7%"
     ]
    },
    {
     "name": "stderr",
     "output_type": "stream",
     "text": [
      "\r19.7%"
     ]
    },
    {
     "name": "stderr",
     "output_type": "stream",
     "text": [
      "\r19.7%"
     ]
    },
    {
     "name": "stderr",
     "output_type": "stream",
     "text": [
      "\r19.8%"
     ]
    },
    {
     "name": "stderr",
     "output_type": "stream",
     "text": [
      "\r19.8%"
     ]
    },
    {
     "name": "stderr",
     "output_type": "stream",
     "text": [
      "\r19.8%"
     ]
    },
    {
     "name": "stderr",
     "output_type": "stream",
     "text": [
      "\r19.9%"
     ]
    },
    {
     "name": "stderr",
     "output_type": "stream",
     "text": [
      "\r19.9%"
     ]
    },
    {
     "name": "stderr",
     "output_type": "stream",
     "text": [
      "\r19.9%"
     ]
    },
    {
     "name": "stderr",
     "output_type": "stream",
     "text": [
      "\r20.0%"
     ]
    },
    {
     "name": "stderr",
     "output_type": "stream",
     "text": [
      "\r20.0%"
     ]
    },
    {
     "name": "stderr",
     "output_type": "stream",
     "text": [
      "\r20.0%"
     ]
    },
    {
     "name": "stderr",
     "output_type": "stream",
     "text": [
      "\r20.1%"
     ]
    },
    {
     "name": "stderr",
     "output_type": "stream",
     "text": [
      "\r20.1%"
     ]
    },
    {
     "name": "stderr",
     "output_type": "stream",
     "text": [
      "\r20.1%"
     ]
    },
    {
     "name": "stderr",
     "output_type": "stream",
     "text": [
      "\r20.2%"
     ]
    },
    {
     "name": "stderr",
     "output_type": "stream",
     "text": [
      "\r20.2%"
     ]
    },
    {
     "name": "stderr",
     "output_type": "stream",
     "text": [
      "\r20.2%"
     ]
    },
    {
     "name": "stderr",
     "output_type": "stream",
     "text": [
      "\r20.2%"
     ]
    },
    {
     "name": "stderr",
     "output_type": "stream",
     "text": [
      "\r20.3%"
     ]
    },
    {
     "name": "stderr",
     "output_type": "stream",
     "text": [
      "\r20.3%"
     ]
    },
    {
     "name": "stderr",
     "output_type": "stream",
     "text": [
      "\r20.3%"
     ]
    },
    {
     "name": "stderr",
     "output_type": "stream",
     "text": [
      "\r20.4%"
     ]
    },
    {
     "name": "stderr",
     "output_type": "stream",
     "text": [
      "\r20.4%"
     ]
    },
    {
     "name": "stderr",
     "output_type": "stream",
     "text": [
      "\r20.4%"
     ]
    },
    {
     "name": "stderr",
     "output_type": "stream",
     "text": [
      "\r20.5%"
     ]
    },
    {
     "name": "stderr",
     "output_type": "stream",
     "text": [
      "\r20.5%"
     ]
    },
    {
     "name": "stderr",
     "output_type": "stream",
     "text": [
      "\r20.5%"
     ]
    },
    {
     "name": "stderr",
     "output_type": "stream",
     "text": [
      "\r20.6%"
     ]
    },
    {
     "name": "stderr",
     "output_type": "stream",
     "text": [
      "\r20.6%"
     ]
    },
    {
     "name": "stderr",
     "output_type": "stream",
     "text": [
      "\r20.6%"
     ]
    },
    {
     "name": "stderr",
     "output_type": "stream",
     "text": [
      "\r20.6%"
     ]
    },
    {
     "name": "stderr",
     "output_type": "stream",
     "text": [
      "\r20.7%"
     ]
    },
    {
     "name": "stderr",
     "output_type": "stream",
     "text": [
      "\r20.7%"
     ]
    },
    {
     "name": "stderr",
     "output_type": "stream",
     "text": [
      "\r20.7%"
     ]
    },
    {
     "name": "stderr",
     "output_type": "stream",
     "text": [
      "\r20.8%"
     ]
    },
    {
     "name": "stderr",
     "output_type": "stream",
     "text": [
      "\r20.8%"
     ]
    },
    {
     "name": "stderr",
     "output_type": "stream",
     "text": [
      "\r20.8%"
     ]
    },
    {
     "name": "stderr",
     "output_type": "stream",
     "text": [
      "\r20.9%"
     ]
    },
    {
     "name": "stderr",
     "output_type": "stream",
     "text": [
      "\r20.9%"
     ]
    },
    {
     "name": "stderr",
     "output_type": "stream",
     "text": [
      "\r20.9%"
     ]
    },
    {
     "name": "stderr",
     "output_type": "stream",
     "text": [
      "\r21.0%"
     ]
    },
    {
     "name": "stderr",
     "output_type": "stream",
     "text": [
      "\r21.0%"
     ]
    },
    {
     "name": "stderr",
     "output_type": "stream",
     "text": [
      "\r21.0%"
     ]
    },
    {
     "name": "stderr",
     "output_type": "stream",
     "text": [
      "\r21.1%"
     ]
    },
    {
     "name": "stderr",
     "output_type": "stream",
     "text": [
      "\r21.1%"
     ]
    },
    {
     "name": "stderr",
     "output_type": "stream",
     "text": [
      "\r21.1%"
     ]
    },
    {
     "name": "stderr",
     "output_type": "stream",
     "text": [
      "\r21.1%"
     ]
    },
    {
     "name": "stderr",
     "output_type": "stream",
     "text": [
      "\r21.2%"
     ]
    },
    {
     "name": "stderr",
     "output_type": "stream",
     "text": [
      "\r21.2%"
     ]
    },
    {
     "name": "stderr",
     "output_type": "stream",
     "text": [
      "\r21.2%"
     ]
    },
    {
     "name": "stderr",
     "output_type": "stream",
     "text": [
      "\r21.3%"
     ]
    },
    {
     "name": "stderr",
     "output_type": "stream",
     "text": [
      "\r21.3%"
     ]
    },
    {
     "name": "stderr",
     "output_type": "stream",
     "text": [
      "\r21.3%"
     ]
    },
    {
     "name": "stderr",
     "output_type": "stream",
     "text": [
      "\r21.4%"
     ]
    },
    {
     "name": "stderr",
     "output_type": "stream",
     "text": [
      "\r21.4%"
     ]
    },
    {
     "name": "stderr",
     "output_type": "stream",
     "text": [
      "\r21.4%"
     ]
    },
    {
     "name": "stderr",
     "output_type": "stream",
     "text": [
      "\r21.5%"
     ]
    },
    {
     "name": "stderr",
     "output_type": "stream",
     "text": [
      "\r21.5%"
     ]
    },
    {
     "name": "stderr",
     "output_type": "stream",
     "text": [
      "\r21.5%"
     ]
    },
    {
     "name": "stderr",
     "output_type": "stream",
     "text": [
      "\r21.5%"
     ]
    },
    {
     "name": "stderr",
     "output_type": "stream",
     "text": [
      "\r21.6%"
     ]
    },
    {
     "name": "stderr",
     "output_type": "stream",
     "text": [
      "\r21.6%"
     ]
    },
    {
     "name": "stderr",
     "output_type": "stream",
     "text": [
      "\r21.6%"
     ]
    },
    {
     "name": "stderr",
     "output_type": "stream",
     "text": [
      "\r21.7%"
     ]
    },
    {
     "name": "stderr",
     "output_type": "stream",
     "text": [
      "\r21.7%"
     ]
    },
    {
     "name": "stderr",
     "output_type": "stream",
     "text": [
      "\r21.7%"
     ]
    },
    {
     "name": "stderr",
     "output_type": "stream",
     "text": [
      "\r21.8%"
     ]
    },
    {
     "name": "stderr",
     "output_type": "stream",
     "text": [
      "\r21.8%"
     ]
    },
    {
     "name": "stderr",
     "output_type": "stream",
     "text": [
      "\r21.8%"
     ]
    },
    {
     "name": "stderr",
     "output_type": "stream",
     "text": [
      "\r21.9%"
     ]
    },
    {
     "name": "stderr",
     "output_type": "stream",
     "text": [
      "\r21.9%"
     ]
    },
    {
     "name": "stderr",
     "output_type": "stream",
     "text": [
      "\r21.9%"
     ]
    },
    {
     "name": "stderr",
     "output_type": "stream",
     "text": [
      "\r22.0%"
     ]
    },
    {
     "name": "stderr",
     "output_type": "stream",
     "text": [
      "\r22.0%"
     ]
    },
    {
     "name": "stderr",
     "output_type": "stream",
     "text": [
      "\r22.0%"
     ]
    },
    {
     "name": "stderr",
     "output_type": "stream",
     "text": [
      "\r22.0%"
     ]
    },
    {
     "name": "stderr",
     "output_type": "stream",
     "text": [
      "\r22.1%"
     ]
    },
    {
     "name": "stderr",
     "output_type": "stream",
     "text": [
      "\r22.1%"
     ]
    },
    {
     "name": "stderr",
     "output_type": "stream",
     "text": [
      "\r22.1%"
     ]
    },
    {
     "name": "stderr",
     "output_type": "stream",
     "text": [
      "\r22.2%"
     ]
    },
    {
     "name": "stderr",
     "output_type": "stream",
     "text": [
      "\r22.2%"
     ]
    },
    {
     "name": "stderr",
     "output_type": "stream",
     "text": [
      "\r22.2%"
     ]
    },
    {
     "name": "stderr",
     "output_type": "stream",
     "text": [
      "\r22.3%"
     ]
    },
    {
     "name": "stderr",
     "output_type": "stream",
     "text": [
      "\r22.3%"
     ]
    },
    {
     "name": "stderr",
     "output_type": "stream",
     "text": [
      "\r22.3%"
     ]
    },
    {
     "name": "stderr",
     "output_type": "stream",
     "text": [
      "\r22.4%"
     ]
    },
    {
     "name": "stderr",
     "output_type": "stream",
     "text": [
      "\r22.4%"
     ]
    },
    {
     "name": "stderr",
     "output_type": "stream",
     "text": [
      "\r22.4%"
     ]
    },
    {
     "name": "stderr",
     "output_type": "stream",
     "text": [
      "\r22.4%"
     ]
    },
    {
     "name": "stderr",
     "output_type": "stream",
     "text": [
      "\r22.5%"
     ]
    },
    {
     "name": "stderr",
     "output_type": "stream",
     "text": [
      "\r22.5%"
     ]
    },
    {
     "name": "stderr",
     "output_type": "stream",
     "text": [
      "\r22.5%"
     ]
    },
    {
     "name": "stderr",
     "output_type": "stream",
     "text": [
      "\r22.6%"
     ]
    },
    {
     "name": "stderr",
     "output_type": "stream",
     "text": [
      "\r22.6%"
     ]
    },
    {
     "name": "stderr",
     "output_type": "stream",
     "text": [
      "\r22.6%"
     ]
    },
    {
     "name": "stderr",
     "output_type": "stream",
     "text": [
      "\r22.7%"
     ]
    },
    {
     "name": "stderr",
     "output_type": "stream",
     "text": [
      "\r22.7%"
     ]
    },
    {
     "name": "stderr",
     "output_type": "stream",
     "text": [
      "\r22.7%"
     ]
    },
    {
     "name": "stderr",
     "output_type": "stream",
     "text": [
      "\r22.8%"
     ]
    },
    {
     "name": "stderr",
     "output_type": "stream",
     "text": [
      "\r22.8%"
     ]
    },
    {
     "name": "stderr",
     "output_type": "stream",
     "text": [
      "\r22.8%"
     ]
    },
    {
     "name": "stderr",
     "output_type": "stream",
     "text": [
      "\r22.9%"
     ]
    },
    {
     "name": "stderr",
     "output_type": "stream",
     "text": [
      "\r22.9%"
     ]
    },
    {
     "name": "stderr",
     "output_type": "stream",
     "text": [
      "\r22.9%"
     ]
    },
    {
     "name": "stderr",
     "output_type": "stream",
     "text": [
      "\r22.9%"
     ]
    },
    {
     "name": "stderr",
     "output_type": "stream",
     "text": [
      "\r23.0%"
     ]
    },
    {
     "name": "stderr",
     "output_type": "stream",
     "text": [
      "\r23.0%"
     ]
    },
    {
     "name": "stderr",
     "output_type": "stream",
     "text": [
      "\r23.0%"
     ]
    },
    {
     "name": "stderr",
     "output_type": "stream",
     "text": [
      "\r23.1%"
     ]
    },
    {
     "name": "stderr",
     "output_type": "stream",
     "text": [
      "\r23.1%"
     ]
    },
    {
     "name": "stderr",
     "output_type": "stream",
     "text": [
      "\r23.1%"
     ]
    },
    {
     "name": "stderr",
     "output_type": "stream",
     "text": [
      "\r23.2%"
     ]
    },
    {
     "name": "stderr",
     "output_type": "stream",
     "text": [
      "\r23.2%"
     ]
    },
    {
     "name": "stderr",
     "output_type": "stream",
     "text": [
      "\r23.2%"
     ]
    },
    {
     "name": "stderr",
     "output_type": "stream",
     "text": [
      "\r23.3%"
     ]
    },
    {
     "name": "stderr",
     "output_type": "stream",
     "text": [
      "\r23.3%"
     ]
    },
    {
     "name": "stderr",
     "output_type": "stream",
     "text": [
      "\r23.3%"
     ]
    },
    {
     "name": "stderr",
     "output_type": "stream",
     "text": [
      "\r23.3%"
     ]
    },
    {
     "name": "stderr",
     "output_type": "stream",
     "text": [
      "\r23.4%"
     ]
    },
    {
     "name": "stderr",
     "output_type": "stream",
     "text": [
      "\r23.4%"
     ]
    },
    {
     "name": "stderr",
     "output_type": "stream",
     "text": [
      "\r23.4%"
     ]
    },
    {
     "name": "stderr",
     "output_type": "stream",
     "text": [
      "\r23.5%"
     ]
    },
    {
     "name": "stderr",
     "output_type": "stream",
     "text": [
      "\r23.5%"
     ]
    },
    {
     "name": "stderr",
     "output_type": "stream",
     "text": [
      "\r23.5%"
     ]
    },
    {
     "name": "stderr",
     "output_type": "stream",
     "text": [
      "\r23.6%"
     ]
    },
    {
     "name": "stderr",
     "output_type": "stream",
     "text": [
      "\r23.6%"
     ]
    },
    {
     "name": "stderr",
     "output_type": "stream",
     "text": [
      "\r23.6%"
     ]
    },
    {
     "name": "stderr",
     "output_type": "stream",
     "text": [
      "\r23.7%"
     ]
    },
    {
     "name": "stderr",
     "output_type": "stream",
     "text": [
      "\r23.7%"
     ]
    },
    {
     "name": "stderr",
     "output_type": "stream",
     "text": [
      "\r23.7%"
     ]
    },
    {
     "name": "stderr",
     "output_type": "stream",
     "text": [
      "\r23.7%"
     ]
    },
    {
     "name": "stderr",
     "output_type": "stream",
     "text": [
      "\r23.8%"
     ]
    },
    {
     "name": "stderr",
     "output_type": "stream",
     "text": [
      "\r23.8%"
     ]
    },
    {
     "name": "stderr",
     "output_type": "stream",
     "text": [
      "\r23.8%"
     ]
    },
    {
     "name": "stderr",
     "output_type": "stream",
     "text": [
      "\r23.9%"
     ]
    },
    {
     "name": "stderr",
     "output_type": "stream",
     "text": [
      "\r23.9%"
     ]
    },
    {
     "name": "stderr",
     "output_type": "stream",
     "text": [
      "\r23.9%"
     ]
    },
    {
     "name": "stderr",
     "output_type": "stream",
     "text": [
      "\r24.0%"
     ]
    },
    {
     "name": "stderr",
     "output_type": "stream",
     "text": [
      "\r24.0%"
     ]
    },
    {
     "name": "stderr",
     "output_type": "stream",
     "text": [
      "\r24.0%"
     ]
    },
    {
     "name": "stderr",
     "output_type": "stream",
     "text": [
      "\r24.1%"
     ]
    },
    {
     "name": "stderr",
     "output_type": "stream",
     "text": [
      "\r24.1%"
     ]
    },
    {
     "name": "stderr",
     "output_type": "stream",
     "text": [
      "\r24.1%"
     ]
    },
    {
     "name": "stderr",
     "output_type": "stream",
     "text": [
      "\r24.2%"
     ]
    },
    {
     "name": "stderr",
     "output_type": "stream",
     "text": [
      "\r24.2%"
     ]
    },
    {
     "name": "stderr",
     "output_type": "stream",
     "text": [
      "\r24.2%"
     ]
    },
    {
     "name": "stderr",
     "output_type": "stream",
     "text": [
      "\r24.2%"
     ]
    },
    {
     "name": "stderr",
     "output_type": "stream",
     "text": [
      "\r24.3%"
     ]
    },
    {
     "name": "stderr",
     "output_type": "stream",
     "text": [
      "\r24.3%"
     ]
    },
    {
     "name": "stderr",
     "output_type": "stream",
     "text": [
      "\r24.3%"
     ]
    },
    {
     "name": "stderr",
     "output_type": "stream",
     "text": [
      "\r24.4%"
     ]
    },
    {
     "name": "stderr",
     "output_type": "stream",
     "text": [
      "\r24.4%"
     ]
    },
    {
     "name": "stderr",
     "output_type": "stream",
     "text": [
      "\r24.4%"
     ]
    },
    {
     "name": "stderr",
     "output_type": "stream",
     "text": [
      "\r24.5%"
     ]
    },
    {
     "name": "stderr",
     "output_type": "stream",
     "text": [
      "\r24.5%"
     ]
    },
    {
     "name": "stderr",
     "output_type": "stream",
     "text": [
      "\r24.5%"
     ]
    },
    {
     "name": "stderr",
     "output_type": "stream",
     "text": [
      "\r24.6%"
     ]
    },
    {
     "name": "stderr",
     "output_type": "stream",
     "text": [
      "\r24.6%"
     ]
    },
    {
     "name": "stderr",
     "output_type": "stream",
     "text": [
      "\r24.6%"
     ]
    },
    {
     "name": "stderr",
     "output_type": "stream",
     "text": [
      "\r24.6%"
     ]
    },
    {
     "name": "stderr",
     "output_type": "stream",
     "text": [
      "\r24.7%"
     ]
    },
    {
     "name": "stderr",
     "output_type": "stream",
     "text": [
      "\r24.7%"
     ]
    },
    {
     "name": "stderr",
     "output_type": "stream",
     "text": [
      "\r24.7%"
     ]
    },
    {
     "name": "stderr",
     "output_type": "stream",
     "text": [
      "\r24.8%"
     ]
    },
    {
     "name": "stderr",
     "output_type": "stream",
     "text": [
      "\r24.8%"
     ]
    },
    {
     "name": "stderr",
     "output_type": "stream",
     "text": [
      "\r24.8%"
     ]
    },
    {
     "name": "stderr",
     "output_type": "stream",
     "text": [
      "\r24.9%"
     ]
    },
    {
     "name": "stderr",
     "output_type": "stream",
     "text": [
      "\r24.9%"
     ]
    },
    {
     "name": "stderr",
     "output_type": "stream",
     "text": [
      "\r24.9%"
     ]
    },
    {
     "name": "stderr",
     "output_type": "stream",
     "text": [
      "\r25.0%"
     ]
    },
    {
     "name": "stderr",
     "output_type": "stream",
     "text": [
      "\r25.0%"
     ]
    },
    {
     "name": "stderr",
     "output_type": "stream",
     "text": [
      "\r25.0%"
     ]
    },
    {
     "name": "stderr",
     "output_type": "stream",
     "text": [
      "\r25.1%"
     ]
    },
    {
     "name": "stderr",
     "output_type": "stream",
     "text": [
      "\r25.1%"
     ]
    },
    {
     "name": "stderr",
     "output_type": "stream",
     "text": [
      "\r25.1%"
     ]
    },
    {
     "name": "stderr",
     "output_type": "stream",
     "text": [
      "\r25.1%"
     ]
    },
    {
     "name": "stderr",
     "output_type": "stream",
     "text": [
      "\r25.2%"
     ]
    },
    {
     "name": "stderr",
     "output_type": "stream",
     "text": [
      "\r25.2%"
     ]
    },
    {
     "name": "stderr",
     "output_type": "stream",
     "text": [
      "\r25.2%"
     ]
    },
    {
     "name": "stderr",
     "output_type": "stream",
     "text": [
      "\r25.3%"
     ]
    },
    {
     "name": "stderr",
     "output_type": "stream",
     "text": [
      "\r25.3%"
     ]
    },
    {
     "name": "stderr",
     "output_type": "stream",
     "text": [
      "\r25.3%"
     ]
    },
    {
     "name": "stderr",
     "output_type": "stream",
     "text": [
      "\r25.4%"
     ]
    },
    {
     "name": "stderr",
     "output_type": "stream",
     "text": [
      "\r25.4%"
     ]
    },
    {
     "name": "stderr",
     "output_type": "stream",
     "text": [
      "\r25.4%"
     ]
    },
    {
     "name": "stderr",
     "output_type": "stream",
     "text": [
      "\r25.5%"
     ]
    },
    {
     "name": "stderr",
     "output_type": "stream",
     "text": [
      "\r25.5%"
     ]
    },
    {
     "name": "stderr",
     "output_type": "stream",
     "text": [
      "\r25.5%"
     ]
    },
    {
     "name": "stderr",
     "output_type": "stream",
     "text": [
      "\r25.5%"
     ]
    },
    {
     "name": "stderr",
     "output_type": "stream",
     "text": [
      "\r25.6%"
     ]
    },
    {
     "name": "stderr",
     "output_type": "stream",
     "text": [
      "\r25.6%"
     ]
    },
    {
     "name": "stderr",
     "output_type": "stream",
     "text": [
      "\r25.6%"
     ]
    },
    {
     "name": "stderr",
     "output_type": "stream",
     "text": [
      "\r25.7%"
     ]
    },
    {
     "name": "stderr",
     "output_type": "stream",
     "text": [
      "\r25.7%"
     ]
    },
    {
     "name": "stderr",
     "output_type": "stream",
     "text": [
      "\r25.7%"
     ]
    },
    {
     "name": "stderr",
     "output_type": "stream",
     "text": [
      "\r25.8%"
     ]
    },
    {
     "name": "stderr",
     "output_type": "stream",
     "text": [
      "\r25.8%"
     ]
    },
    {
     "name": "stderr",
     "output_type": "stream",
     "text": [
      "\r25.8%"
     ]
    },
    {
     "name": "stderr",
     "output_type": "stream",
     "text": [
      "\r25.9%"
     ]
    },
    {
     "name": "stderr",
     "output_type": "stream",
     "text": [
      "\r25.9%"
     ]
    },
    {
     "name": "stderr",
     "output_type": "stream",
     "text": [
      "\r25.9%"
     ]
    },
    {
     "name": "stderr",
     "output_type": "stream",
     "text": [
      "\r26.0%"
     ]
    },
    {
     "name": "stderr",
     "output_type": "stream",
     "text": [
      "\r26.0%"
     ]
    },
    {
     "name": "stderr",
     "output_type": "stream",
     "text": [
      "\r26.0%"
     ]
    },
    {
     "name": "stderr",
     "output_type": "stream",
     "text": [
      "\r26.0%"
     ]
    },
    {
     "name": "stderr",
     "output_type": "stream",
     "text": [
      "\r26.1%"
     ]
    },
    {
     "name": "stderr",
     "output_type": "stream",
     "text": [
      "\r26.1%"
     ]
    },
    {
     "name": "stderr",
     "output_type": "stream",
     "text": [
      "\r26.1%"
     ]
    },
    {
     "name": "stderr",
     "output_type": "stream",
     "text": [
      "\r26.2%"
     ]
    },
    {
     "name": "stderr",
     "output_type": "stream",
     "text": [
      "\r26.2%"
     ]
    },
    {
     "name": "stderr",
     "output_type": "stream",
     "text": [
      "\r26.2%"
     ]
    },
    {
     "name": "stderr",
     "output_type": "stream",
     "text": [
      "\r26.3%"
     ]
    },
    {
     "name": "stderr",
     "output_type": "stream",
     "text": [
      "\r26.3%"
     ]
    },
    {
     "name": "stderr",
     "output_type": "stream",
     "text": [
      "\r26.3%"
     ]
    },
    {
     "name": "stderr",
     "output_type": "stream",
     "text": [
      "\r26.4%"
     ]
    },
    {
     "name": "stderr",
     "output_type": "stream",
     "text": [
      "\r26.4%"
     ]
    },
    {
     "name": "stderr",
     "output_type": "stream",
     "text": [
      "\r26.4%"
     ]
    },
    {
     "name": "stderr",
     "output_type": "stream",
     "text": [
      "\r26.4%"
     ]
    },
    {
     "name": "stderr",
     "output_type": "stream",
     "text": [
      "\r26.5%"
     ]
    },
    {
     "name": "stderr",
     "output_type": "stream",
     "text": [
      "\r26.5%"
     ]
    },
    {
     "name": "stderr",
     "output_type": "stream",
     "text": [
      "\r26.5%"
     ]
    },
    {
     "ename": "KeyboardInterrupt",
     "evalue": "",
     "traceback": [
      "\u001b[0;31m---------------------------------------------------------------------------\u001b[0m",
      "\u001b[0;31mKeyboardInterrupt\u001b[0m                         Traceback (most recent call last)",
      "\u001b[0;32m<ipython-input-6-aa5381a7f07f>\u001b[0m in \u001b[0;36m<module>\u001b[0;34m\u001b[0m\n\u001b[1;32m      2\u001b[0m \u001b[0mroot\u001b[0m \u001b[0;34m=\u001b[0m \u001b[0mos\u001b[0m\u001b[0;34m.\u001b[0m\u001b[0mpath\u001b[0m\u001b[0;34m.\u001b[0m\u001b[0mdirname\u001b[0m\u001b[0;34m(\u001b[0m\u001b[0mos\u001b[0m\u001b[0;34m.\u001b[0m\u001b[0mgetcwd\u001b[0m\u001b[0;34m(\u001b[0m\u001b[0;34m)\u001b[0m\u001b[0;34m)\u001b[0m\u001b[0;34m\u001b[0m\u001b[0;34m\u001b[0m\u001b[0m\n\u001b[1;32m      3\u001b[0m \u001b[0mprint\u001b[0m\u001b[0;34m(\u001b[0m\u001b[0mroot\u001b[0m\u001b[0;34m)\u001b[0m\u001b[0;34m\u001b[0m\u001b[0;34m\u001b[0m\u001b[0m\n\u001b[0;32m----> 4\u001b[0;31m \u001b[0mtorchvision\u001b[0m\u001b[0;34m.\u001b[0m\u001b[0mdatasets\u001b[0m\u001b[0;34m.\u001b[0m\u001b[0mFashionMNIST\u001b[0m\u001b[0;34m(\u001b[0m\u001b[0mroot\u001b[0m\u001b[0;34m=\u001b[0m\u001b[0mroot\u001b[0m\u001b[0;34m,\u001b[0m \u001b[0mdownload\u001b[0m\u001b[0;34m=\u001b[0m\u001b[0;32mTrue\u001b[0m\u001b[0;34m)\u001b[0m\u001b[0;34m\u001b[0m\u001b[0;34m\u001b[0m\u001b[0m\n\u001b[0m",
      "\u001b[0;32m/usr/local/lib/python3.6/dist-packages/torchvision/datasets/mnist.py\u001b[0m in \u001b[0;36m__init__\u001b[0;34m(self, root, train, transform, target_transform, download)\u001b[0m\n\u001b[1;32m     68\u001b[0m \u001b[0;34m\u001b[0m\u001b[0m\n\u001b[1;32m     69\u001b[0m         \u001b[0;32mif\u001b[0m \u001b[0mdownload\u001b[0m\u001b[0;34m:\u001b[0m\u001b[0;34m\u001b[0m\u001b[0;34m\u001b[0m\u001b[0m\n\u001b[0;32m---> 70\u001b[0;31m             \u001b[0mself\u001b[0m\u001b[0;34m.\u001b[0m\u001b[0mdownload\u001b[0m\u001b[0;34m(\u001b[0m\u001b[0;34m)\u001b[0m\u001b[0;34m\u001b[0m\u001b[0;34m\u001b[0m\u001b[0m\n\u001b[0m\u001b[1;32m     71\u001b[0m \u001b[0;34m\u001b[0m\u001b[0m\n\u001b[1;32m     72\u001b[0m         \u001b[0;32mif\u001b[0m \u001b[0;32mnot\u001b[0m \u001b[0mself\u001b[0m\u001b[0;34m.\u001b[0m\u001b[0m_check_exists\u001b[0m\u001b[0;34m(\u001b[0m\u001b[0;34m)\u001b[0m\u001b[0;34m:\u001b[0m\u001b[0;34m\u001b[0m\u001b[0;34m\u001b[0m\u001b[0m\n",
      "\u001b[0;32m/usr/local/lib/python3.6/dist-packages/torchvision/datasets/mnist.py\u001b[0m in \u001b[0;36mdownload\u001b[0;34m(self)\u001b[0m\n\u001b[1;32m    135\u001b[0m         \u001b[0;32mfor\u001b[0m \u001b[0murl\u001b[0m\u001b[0;34m,\u001b[0m \u001b[0mmd5\u001b[0m \u001b[0;32min\u001b[0m \u001b[0mself\u001b[0m\u001b[0;34m.\u001b[0m\u001b[0mresources\u001b[0m\u001b[0;34m:\u001b[0m\u001b[0;34m\u001b[0m\u001b[0;34m\u001b[0m\u001b[0m\n\u001b[1;32m    136\u001b[0m             \u001b[0mfilename\u001b[0m \u001b[0;34m=\u001b[0m \u001b[0murl\u001b[0m\u001b[0;34m.\u001b[0m\u001b[0mrpartition\u001b[0m\u001b[0;34m(\u001b[0m\u001b[0;34m'/'\u001b[0m\u001b[0;34m)\u001b[0m\u001b[0;34m[\u001b[0m\u001b[0;36m2\u001b[0m\u001b[0;34m]\u001b[0m\u001b[0;34m\u001b[0m\u001b[0;34m\u001b[0m\u001b[0m\n\u001b[0;32m--> 137\u001b[0;31m             \u001b[0mdownload_and_extract_archive\u001b[0m\u001b[0;34m(\u001b[0m\u001b[0murl\u001b[0m\u001b[0;34m,\u001b[0m \u001b[0mdownload_root\u001b[0m\u001b[0;34m=\u001b[0m\u001b[0mself\u001b[0m\u001b[0;34m.\u001b[0m\u001b[0mraw_folder\u001b[0m\u001b[0;34m,\u001b[0m \u001b[0mfilename\u001b[0m\u001b[0;34m=\u001b[0m\u001b[0mfilename\u001b[0m\u001b[0;34m,\u001b[0m \u001b[0mmd5\u001b[0m\u001b[0;34m=\u001b[0m\u001b[0mmd5\u001b[0m\u001b[0;34m)\u001b[0m\u001b[0;34m\u001b[0m\u001b[0;34m\u001b[0m\u001b[0m\n\u001b[0m\u001b[1;32m    138\u001b[0m \u001b[0;34m\u001b[0m\u001b[0m\n\u001b[1;32m    139\u001b[0m         \u001b[0;31m# process and save as torch files\u001b[0m\u001b[0;34m\u001b[0m\u001b[0;34m\u001b[0m\u001b[0;34m\u001b[0m\u001b[0m\n",
      "\u001b[0;32m/usr/local/lib/python3.6/dist-packages/torchvision/datasets/utils.py\u001b[0m in \u001b[0;36mdownload_and_extract_archive\u001b[0;34m(url, download_root, extract_root, filename, md5, remove_finished)\u001b[0m\n\u001b[1;32m    262\u001b[0m         \u001b[0mfilename\u001b[0m \u001b[0;34m=\u001b[0m \u001b[0mos\u001b[0m\u001b[0;34m.\u001b[0m\u001b[0mpath\u001b[0m\u001b[0;34m.\u001b[0m\u001b[0mbasename\u001b[0m\u001b[0;34m(\u001b[0m\u001b[0murl\u001b[0m\u001b[0;34m)\u001b[0m\u001b[0;34m\u001b[0m\u001b[0;34m\u001b[0m\u001b[0m\n\u001b[1;32m    263\u001b[0m \u001b[0;34m\u001b[0m\u001b[0m\n\u001b[0;32m--> 264\u001b[0;31m     \u001b[0mdownload_url\u001b[0m\u001b[0;34m(\u001b[0m\u001b[0murl\u001b[0m\u001b[0;34m,\u001b[0m \u001b[0mdownload_root\u001b[0m\u001b[0;34m,\u001b[0m \u001b[0mfilename\u001b[0m\u001b[0;34m,\u001b[0m \u001b[0mmd5\u001b[0m\u001b[0;34m)\u001b[0m\u001b[0;34m\u001b[0m\u001b[0;34m\u001b[0m\u001b[0m\n\u001b[0m\u001b[1;32m    265\u001b[0m \u001b[0;34m\u001b[0m\u001b[0m\n\u001b[1;32m    266\u001b[0m     \u001b[0marchive\u001b[0m \u001b[0;34m=\u001b[0m \u001b[0mos\u001b[0m\u001b[0;34m.\u001b[0m\u001b[0mpath\u001b[0m\u001b[0;34m.\u001b[0m\u001b[0mjoin\u001b[0m\u001b[0;34m(\u001b[0m\u001b[0mdownload_root\u001b[0m\u001b[0;34m,\u001b[0m \u001b[0mfilename\u001b[0m\u001b[0;34m)\u001b[0m\u001b[0;34m\u001b[0m\u001b[0;34m\u001b[0m\u001b[0m\n",
      "\u001b[0;32m/usr/local/lib/python3.6/dist-packages/torchvision/datasets/utils.py\u001b[0m in \u001b[0;36mdownload_url\u001b[0;34m(url, root, filename, md5)\u001b[0m\n\u001b[1;32m     83\u001b[0m             urllib.request.urlretrieve(\n\u001b[1;32m     84\u001b[0m                 \u001b[0murl\u001b[0m\u001b[0;34m,\u001b[0m \u001b[0mfpath\u001b[0m\u001b[0;34m,\u001b[0m\u001b[0;34m\u001b[0m\u001b[0;34m\u001b[0m\u001b[0m\n\u001b[0;32m---> 85\u001b[0;31m                 \u001b[0mreporthook\u001b[0m\u001b[0;34m=\u001b[0m\u001b[0mgen_bar_updater\u001b[0m\u001b[0;34m(\u001b[0m\u001b[0;34m)\u001b[0m\u001b[0;34m\u001b[0m\u001b[0;34m\u001b[0m\u001b[0m\n\u001b[0m\u001b[1;32m     86\u001b[0m             )\n\u001b[1;32m     87\u001b[0m         \u001b[0;32mexcept\u001b[0m \u001b[0;34m(\u001b[0m\u001b[0murllib\u001b[0m\u001b[0;34m.\u001b[0m\u001b[0merror\u001b[0m\u001b[0;34m.\u001b[0m\u001b[0mURLError\u001b[0m\u001b[0;34m,\u001b[0m \u001b[0mIOError\u001b[0m\u001b[0;34m)\u001b[0m \u001b[0;32mas\u001b[0m \u001b[0me\u001b[0m\u001b[0;34m:\u001b[0m\u001b[0;34m\u001b[0m\u001b[0;34m\u001b[0m\u001b[0m\n",
      "\u001b[0;32m/usr/lib/python3.6/urllib/request.py\u001b[0m in \u001b[0;36murlretrieve\u001b[0;34m(url, filename, reporthook, data)\u001b[0m\n\u001b[1;32m    275\u001b[0m \u001b[0;34m\u001b[0m\u001b[0m\n\u001b[1;32m    276\u001b[0m             \u001b[0;32mwhile\u001b[0m \u001b[0;32mTrue\u001b[0m\u001b[0;34m:\u001b[0m\u001b[0;34m\u001b[0m\u001b[0;34m\u001b[0m\u001b[0m\n\u001b[0;32m--> 277\u001b[0;31m                 \u001b[0mblock\u001b[0m \u001b[0;34m=\u001b[0m \u001b[0mfp\u001b[0m\u001b[0;34m.\u001b[0m\u001b[0mread\u001b[0m\u001b[0;34m(\u001b[0m\u001b[0mbs\u001b[0m\u001b[0;34m)\u001b[0m\u001b[0;34m\u001b[0m\u001b[0;34m\u001b[0m\u001b[0m\n\u001b[0m\u001b[1;32m    278\u001b[0m                 \u001b[0;32mif\u001b[0m \u001b[0;32mnot\u001b[0m \u001b[0mblock\u001b[0m\u001b[0;34m:\u001b[0m\u001b[0;34m\u001b[0m\u001b[0;34m\u001b[0m\u001b[0m\n\u001b[1;32m    279\u001b[0m                     \u001b[0;32mbreak\u001b[0m\u001b[0;34m\u001b[0m\u001b[0;34m\u001b[0m\u001b[0m\n",
      "\u001b[0;32m/usr/lib/python3.6/http/client.py\u001b[0m in \u001b[0;36mread\u001b[0;34m(self, amt)\u001b[0m\n\u001b[1;32m    457\u001b[0m             \u001b[0;31m# Amount is given, implement using readinto\u001b[0m\u001b[0;34m\u001b[0m\u001b[0;34m\u001b[0m\u001b[0;34m\u001b[0m\u001b[0m\n\u001b[1;32m    458\u001b[0m             \u001b[0mb\u001b[0m \u001b[0;34m=\u001b[0m \u001b[0mbytearray\u001b[0m\u001b[0;34m(\u001b[0m\u001b[0mamt\u001b[0m\u001b[0;34m)\u001b[0m\u001b[0;34m\u001b[0m\u001b[0;34m\u001b[0m\u001b[0m\n\u001b[0;32m--> 459\u001b[0;31m             \u001b[0mn\u001b[0m \u001b[0;34m=\u001b[0m \u001b[0mself\u001b[0m\u001b[0;34m.\u001b[0m\u001b[0mreadinto\u001b[0m\u001b[0;34m(\u001b[0m\u001b[0mb\u001b[0m\u001b[0;34m)\u001b[0m\u001b[0;34m\u001b[0m\u001b[0;34m\u001b[0m\u001b[0m\n\u001b[0m\u001b[1;32m    460\u001b[0m             \u001b[0;32mreturn\u001b[0m \u001b[0mmemoryview\u001b[0m\u001b[0;34m(\u001b[0m\u001b[0mb\u001b[0m\u001b[0;34m)\u001b[0m\u001b[0;34m[\u001b[0m\u001b[0;34m:\u001b[0m\u001b[0mn\u001b[0m\u001b[0;34m]\u001b[0m\u001b[0;34m.\u001b[0m\u001b[0mtobytes\u001b[0m\u001b[0;34m(\u001b[0m\u001b[0;34m)\u001b[0m\u001b[0;34m\u001b[0m\u001b[0;34m\u001b[0m\u001b[0m\n\u001b[1;32m    461\u001b[0m         \u001b[0;32melse\u001b[0m\u001b[0;34m:\u001b[0m\u001b[0;34m\u001b[0m\u001b[0;34m\u001b[0m\u001b[0m\n",
      "\u001b[0;32m/usr/lib/python3.6/http/client.py\u001b[0m in \u001b[0;36mreadinto\u001b[0;34m(self, b)\u001b[0m\n\u001b[1;32m    501\u001b[0m         \u001b[0;31m# connection, and the user is reading more bytes than will be provided\u001b[0m\u001b[0;34m\u001b[0m\u001b[0;34m\u001b[0m\u001b[0;34m\u001b[0m\u001b[0m\n\u001b[1;32m    502\u001b[0m         \u001b[0;31m# (for example, reading in 1k chunks)\u001b[0m\u001b[0;34m\u001b[0m\u001b[0;34m\u001b[0m\u001b[0;34m\u001b[0m\u001b[0m\n\u001b[0;32m--> 503\u001b[0;31m         \u001b[0mn\u001b[0m \u001b[0;34m=\u001b[0m \u001b[0mself\u001b[0m\u001b[0;34m.\u001b[0m\u001b[0mfp\u001b[0m\u001b[0;34m.\u001b[0m\u001b[0mreadinto\u001b[0m\u001b[0;34m(\u001b[0m\u001b[0mb\u001b[0m\u001b[0;34m)\u001b[0m\u001b[0;34m\u001b[0m\u001b[0;34m\u001b[0m\u001b[0m\n\u001b[0m\u001b[1;32m    504\u001b[0m         \u001b[0;32mif\u001b[0m \u001b[0;32mnot\u001b[0m \u001b[0mn\u001b[0m \u001b[0;32mand\u001b[0m \u001b[0mb\u001b[0m\u001b[0;34m:\u001b[0m\u001b[0;34m\u001b[0m\u001b[0;34m\u001b[0m\u001b[0m\n\u001b[1;32m    505\u001b[0m             \u001b[0;31m# Ideally, we would raise IncompleteRead if the content-length\u001b[0m\u001b[0;34m\u001b[0m\u001b[0;34m\u001b[0m\u001b[0;34m\u001b[0m\u001b[0m\n",
      "\u001b[0;32m/usr/lib/python3.6/socket.py\u001b[0m in \u001b[0;36mreadinto\u001b[0;34m(self, b)\u001b[0m\n\u001b[1;32m    584\u001b[0m         \u001b[0;32mwhile\u001b[0m \u001b[0;32mTrue\u001b[0m\u001b[0;34m:\u001b[0m\u001b[0;34m\u001b[0m\u001b[0;34m\u001b[0m\u001b[0m\n\u001b[1;32m    585\u001b[0m             \u001b[0;32mtry\u001b[0m\u001b[0;34m:\u001b[0m\u001b[0;34m\u001b[0m\u001b[0;34m\u001b[0m\u001b[0m\n\u001b[0;32m--> 586\u001b[0;31m                 \u001b[0;32mreturn\u001b[0m \u001b[0mself\u001b[0m\u001b[0;34m.\u001b[0m\u001b[0m_sock\u001b[0m\u001b[0;34m.\u001b[0m\u001b[0mrecv_into\u001b[0m\u001b[0;34m(\u001b[0m\u001b[0mb\u001b[0m\u001b[0;34m)\u001b[0m\u001b[0;34m\u001b[0m\u001b[0;34m\u001b[0m\u001b[0m\n\u001b[0m\u001b[1;32m    587\u001b[0m             \u001b[0;32mexcept\u001b[0m \u001b[0mtimeout\u001b[0m\u001b[0;34m:\u001b[0m\u001b[0;34m\u001b[0m\u001b[0;34m\u001b[0m\u001b[0m\n\u001b[1;32m    588\u001b[0m                 \u001b[0mself\u001b[0m\u001b[0;34m.\u001b[0m\u001b[0m_timeout_occurred\u001b[0m \u001b[0;34m=\u001b[0m \u001b[0;32mTrue\u001b[0m\u001b[0;34m\u001b[0m\u001b[0;34m\u001b[0m\u001b[0m\n",
      "\u001b[0;31mKeyboardInterrupt\u001b[0m: "
     ],
     "output_type": "error"
    }
   ],
   "source": [
    "import torchvision\n",
    "root = os.path.dirname(os.getcwd())\n",
    "print(root)\n",
    "torchvision.datasets.FashionMNIST(root=root, download=True)"
   ]
  },
  {
   "cell_type": "code",
   "execution_count": 53,
   "metadata": {},
   "outputs": [],
   "source": [
    "class UNetConvBlock(nn.Module):\n",
    "    def __init__(self, in_chans, out_chans, padding, batch_norm):\n",
    "        super(UNetConvBlock, self).__init__()\n",
    "        block = [] # 新建空的列表， 要往里面填东西\n",
    "        \n",
    "        block.append(nn.Conv2d(in_chans, out_chans, kernel_size=3, padding=int(padding)))\n",
    "        block.append(nn.ReLU())\n",
    "        if batch_norm:\n",
    "            block.append(nn.BatchNorm2d(out_chans))\n",
    "            pass\n",
    "        self.block = nn.Sequential(*block)\n",
    "        pass\n",
    "    \n",
    "    def forward(self, x):\n",
    "        out = self.block(x)\n",
    "        return out\n",
    "    \n",
    "    pass\n",
    "\n",
    "# 写一个上采样的block\n",
    "class UNetUpBlock(nn.Module):\n",
    "    def __init__(self, in_chans, out_chans, up_mode, padding, batch_norm):\n",
    "        super(UNetUpBlock, self).__init__()\n",
    "        if up_mode == 'upconv':\n",
    "            self.up = nn.ConvTranspose2d(in_chans, out_chans, kernel_size=2, stride=2)\n",
    "        elif up_mode == 'upsample':\n",
    "            self.up = nn.Sequential(nn.Upsample(mode='bilinear', scale_factor=2), \n",
    "                                    nn.Conv2d(in_chans, out_chans, kernel_size=1))\n",
    "        self.conv_block = UNetConvBlock(in_chans, out_chans, padding, batch_norm)\n",
    "        pass\n",
    "    \n",
    "    # 定义对feature map的裁剪函数\n",
    "    def center_crop(self, layer, target_size):\n",
    "        _, _, layer_height, layer_width = layer.size()\n",
    "        diff_y = (layer_height - target_size[0])//2\n",
    "        diff_x = (layer_width - target_size[1])//2\n",
    "        return layer[:, :, diff_y:(diff_y + target_size[0]), diff_x:(diff_x + target_size[1])]\n",
    "        pass\n",
    "    \n",
    "    def forward(self, x, bridge):\n",
    "        up = self.up(x)\n",
    "        crop1 = self.center_crop(bridge, up.shape[2:])\n",
    "        out = torch.cat([up, crop1, 1])\n",
    "        out = self.conv_block(out)\n",
    "        return out\n",
    "        pass\n",
    "    \n",
    "    pass"
   ]
  },
  {
   "cell_type": "code",
   "execution_count": 64,
   "metadata": {},
   "outputs": [],
   "source": [
    "class UNet(nn.Module):\n",
    "    def __init__(self, \n",
    "                 in_channels = 1,\n",
    "                 n_classes = 2, # 最终由多少个分类 \n",
    "                 depth = 5, # 网络的深度\n",
    "                 wf = 6, # 第一层的个数， 2的wf次方， 正课中给出的数列是64\n",
    "                 padding = False,\n",
    "                 batch_norm = False, \n",
    "                 up_mode = 'upconv'\n",
    "                ):\n",
    "        super(Unet, self).__init__()\n",
    "        assert up_mode in ('upconv', 'upsample')\n",
    "        self.padding = padding\n",
    "        self.depth = depth\n",
    "        prev_channels = in_channels\n",
    "        self.down_path = nn.ModuleList()\n",
    "        for i in range(depth):\n",
    "            self.down_path.append(UNetConvBlock(prev_channels, 2**(wf+1), padding, batch_norm))\n",
    "            prev_channels = 2**(wf+i)\n",
    "            \n",
    "        self.up_path  = nn.ModuleList()\n",
    "        for i in reversed(range(depth-1)):\n",
    "            self.up_path.append(UNetConvBlock(prev_channels, 2**(wf+1), up_mode, padding, batch_norm))\n",
    "            prev_channels = 2*(wf+i)\n",
    "        self.list = nn.Conv2d(prev_channels, n_classes, kernel_size=1)\n",
    "        pass\n",
    "    \n",
    "    def forward(self, x):\n",
    "        blocks = []\n",
    "        for i, down in enumerate(self.down_path):\n",
    "            x = down(x)\n",
    "            if i != len(self.down_path) - 1:\n",
    "                blocks.append(x)\n",
    "                x = F.max_pool2d(x, 2)\n",
    "        for i, up in enumerate(self.up_path):\n",
    "            x = up(x, block[-i -1])\n",
    "        return self.last(x)\n",
    "    \n",
    "    pass"
   ]
  },
  {
   "cell_type": "code",
   "execution_count": 65,
   "metadata": {},
   "outputs": [
    {
     "ename": "TypeError",
     "evalue": "super(type, obj): obj must be an instance or subtype of type",
     "traceback": [
      "\u001b[0;31m---------------------------------------------------------------------------\u001b[0m",
      "\u001b[0;31mTypeError\u001b[0m                                 Traceback (most recent call last)",
      "\u001b[0;32m<ipython-input-65-f85e6faddc21>\u001b[0m in \u001b[0;36m<module>\u001b[0;34m\u001b[0m\n\u001b[1;32m      1\u001b[0m \u001b[0mx\u001b[0m \u001b[0;34m=\u001b[0m \u001b[0mtorch\u001b[0m\u001b[0;34m.\u001b[0m\u001b[0mrandn\u001b[0m\u001b[0;34m(\u001b[0m\u001b[0;34m(\u001b[0m\u001b[0;36m1\u001b[0m\u001b[0;34m,\u001b[0m \u001b[0;36m1\u001b[0m\u001b[0;34m,\u001b[0m \u001b[0;36m572\u001b[0m\u001b[0;34m,\u001b[0m \u001b[0;36m572\u001b[0m\u001b[0;34m)\u001b[0m\u001b[0;34m)\u001b[0m \u001b[0;31m# batch_size是1，通道是1， 输入572 x 572\u001b[0m\u001b[0;34m\u001b[0m\u001b[0;34m\u001b[0m\u001b[0m\n\u001b[0;32m----> 2\u001b[0;31m \u001b[0munet\u001b[0m \u001b[0;34m=\u001b[0m \u001b[0mUNet\u001b[0m\u001b[0;34m(\u001b[0m\u001b[0;34m)\u001b[0m\u001b[0;34m\u001b[0m\u001b[0;34m\u001b[0m\u001b[0m\n\u001b[0m\u001b[1;32m      3\u001b[0m \u001b[0munet\u001b[0m\u001b[0;34m.\u001b[0m\u001b[0meval\u001b[0m\u001b[0;34m(\u001b[0m\u001b[0;34m)\u001b[0m\u001b[0;34m\u001b[0m\u001b[0;34m\u001b[0m\u001b[0m\n\u001b[1;32m      4\u001b[0m \u001b[0my_unet\u001b[0m \u001b[0;34m=\u001b[0m \u001b[0munet\u001b[0m\u001b[0;34m(\u001b[0m\u001b[0mx\u001b[0m\u001b[0;34m)\u001b[0m\u001b[0;34m\u001b[0m\u001b[0;34m\u001b[0m\u001b[0m\n",
      "\u001b[0;32m<ipython-input-64-f949a73f77c3>\u001b[0m in \u001b[0;36m__init__\u001b[0;34m(self, in_channels, n_classes, depth, wf, padding, batch_norm, up_mode)\u001b[0m\n\u001b[1;32m      9\u001b[0m                  \u001b[0mup_mode\u001b[0m \u001b[0;34m=\u001b[0m \u001b[0;34m'upconv'\u001b[0m\u001b[0;34m\u001b[0m\u001b[0;34m\u001b[0m\u001b[0m\n\u001b[1;32m     10\u001b[0m                 ):\n\u001b[0;32m---> 11\u001b[0;31m         \u001b[0msuper\u001b[0m\u001b[0;34m(\u001b[0m\u001b[0mUnet\u001b[0m\u001b[0;34m,\u001b[0m \u001b[0mself\u001b[0m\u001b[0;34m)\u001b[0m\u001b[0;34m.\u001b[0m\u001b[0m__init__\u001b[0m\u001b[0;34m(\u001b[0m\u001b[0;34m)\u001b[0m\u001b[0;34m\u001b[0m\u001b[0;34m\u001b[0m\u001b[0m\n\u001b[0m\u001b[1;32m     12\u001b[0m         \u001b[0;32massert\u001b[0m \u001b[0mup_mode\u001b[0m \u001b[0;32min\u001b[0m \u001b[0;34m(\u001b[0m\u001b[0;34m'upconv'\u001b[0m\u001b[0;34m,\u001b[0m \u001b[0;34m'upsample'\u001b[0m\u001b[0;34m)\u001b[0m\u001b[0;34m\u001b[0m\u001b[0;34m\u001b[0m\u001b[0m\n\u001b[1;32m     13\u001b[0m         \u001b[0mself\u001b[0m\u001b[0;34m.\u001b[0m\u001b[0mpadding\u001b[0m \u001b[0;34m=\u001b[0m \u001b[0mpadding\u001b[0m\u001b[0;34m\u001b[0m\u001b[0;34m\u001b[0m\u001b[0m\n",
      "\u001b[0;31mTypeError\u001b[0m: super(type, obj): obj must be an instance or subtype of type"
     ],
     "output_type": "error"
    }
   ],
   "source": [
    "x = torch.randn((1, 1, 572, 572)) # batch_size是1，通道是1， 输入572 x 572\n",
    "unet = UNet()\n",
    "unet.eval()\n",
    "y_unet = unet(x)"
   ]
  },
  {
   "cell_type": "code",
   "execution_count": null,
   "metadata": {},
   "outputs": [],
   "source": []
  }
 ],
 "metadata": {
  "kernelspec": {
   "display_name": "Python 3",
   "language": "python",
   "name": "python3"
  },
  "language_info": {
   "codemirror_mode": {
    "name": "ipython",
    "version": 3
   },
   "file_extension": ".py",
   "mimetype": "text/x-python",
   "name": "python",
   "nbconvert_exporter": "python",
   "pygments_lexer": "ipython3",
   "version": "3.6.8"
  }
 },
 "nbformat": 4,
 "nbformat_minor": 2
}
