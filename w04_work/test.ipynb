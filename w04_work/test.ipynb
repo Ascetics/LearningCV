{
 "cells": [
  {
   "cell_type": "code",
   "execution_count": 32,
   "metadata": {
    "collapsed": false
   },
   "outputs": [],
   "source": [
    "def id_to_trainid(image_id):\n",
    "    \"\"\"\n",
    "    要求输入的图像是灰度读图，灰阶0-255。\n",
    "    matplotlib.img读取灰度图像的灰阶是0.0-1.0，需要自己处理到0-255\n",
    "    :param image_id: id标注的label图像\n",
    "    :return: trainid标注的label图像\n",
    "    \"\"\"\n",
    "    image_trainid = np.zeros(image_id.shape, dtype=np.uint8)\n",
    "\n",
    "    # trainId = 0\n",
    "    # dst[src == 0] = 0\n",
    "    image_trainid[image_id == 255] = 0\n",
    "    image_trainid[image_id == 249] = 0\n",
    "\n",
    "    # trainId = 1\n",
    "    image_trainid[image_id == 200] = 1\n",
    "    image_trainid[image_id == 204] = 1\n",
    "    image_trainid[image_id == 213] = 0  # ignoreInEval\n",
    "    image_trainid[image_id == 209] = 1\n",
    "    image_trainid[image_id == 206] = 0\n",
    "    image_trainid[image_id == 207] = 0\n",
    "\n",
    "    # trainId = 2\n",
    "    image_trainid[image_id == 201] = 2\n",
    "    image_trainid[image_id == 203] = 2\n",
    "    image_trainid[image_id == 211] = 0\n",
    "    image_trainid[image_id == 208] = 0\n",
    "\n",
    "    # trainId = 3\n",
    "    image_trainid[image_id == 216] = 0\n",
    "    image_trainid[image_id == 217] = 3\n",
    "    image_trainid[image_id == 215] = 0\n",
    "\n",
    "    # trainId = 4\n",
    "    image_trainid[image_id == 218] = 0\n",
    "    image_trainid[image_id == 219] = 0\n",
    "\n",
    "    # trainId = 5->4,因trainId=4都被忽略，5递进为4，后面一样递进\n",
    "    image_trainid[image_id == 210] = 4\n",
    "    image_trainid[image_id == 232] = 0\n",
    "\n",
    "    # trainId = 6->5\n",
    "    image_trainid[image_id == 214] = 5\n",
    "\n",
    "    # trainId = 7->6\n",
    "    image_trainid[image_id == 202] = 0\n",
    "    image_trainid[image_id == 220] = 6\n",
    "    image_trainid[image_id == 221] = 6\n",
    "    image_trainid[image_id == 222] = 6\n",
    "    image_trainid[image_id == 231] = 0\n",
    "    image_trainid[image_id == 224] = 6\n",
    "    image_trainid[image_id == 225] = 6\n",
    "    image_trainid[image_id == 226] = 6\n",
    "    image_trainid[image_id == 230] = 0\n",
    "    image_trainid[image_id == 228] = 0\n",
    "    image_trainid[image_id == 229] = 0\n",
    "    image_trainid[image_id == 233] = 0\n",
    "\n",
    "    # trainId = 8->7\n",
    "    image_trainid[image_id == 205] = 7\n",
    "    image_trainid[image_id == 212] = 0\n",
    "    image_trainid[image_id == 227] = 7\n",
    "    image_trainid[image_id == 223] = 0\n",
    "    image_trainid[image_id == 250] = 7\n",
    "\n",
    "    return image_trainid\n",
    "\n",
    "\n",
    "def trainid_to_id(label_trainid):\n",
    "    \"\"\"\n",
    "    要求输入的图像是灰度读图，灰阶0-255。\n",
    "    matplotlib.img读取灰度图像的灰阶是0.0-1.0，需要自己处理到0-255\n",
    "    :param label_trainid: trainid标注的label图像\n",
    "    :return: id标注的label图像\n",
    "    \"\"\"\n",
    "    label_id = np.zeros(label_trainid.shape, dtype=np.uint8)\n",
    "\n",
    "    # id = 0\n",
    "    label_id[label_trainid == 0] = 0\n",
    "\n",
    "    # id = 1\n",
    "    label_id[label_trainid == 1] = 200\n",
    "\n",
    "    # id = 2\n",
    "    label_id[label_trainid == 2] = 201\n",
    "\n",
    "    # id = 3\n",
    "    label_id[label_trainid == 3] = 217\n",
    "\n",
    "    # id = 4->5\n",
    "    label_id[label_trainid == 4] = 210\n",
    "\n",
    "    # id = 5->6\n",
    "    label_id[label_trainid == 5] = 214\n",
    "\n",
    "    # id = 6->7\n",
    "    label_id[label_trainid == 6] = 220\n",
    "\n",
    "    # id = 7->8\n",
    "    label_id[label_trainid == 7] = 205\n",
    "\n",
    "    return label_id\n",
    "\n",
    "\n",
    "def gray_to_rgb(label_gray):\n",
    "    \"\"\"\n",
    "    将trainid标注的灰度label转换成rgb彩色label\n",
    "    :param label_gray: 灰度图label\n",
    "    :return: rgb彩色label\n",
    "    \"\"\"\n",
    "    height, width = label_gray.shape\n",
    "    rgb = np.zeros((height, width, 3), dtype=np.uint8)\n",
    "    # id = 0\n",
    "    rgb[label_gray == 0] = np.array([0, 0, 0])\n",
    "\n",
    "    # id = 1\n",
    "    rgb[label_gray == 1] = np.array([70, 130, 180])\n",
    "\n",
    "    # id = 2\n",
    "    rgb[label_gray == 2] = np.array([0, 0, 142])\n",
    "\n",
    "    # id = 3\n",
    "    rgb[label_gray == 3] = np.array([220, 220, 0])\n",
    "\n",
    "    # id = 4->5\n",
    "    rgb[label_gray == 4] = np.array([128, 64, 128])\n",
    "\n",
    "    # id = 5->6\n",
    "    rgb[label_gray == 5] = np.array([190, 153, 153])\n",
    "\n",
    "    # id = 6->7\n",
    "    rgb[label_gray == 6] = np.array([128, 128, 0])\n",
    "\n",
    "    # id = 7->8\n",
    "    rgb[label_gray == 7] = np.array([255, 128, 0])\n",
    "\n",
    "    return rgb"
   ]
  },
  {
   "cell_type": "code",
   "execution_count": 34,
   "metadata": {},
   "outputs": [
    {
     "data": {
      "text/plain": [
       "(dtype('uint8'), dtype('uint8'), dtype('uint8'), dtype('uint8'))"
      ]
     },
     "execution_count": 34,
     "metadata": {},
     "output_type": "execute_result"
    }
   ],
   "source": [
    "file = '/root/data/LaneSeg/Gray_Label/Label_road02/Label/Record002/Camera 5/170927_064016919_Camera_5_bin.png'\n",
    "img = mpimg.imread(file)\n",
    "img = img * 255\n",
    "np.clip(img, 0, 255)\n",
    "img = img.astype(np.uint8)\n",
    "img_trainid = id_to_trainid(img)\n",
    "img_id = trainid_to_id(img_trainid)\n",
    "img_rgb = gray_to_rgb(img_trainid)\n",
    "\n",
    "img.dtype, img_trainid.dtype, img_id.dtype, img_rgb.dtype"
   ]
  },
  {
   "cell_type": "code",
   "execution_count": 36,
   "metadata": {},
   "outputs": [
    {
     "data": {
      "image/png": "[encoded data removed]",
      "text/plain": [
       "<Figure size 1440x720 with 4 Axes>"
      ]
     },
     "metadata": {},
     "output_type": "display_data"
    }
   ],
   "source": [
    "def show(img1, img2, img3, img4):\n",
    "    fig, ax = plt.subplots(2, 2, figsize=(20, 10))\n",
    "    ax = ax.flatten()\n",
    "    ax[0].imshow(img1, plt.cm.gray)\n",
    "    ax[1].imshow(img2, plt.cm.gray)\n",
    "    ax[2].imshow(img3, plt.cm.gray)\n",
    "    ax[3].imshow(img4)\n",
    "    fig.tight_layout()\n",
    "    plt.show()\n",
    "\n",
    "show(img, img_trainid, img_id, img_rgb)\n"
   ]
  },
  {
   "cell_type": "code",
   "execution_count": 11,
   "metadata": {},
   "outputs": [],
   "source": [
    "\n"
   ]
  },
  {
   "cell_type": "code",
   "execution_count": null,
   "metadata": {},
   "outputs": [],
   "source": []
  }
 ],
 "metadata": {
  "kernelspec": {
   "display_name": "Python 2",
   "language": "python",
   "name": "python2"
  },
  "language_info": {
   "codemirror_mode": {
    "name": "ipython",
    "version": 2
   },
   "file_extension": ".py",
   "mimetype": "text/x-python",
   "name": "python",
   "nbconvert_exporter": "python",
   "pygments_lexer": "ipython2",
   "version": "2.7.6"
  }
 },
 "nbformat": 4,
 "nbformat_minor": 0
}
